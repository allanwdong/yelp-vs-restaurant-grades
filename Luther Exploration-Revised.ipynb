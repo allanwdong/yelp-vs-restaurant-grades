{
 "cells": [
  {
   "cell_type": "markdown",
   "metadata": {},
   "source": [
    "# Hypothesis: I can figure out how clean a restaurant is by its yelp ratings. Possibly by also including type of food and location of restaurant. \n",
    "# Null hypothesis: A restaurants inspection grade and yelp ratings are not correlated at all"
   ]
  },
  {
   "cell_type": "code",
   "execution_count": 1,
   "metadata": {},
   "outputs": [
    {
     "name": "stderr",
     "output_type": "stream",
     "text": [
      "/Users/allandong/anaconda/lib/python3.6/site-packages/statsmodels/compat/pandas.py:56: FutureWarning: The pandas.core.datetools module is deprecated and will be removed in a future version. Please use the pandas.tseries module instead.\n",
      "  from pandas.core import datetools\n",
      "/Users/allandong/anaconda/lib/python3.6/site-packages/sklearn/cross_validation.py:41: DeprecationWarning: This module was deprecated in version 0.18 in favor of the model_selection module into which all the refactored classes and functions are moved. Also note that the interface of the new CV iterators are different from that of this module. This module will be removed in 0.20.\n",
      "  \"This module will be removed in 0.20.\", DeprecationWarning)\n"
     ]
    }
   ],
   "source": [
    "import numpy as np\n",
    "import pandas as pd\n",
    "import os.path\n",
    "import json\n",
    "\n",
    "import matplotlib.pyplot as plt\n",
    "import seaborn as sns\n",
    "import patsy\n",
    "import statsmodels.api as sm\n",
    "import statsmodels.formula.api as smf\n",
    "\n",
    "from sklearn.linear_model import LinearRegression, RidgeCV, LogisticRegression\n",
    "from sklearn.model_selection import train_test_split, KFold, cross_val_score\n",
    "from sklearn.preprocessing import PolynomialFeatures\n",
    "from sklearn.pipeline import make_pipeline\n",
    "from sklearn.feature_extraction import DictVectorizer\n",
    "from sklearn.cross_validation import cross_val_score\n",
    "\n",
    "import sklearn.metrics as skmetrics\n",
    "\n",
    "%matplotlib inline\n",
    "\n"
   ]
  },
  {
   "cell_type": "markdown",
   "metadata": {},
   "source": [
    "# Data Gathering\n",
    "\n",
    "Reading NYC Restaurant Inspection data into DataFrame to grab restaurant title/address to generate appropriate yelp urls for futures scraping"
   ]
  },
  {
   "cell_type": "code",
   "execution_count": 2,
   "metadata": {
    "scrolled": true
   },
   "outputs": [],
   "source": [
    "nyccsv = '/Users/allandong/ds/metis/metisgh/Metis_Work/02-project-two-Luther/DOHMH_New_York_City_Restaurant_Inspection_Results.csv'\n",
    "\n",
    "df = pd.read_csv(nyccsv)\n",
    "\n",
    "cols = ['CAMIS', 'DBA', 'BORO', 'BUILDING', 'STREET', 'ZIPCODE', 'PHONE', 'CUISINE_DESC',\n",
    "           'INSPECTION_DATE', 'ACTION', 'VIOLATION_CODE', 'VIOLATION_DESC', 'CRITICAL_FLAG',\n",
    "           'SCORE', 'GRADE', 'GRADE_DATE', 'RECORD_DATE', 'INSPECTION_TYPE']\n",
    "df.columns = cols\n",
    "\n",
    "\n"
   ]
  },
  {
   "cell_type": "markdown",
   "metadata": {},
   "source": [
    "Yelp URLs are formulaic, by title and address. Generate Yelp URLs for scraping with scrapy."
   ]
  },
  {
   "cell_type": "code",
   "execution_count": 3,
   "metadata": {},
   "outputs": [
    {
     "name": "stderr",
     "output_type": "stream",
     "text": [
      "/Users/allandong/anaconda/lib/python3.6/site-packages/ipykernel_launcher.py:14: SettingWithCopyWarning: \n",
      "A value is trying to be set on a copy of a slice from a DataFrame.\n",
      "Try using .loc[row_indexer,col_indexer] = value instead\n",
      "\n",
      "See the caveats in the documentation: http://pandas.pydata.org/pandas-docs/stable/indexing.html#indexing-view-versus-copy\n",
      "  \n"
     ]
    }
   ],
   "source": [
    "df['ADDRESS'] = df.BUILDING + \" \" + df.STREET + \" \" + df.BORO\n",
    "\n",
    "def yelp_url_gen(row):\n",
    "    # yelp_url_gen:\n",
    "    #     Yelp search urls are formulatic based upon \"Find\" and \"Location\" inserted values -\n",
    "    #   so, I can generate what the urls would be if I serached by restaurant title and\n",
    "    #   restaurant address\n",
    "\n",
    "    title1 = row['DBA'].replace(\" \", \"+\")\n",
    "    address1 = row['ADDRESS'].replace(\" \", \"+\")\n",
    "    return \"https://www.yelp.com/search?find_desc={title1}&find_loc={address1}\".format(title1=title1, address1=address1)\n",
    "\n",
    "df_clean = df.dropna(axis=0, how='any')\n",
    "df_clean['URL'] = df_clean.apply(yelp_url_gen, axis = 1)"
   ]
  },
  {
   "cell_type": "markdown",
   "metadata": {},
   "source": [
    "Export to csv for access by scrapy program yelp_ratings.py"
   ]
  },
  {
   "cell_type": "code",
   "execution_count": 4,
   "metadata": {},
   "outputs": [],
   "source": [
    "path = '/Users/allandong/ds/metis/metisgh/Metis_Work/02-project-two-Luther/df_clean.csv'\n",
    "df_clean.to_csv(path)\n",
    "\n",
    "urllist=list(df_clean['URL'])"
   ]
  },
  {
   "cell_type": "code",
   "execution_count": 5,
   "metadata": {},
   "outputs": [
    {
     "name": "stderr",
     "output_type": "stream",
     "text": [
      "/Users/allandong/anaconda/lib/python3.6/site-packages/pandas/core/generic.py:3643: SettingWithCopyWarning: \n",
      "A value is trying to be set on a copy of a slice from a DataFrame.\n",
      "Try using .loc[row_indexer,col_indexer] = value instead\n",
      "\n",
      "See the caveats in the documentation: http://pandas.pydata.org/pandas-docs/stable/indexing.html#indexing-view-versus-copy\n",
      "  self[name] = value\n"
     ]
    }
   ],
   "source": [
    "df_clean.ZIPCODE = df_clean.loc[:, 'ZIPCODE'].astype(int)\n",
    "df_clean.ZIPCODE = df_clean.loc[:, 'ZIPCODE'].astype(str)"
   ]
  },
  {
   "cell_type": "code",
   "execution_count": 6,
   "metadata": {},
   "outputs": [
    {
     "data": {
      "text/plain": [
       "Index(['CAMIS', 'DBA', 'BORO', 'BUILDING', 'STREET', 'ZIPCODE', 'PHONE',\n",
       "       'CUISINE_DESC', 'INSPECTION_DATE', 'ACTION', 'VIOLATION_CODE',\n",
       "       'VIOLATION_DESC', 'CRITICAL_FLAG', 'SCORE', 'GRADE', 'GRADE_DATE',\n",
       "       'RECORD_DATE', 'INSPECTION_TYPE', 'ADDRESS', 'URL'],\n",
       "      dtype='object')"
      ]
     },
     "execution_count": 6,
     "metadata": {},
     "output_type": "execute_result"
    }
   ],
   "source": [
    "df_clean.columns"
   ]
  },
  {
   "cell_type": "markdown",
   "metadata": {},
   "source": [
    "# Data Exploration 1"
   ]
  },
  {
   "cell_type": "markdown",
   "metadata": {},
   "source": [
    "Testing and cleaning code\n",
    "\n",
    "df_stats = creating a smaller DataFrame to run regressions/plot"
   ]
  },
  {
   "cell_type": "code",
   "execution_count": 7,
   "metadata": {},
   "outputs": [],
   "source": [
    "df_stats = df_clean.drop(['CAMIS', \n",
    "                          'PHONE',\n",
    "                          'BORO', \n",
    "                          'BUILDING', \n",
    "                          'STREET', \n",
    "                          'ZIPCODE', \n",
    "                          'ACTION', \n",
    "                          'VIOLATION_CODE', \n",
    "                          'VIOLATION_DESC', \n",
    "                          'INSPECTION_TYPE', \n",
    "                          'URL'\n",
    "                         ], 1)\n"
   ]
  },
  {
   "cell_type": "markdown",
   "metadata": {},
   "source": [
    "Prep variables and defining functions to create Dummy Variables 'GRADE_NUM' and 'CRIT_FLAG_NUM'"
   ]
  },
  {
   "cell_type": "code",
   "execution_count": 8,
   "metadata": {},
   "outputs": [],
   "source": [
    "df_stats = df_stats[df_stats.GRADE != 'Z']\n",
    "df_stats = df_stats[df_stats.GRADE != 'P']\n",
    "df_stats = df_stats[df_stats.GRADE != 'Not Yet Graded']"
   ]
  },
  {
   "cell_type": "code",
   "execution_count": 9,
   "metadata": {},
   "outputs": [],
   "source": [
    "def grader(row):\n",
    "    grade = row['GRADE']\n",
    "    if grade=='A':\n",
    "        return 0\n",
    "    elif grade=='B':\n",
    "        return 5\n",
    "    elif grade=='C':\n",
    "        return 10\n",
    "    \n",
    "df_stats['GRADE_NUM'] = df_stats.apply(grader, axis=1)"
   ]
  },
  {
   "cell_type": "code",
   "execution_count": 10,
   "metadata": {},
   "outputs": [],
   "source": [
    "def criticalflag(row):\n",
    "    flag = row['CRITICAL_FLAG']\n",
    "    if flag == 'Critical':\n",
    "        return 1\n",
    "    elif flag == 'Not Critical':\n",
    "        return 0\n",
    "\n",
    "df_stats['CRIT_FLAG_NUM'] = df_stats.apply(criticalflag, axis=1)"
   ]
  },
  {
   "cell_type": "markdown",
   "metadata": {},
   "source": [
    "Drop remaining unneeded columns"
   ]
  },
  {
   "cell_type": "code",
   "execution_count": 11,
   "metadata": {},
   "outputs": [],
   "source": [
    "df_stats1=df_stats.drop(['DBA',\n",
    "                        'CUISINE_DESC',\n",
    "                        'INSPECTION_DATE',\n",
    "                        'CRITICAL_FLAG',\n",
    "                        'GRADE',\n",
    "                        'GRADE_DATE',\n",
    "                        'RECORD_DATE',\n",
    "                        'ADDRESS',\n",
    "                       ], 1)"
   ]
  },
  {
   "cell_type": "code",
   "execution_count": 12,
   "metadata": {},
   "outputs": [
    {
     "data": {
      "text/plain": [
       "<seaborn.axisgrid.PairGrid at 0x1c0bd9c400>"
      ]
     },
     "execution_count": 12,
     "metadata": {},
     "output_type": "execute_result"
    },
    {
     "data": {
      "image/png": "[encoded data removed]",
      "text/plain": [
       "<matplotlib.figure.Figure at 0x1c0bd9c438>"
      ]
     },
     "metadata": {},
     "output_type": "display_data"
    }
   ],
   "source": [
    "sns.pairplot(df_stats1[['SCORE', 'GRADE_NUM', 'CRIT_FLAG_NUM']], \n",
    "                       kind=\"scatter\",\n",
    "                       diag_kind=\"hist\"\n",
    "                       )\n"
   ]
  },
  {
   "cell_type": "markdown",
   "metadata": {},
   "source": [
    "#### OK, score is obiously very skewed to to lower values, but critical flags vs. non_critical flag is relatively even."
   ]
  },
  {
   "cell_type": "code",
   "execution_count": 13,
   "metadata": {
    "scrolled": false
   },
   "outputs": [
    {
     "data": {
      "text/plain": [
       "<Container object of 79 artists>"
      ]
     },
     "execution_count": 13,
     "metadata": {},
     "output_type": "execute_result"
    },
    {
     "data": {
      "image/png": "[encoded data removed]",
      "text/plain": [
       "<matplotlib.figure.Figure at 0x1c0a89be10>"
      ]
     },
     "metadata": {},
     "output_type": "display_data"
    }
   ],
   "source": [
    "# Show distribution of 'SCORE' values\n",
    "score = df_stats['SCORE'].value_counts()\n",
    "plt.figure(figsize=(12,12))\n",
    "plt.bar(score.index, score)\n"
   ]
  },
  {
   "cell_type": "code",
   "execution_count": null,
   "metadata": {},
   "outputs": [],
   "source": []
  },
  {
   "cell_type": "code",
   "execution_count": 14,
   "metadata": {},
   "outputs": [
    {
     "data": {
      "text/plain": [
       "<Container object of 78 artists>"
      ]
     },
     "execution_count": 14,
     "metadata": {},
     "output_type": "execute_result"
    },
    {
     "data": {
      "image/png": "[encoded data removed]",
      "text/plain": [
       "<matplotlib.figure.Figure at 0x1c0a8d3978>"
      ]
     },
     "metadata": {},
     "output_type": "display_data"
    }
   ],
   "source": [
    "df_stats['Sqrt_Score'] = df_stats['SCORE'].apply(np.sqrt)\n",
    "sqrtscore = df_stats['Sqrt_Score'].value_counts()\n",
    "plt.bar(sqrtscore.index, sqrtscore)"
   ]
  },
  {
   "cell_type": "code",
   "execution_count": 15,
   "metadata": {},
   "outputs": [
    {
     "name": "stderr",
     "output_type": "stream",
     "text": [
      "/Users/allandong/anaconda/lib/python3.6/site-packages/matplotlib/transforms.py:436: RuntimeWarning: invalid value encountered in double_scalars\n",
      "  return (x0, y0, x1 - x0, y1 - y0)\n"
     ]
    },
    {
     "data": {
      "text/plain": [
       "<Container object of 78 artists>"
      ]
     },
     "execution_count": 15,
     "metadata": {},
     "output_type": "execute_result"
    },
    {
     "data": {
      "image/png": "[encoded data removed]",
      "text/plain": [
       "<matplotlib.figure.Figure at 0x1c0dbe4358>"
      ]
     },
     "metadata": {},
     "output_type": "display_data"
    }
   ],
   "source": [
    "df_stats['Log_Score'] = df_stats['SCORE'].apply(np.log)\n",
    "logscore = df_stats['Log_Score'].value_counts()\n",
    "plt.bar(logscore.index, logscore)\n"
   ]
  },
  {
   "cell_type": "code",
   "execution_count": 16,
   "metadata": {},
   "outputs": [
    {
     "name": "stderr",
     "output_type": "stream",
     "text": [
      "/Users/allandong/anaconda/lib/python3.6/site-packages/matplotlib/transforms.py:436: RuntimeWarning: invalid value encountered in double_scalars\n",
      "  return (x0, y0, x1 - x0, y1 - y0)\n"
     ]
    },
    {
     "data": {
      "text/plain": [
       "<Container object of 78 artists>"
      ]
     },
     "execution_count": 16,
     "metadata": {},
     "output_type": "execute_result"
    },
    {
     "data": {
      "image/png": "[encoded data removed]",
      "text/plain": [
       "<matplotlib.figure.Figure at 0x1c0e0f7550>"
      ]
     },
     "metadata": {},
     "output_type": "display_data"
    }
   ],
   "source": [
    "def one_over_sqrt(x):\n",
    "    return np.reciprocal(np.sqrt(x))\n",
    "\n",
    "df_stats['1Sqrt_Score'] = df_stats['SCORE'].apply(one_over_sqrt)\n",
    "oneoversqrtscore = df_stats['1Sqrt_Score'].value_counts()\n",
    "plt.bar(oneoversqrtscore.index, oneoversqrtscore)"
   ]
  },
  {
   "cell_type": "code",
   "execution_count": 17,
   "metadata": {},
   "outputs": [
    {
     "data": {
      "image/png": "[encoded data removed]",
      "text/plain": [
       "<matplotlib.figure.Figure at 0x1c11ca5048>"
      ]
     },
     "metadata": {},
     "output_type": "display_data"
    }
   ],
   "source": [
    "from scipy import stats\n",
    "\n",
    "fig = plt.figure()\n",
    "ax1= fig.add_subplot(211)\n",
    "prob = stats.probplot(df_stats['SCORE'], plot=ax1)\n",
    "\n",
    "#ax2= fig.add_subplot(212)\n",
    "#prob = stats.probplot(df_stats['Log_Score'], plot=ax2)\n",
    "\n",
    "#ax3= fig.add_subplot(212)\n",
    "#xt = stats.boxcox(df_stats['SCORE'].values)\n",
    "#prob = stats.probplot(xt, plot=ax3)\n",
    "\n",
    "#score = df_stats['SCORE'].values"
   ]
  },
  {
   "cell_type": "code",
   "execution_count": 18,
   "metadata": {},
   "outputs": [
    {
     "data": {
      "text/plain": [
       "array([27.,  9., 12., ..., 12.,  9., 13.])"
      ]
     },
     "execution_count": 18,
     "metadata": {},
     "output_type": "execute_result"
    }
   ],
   "source": [
    "df_stats['SCORE'].values"
   ]
  },
  {
   "cell_type": "markdown",
   "metadata": {},
   "source": [
    "# Add Yelp Data, Data Cleaning"
   ]
  },
  {
   "cell_type": "markdown",
   "metadata": {},
   "source": [
    "df_yelp = Read in Yelp data as a DataFrame, and add a 'RATINGS' column that just has the rating number"
   ]
  },
  {
   "cell_type": "code",
   "execution_count": 19,
   "metadata": {},
   "outputs": [],
   "source": [
    "yelp = '/Users/allandong/ds/metis/metisgh/Metis_Work/02-project-two-Luther/yelp.csv'\n",
    "\n",
    "df_yelp= pd.read_csv(yelp)\n",
    "\n",
    "yelp_cols = ['URL', 'YELP_RATINGS']\n",
    "df_yelp.columns = yelp_cols\n",
    "\n",
    "df_yelp = df_yelp[df_yelp['YELP_RATINGS'] != 'yelp_ratings']\n",
    "\n",
    "def get_num(row):\n",
    "    return float(row['YELP_RATINGS'].split()[0])\n",
    "\n",
    "df_yelp['RATINGS'] = df_yelp.apply(get_num, axis=1)\n"
   ]
  },
  {
   "cell_type": "markdown",
   "metadata": {},
   "source": [
    "df_ex_pre_raw = Concating df_short and df_yelp and with NaN's dropped"
   ]
  },
  {
   "cell_type": "code",
   "execution_count": 20,
   "metadata": {},
   "outputs": [],
   "source": [
    "df_ex_pre_raw= pd.merge(df_clean, df_yelp, how='left',on='URL')\n",
    "\n",
    "df_ex_pre_raw = df_ex_pre_raw.drop_duplicates().dropna(axis=0, how='any')"
   ]
  },
  {
   "cell_type": "code",
   "execution_count": null,
   "metadata": {},
   "outputs": [],
   "source": []
  },
  {
   "cell_type": "code",
   "execution_count": 21,
   "metadata": {},
   "outputs": [
    {
     "data": {
      "text/plain": [
       "Index(['CAMIS', 'DBA', 'BORO', 'BUILDING', 'STREET', 'ZIPCODE', 'PHONE',\n",
       "       'CUISINE_DESC', 'INSPECTION_DATE', 'ACTION', 'VIOLATION_CODE',\n",
       "       'VIOLATION_DESC', 'CRITICAL_FLAG', 'SCORE', 'GRADE', 'GRADE_DATE',\n",
       "       'RECORD_DATE', 'INSPECTION_TYPE', 'ADDRESS', 'URL', 'YELP_RATINGS',\n",
       "       'RATINGS'],\n",
       "      dtype='object')"
      ]
     },
     "execution_count": 21,
     "metadata": {},
     "output_type": "execute_result"
    }
   ],
   "source": [
    "df_ex_pre_raw.columns"
   ]
  },
  {
   "cell_type": "code",
   "execution_count": 22,
   "metadata": {},
   "outputs": [],
   "source": [
    "df_ex_pre = df_ex_pre_raw.drop(['BUILDING', \n",
    "                              'STREET', \n",
    "                              'PHONE',\n",
    "                              'ADDRESS',\n",
    "                              'URL',\n",
    "                              'YELP_RATINGS'\n",
    "                                 ], 1)"
   ]
  },
  {
   "cell_type": "code",
   "execution_count": 23,
   "metadata": {
    "scrolled": true
   },
   "outputs": [],
   "source": [
    "df_ex_pre.INSPECTION_DATE = pd.to_datetime(df_ex_pre.INSPECTION_DATE)"
   ]
  },
  {
   "cell_type": "code",
   "execution_count": 24,
   "metadata": {},
   "outputs": [
    {
     "data": {
      "text/plain": [
       "Index(['CAMIS', 'DBA', 'BORO', 'ZIPCODE', 'CUISINE_DESC', 'INSPECTION_DATE',\n",
       "       'ACTION', 'VIOLATION_CODE', 'VIOLATION_DESC', 'CRITICAL_FLAG', 'SCORE',\n",
       "       'GRADE', 'GRADE_DATE', 'RECORD_DATE', 'INSPECTION_TYPE', 'RATINGS'],\n",
       "      dtype='object')"
      ]
     },
     "execution_count": 24,
     "metadata": {},
     "output_type": "execute_result"
    }
   ],
   "source": [
    "df_ex_pre.columns"
   ]
  },
  {
   "cell_type": "code",
   "execution_count": null,
   "metadata": {},
   "outputs": [],
   "source": []
  },
  {
   "cell_type": "code",
   "execution_count": null,
   "metadata": {},
   "outputs": [],
   "source": []
  },
  {
   "cell_type": "code",
   "execution_count": null,
   "metadata": {},
   "outputs": [],
   "source": []
  },
  {
   "cell_type": "code",
   "execution_count": null,
   "metadata": {},
   "outputs": [],
   "source": []
  },
  {
   "cell_type": "markdown",
   "metadata": {},
   "source": [
    "#### CAMIS id separates each individual reataurant"
   ]
  },
  {
   "cell_type": "code",
   "execution_count": 25,
   "metadata": {},
   "outputs": [
    {
     "data": {
      "text/plain": [
       "41592230    36\n",
       "41705634    34\n",
       "41686353    34\n",
       "40392685    33\n",
       "40645073    33\n",
       "Name: CAMIS, dtype: int64"
      ]
     },
     "execution_count": 25,
     "metadata": {},
     "output_type": "execute_result"
    }
   ],
   "source": [
    "df_ex_pre.CAMIS.value_counts().head()"
   ]
  },
  {
   "cell_type": "code",
   "execution_count": 26,
   "metadata": {},
   "outputs": [
    {
     "data": {
      "text/html": [
       "<div>\n",
       "<style scoped>\n",
       "    .dataframe tbody tr th:only-of-type {\n",
       "        vertical-align: middle;\n",
       "    }\n",
       "\n",
       "    .dataframe tbody tr th {\n",
       "        vertical-align: top;\n",
       "    }\n",
       "\n",
       "    .dataframe thead th {\n",
       "        text-align: right;\n",
       "    }\n",
       "</style>\n",
       "<table border=\"1\" class=\"dataframe\">\n",
       "  <thead>\n",
       "    <tr style=\"text-align: right;\">\n",
       "      <th></th>\n",
       "      <th>CAMIS</th>\n",
       "      <th>DBA</th>\n",
       "      <th>BORO</th>\n",
       "      <th>ZIPCODE</th>\n",
       "      <th>CUISINE_DESC</th>\n",
       "      <th>INSPECTION_DATE</th>\n",
       "      <th>ACTION</th>\n",
       "      <th>VIOLATION_CODE</th>\n",
       "      <th>VIOLATION_DESC</th>\n",
       "      <th>CRITICAL_FLAG</th>\n",
       "      <th>SCORE</th>\n",
       "      <th>GRADE</th>\n",
       "      <th>GRADE_DATE</th>\n",
       "      <th>RECORD_DATE</th>\n",
       "      <th>INSPECTION_TYPE</th>\n",
       "      <th>RATINGS</th>\n",
       "    </tr>\n",
       "  </thead>\n",
       "  <tbody>\n",
       "    <tr>\n",
       "      <th>186017</th>\n",
       "      <td>41592230</td>\n",
       "      <td>LA ISLA CAFE RESTAURANT</td>\n",
       "      <td>MANHATTAN</td>\n",
       "      <td>10002</td>\n",
       "      <td>Latin (Cuban, Dominican, Puerto Rican, South &amp;...</td>\n",
       "      <td>2015-05-28</td>\n",
       "      <td>Violations were cited in the following area(s).</td>\n",
       "      <td>04N</td>\n",
       "      <td>Filth flies or food/refuse/sewage-associated (...</td>\n",
       "      <td>Critical</td>\n",
       "      <td>27.0</td>\n",
       "      <td>B</td>\n",
       "      <td>05/28/2015</td>\n",
       "      <td>07/09/2017</td>\n",
       "      <td>Cycle Inspection / Re-inspection</td>\n",
       "      <td>3.5</td>\n",
       "    </tr>\n",
       "    <tr>\n",
       "      <th>407595</th>\n",
       "      <td>41592230</td>\n",
       "      <td>LA ISLA CAFE RESTAURANT</td>\n",
       "      <td>MANHATTAN</td>\n",
       "      <td>10002</td>\n",
       "      <td>Latin (Cuban, Dominican, Puerto Rican, South &amp;...</td>\n",
       "      <td>2015-05-28</td>\n",
       "      <td>Violations were cited in the following area(s).</td>\n",
       "      <td>08A</td>\n",
       "      <td>Facility not vermin proof. Harborage or condit...</td>\n",
       "      <td>Not Critical</td>\n",
       "      <td>27.0</td>\n",
       "      <td>B</td>\n",
       "      <td>05/28/2015</td>\n",
       "      <td>07/09/2017</td>\n",
       "      <td>Cycle Inspection / Re-inspection</td>\n",
       "      <td>3.5</td>\n",
       "    </tr>\n",
       "    <tr>\n",
       "      <th>427062</th>\n",
       "      <td>41592230</td>\n",
       "      <td>LA ISLA CAFE RESTAURANT</td>\n",
       "      <td>MANHATTAN</td>\n",
       "      <td>10002</td>\n",
       "      <td>Latin (Cuban, Dominican, Puerto Rican, South &amp;...</td>\n",
       "      <td>2014-07-28</td>\n",
       "      <td>Violations were cited in the following area(s).</td>\n",
       "      <td>06F</td>\n",
       "      <td>Wiping cloths soiled or not stored in sanitizi...</td>\n",
       "      <td>Critical</td>\n",
       "      <td>25.0</td>\n",
       "      <td>B</td>\n",
       "      <td>07/28/2014</td>\n",
       "      <td>07/09/2017</td>\n",
       "      <td>Cycle Inspection / Re-inspection</td>\n",
       "      <td>3.5</td>\n",
       "    </tr>\n",
       "    <tr>\n",
       "      <th>488117</th>\n",
       "      <td>41592230</td>\n",
       "      <td>LA ISLA CAFE RESTAURANT</td>\n",
       "      <td>MANHATTAN</td>\n",
       "      <td>10002</td>\n",
       "      <td>Latin (Cuban, Dominican, Puerto Rican, South &amp;...</td>\n",
       "      <td>2016-05-11</td>\n",
       "      <td>Violations were cited in the following area(s).</td>\n",
       "      <td>10F</td>\n",
       "      <td>Non-food contact surface improperly constructe...</td>\n",
       "      <td>Not Critical</td>\n",
       "      <td>13.0</td>\n",
       "      <td>A</td>\n",
       "      <td>05/11/2016</td>\n",
       "      <td>07/09/2017</td>\n",
       "      <td>Cycle Inspection / Initial Inspection</td>\n",
       "      <td>3.5</td>\n",
       "    </tr>\n",
       "    <tr>\n",
       "      <th>577921</th>\n",
       "      <td>41592230</td>\n",
       "      <td>LA ISLA CAFE RESTAURANT</td>\n",
       "      <td>MANHATTAN</td>\n",
       "      <td>10002</td>\n",
       "      <td>Latin (Cuban, Dominican, Puerto Rican, South &amp;...</td>\n",
       "      <td>2014-07-28</td>\n",
       "      <td>Violations were cited in the following area(s).</td>\n",
       "      <td>04N</td>\n",
       "      <td>Filth flies or food/refuse/sewage-associated (...</td>\n",
       "      <td>Critical</td>\n",
       "      <td>25.0</td>\n",
       "      <td>B</td>\n",
       "      <td>07/28/2014</td>\n",
       "      <td>07/09/2017</td>\n",
       "      <td>Cycle Inspection / Re-inspection</td>\n",
       "      <td>3.5</td>\n",
       "    </tr>\n",
       "    <tr>\n",
       "      <th>582515</th>\n",
       "      <td>41592230</td>\n",
       "      <td>LA ISLA CAFE RESTAURANT</td>\n",
       "      <td>MANHATTAN</td>\n",
       "      <td>10002</td>\n",
       "      <td>Latin (Cuban, Dominican, Puerto Rican, South &amp;...</td>\n",
       "      <td>2015-01-20</td>\n",
       "      <td>Violations were cited in the following area(s).</td>\n",
       "      <td>02B</td>\n",
       "      <td>Hot food item not held at or above 140Âº F.</td>\n",
       "      <td>Critical</td>\n",
       "      <td>13.0</td>\n",
       "      <td>A</td>\n",
       "      <td>01/20/2015</td>\n",
       "      <td>07/09/2017</td>\n",
       "      <td>Cycle Inspection / Re-inspection</td>\n",
       "      <td>3.5</td>\n",
       "    </tr>\n",
       "    <tr>\n",
       "      <th>626327</th>\n",
       "      <td>41592230</td>\n",
       "      <td>LA ISLA CAFE RESTAURANT</td>\n",
       "      <td>MANHATTAN</td>\n",
       "      <td>10002</td>\n",
       "      <td>Latin (Cuban, Dominican, Puerto Rican, South &amp;...</td>\n",
       "      <td>2013-05-15</td>\n",
       "      <td>Violations were cited in the following area(s).</td>\n",
       "      <td>02H</td>\n",
       "      <td>Food not cooled by an approved method whereby ...</td>\n",
       "      <td>Critical</td>\n",
       "      <td>20.0</td>\n",
       "      <td>B</td>\n",
       "      <td>05/15/2013</td>\n",
       "      <td>07/09/2017</td>\n",
       "      <td>Cycle Inspection / Re-inspection</td>\n",
       "      <td>3.5</td>\n",
       "    </tr>\n",
       "    <tr>\n",
       "      <th>629555</th>\n",
       "      <td>41592230</td>\n",
       "      <td>LA ISLA CAFE RESTAURANT</td>\n",
       "      <td>MANHATTAN</td>\n",
       "      <td>10002</td>\n",
       "      <td>Latin (Cuban, Dominican, Puerto Rican, South &amp;...</td>\n",
       "      <td>2015-10-13</td>\n",
       "      <td>Violations were cited in the following area(s).</td>\n",
       "      <td>02G</td>\n",
       "      <td>Cold food item held above 41Âº F (smoked fish ...</td>\n",
       "      <td>Critical</td>\n",
       "      <td>56.0</td>\n",
       "      <td>C</td>\n",
       "      <td>10/13/2015</td>\n",
       "      <td>07/09/2017</td>\n",
       "      <td>Cycle Inspection / Re-inspection</td>\n",
       "      <td>3.5</td>\n",
       "    </tr>\n",
       "    <tr>\n",
       "      <th>633521</th>\n",
       "      <td>41592230</td>\n",
       "      <td>LA ISLA CAFE RESTAURANT</td>\n",
       "      <td>MANHATTAN</td>\n",
       "      <td>10002</td>\n",
       "      <td>Latin (Cuban, Dominican, Puerto Rican, South &amp;...</td>\n",
       "      <td>2013-05-15</td>\n",
       "      <td>Violations were cited in the following area(s).</td>\n",
       "      <td>10B</td>\n",
       "      <td>Plumbing not properly installed or maintained;...</td>\n",
       "      <td>Not Critical</td>\n",
       "      <td>20.0</td>\n",
       "      <td>B</td>\n",
       "      <td>05/15/2013</td>\n",
       "      <td>07/09/2017</td>\n",
       "      <td>Cycle Inspection / Re-inspection</td>\n",
       "      <td>3.5</td>\n",
       "    </tr>\n",
       "    <tr>\n",
       "      <th>692711</th>\n",
       "      <td>41592230</td>\n",
       "      <td>LA ISLA CAFE RESTAURANT</td>\n",
       "      <td>MANHATTAN</td>\n",
       "      <td>10002</td>\n",
       "      <td>Latin (Cuban, Dominican, Puerto Rican, South &amp;...</td>\n",
       "      <td>2013-05-15</td>\n",
       "      <td>Violations were cited in the following area(s).</td>\n",
       "      <td>04K</td>\n",
       "      <td>Evidence of rats or live rats present in facil...</td>\n",
       "      <td>Critical</td>\n",
       "      <td>20.0</td>\n",
       "      <td>B</td>\n",
       "      <td>05/15/2013</td>\n",
       "      <td>07/09/2017</td>\n",
       "      <td>Cycle Inspection / Re-inspection</td>\n",
       "      <td>3.5</td>\n",
       "    </tr>\n",
       "    <tr>\n",
       "      <th>813239</th>\n",
       "      <td>41592230</td>\n",
       "      <td>LA ISLA CAFE RESTAURANT</td>\n",
       "      <td>MANHATTAN</td>\n",
       "      <td>10002</td>\n",
       "      <td>Latin (Cuban, Dominican, Puerto Rican, South &amp;...</td>\n",
       "      <td>2014-07-28</td>\n",
       "      <td>Violations were cited in the following area(s).</td>\n",
       "      <td>04M</td>\n",
       "      <td>Live roaches present in facility's food and/or...</td>\n",
       "      <td>Critical</td>\n",
       "      <td>25.0</td>\n",
       "      <td>B</td>\n",
       "      <td>07/28/2014</td>\n",
       "      <td>07/09/2017</td>\n",
       "      <td>Cycle Inspection / Re-inspection</td>\n",
       "      <td>3.5</td>\n",
       "    </tr>\n",
       "    <tr>\n",
       "      <th>828876</th>\n",
       "      <td>41592230</td>\n",
       "      <td>LA ISLA CAFE RESTAURANT</td>\n",
       "      <td>MANHATTAN</td>\n",
       "      <td>10002</td>\n",
       "      <td>Latin (Cuban, Dominican, Puerto Rican, South &amp;...</td>\n",
       "      <td>2015-10-13</td>\n",
       "      <td>Violations were cited in the following area(s).</td>\n",
       "      <td>04N</td>\n",
       "      <td>Filth flies or food/refuse/sewage-associated (...</td>\n",
       "      <td>Critical</td>\n",
       "      <td>56.0</td>\n",
       "      <td>C</td>\n",
       "      <td>10/13/2015</td>\n",
       "      <td>07/09/2017</td>\n",
       "      <td>Cycle Inspection / Re-inspection</td>\n",
       "      <td>3.5</td>\n",
       "    </tr>\n",
       "    <tr>\n",
       "      <th>891418</th>\n",
       "      <td>41592230</td>\n",
       "      <td>LA ISLA CAFE RESTAURANT</td>\n",
       "      <td>MANHATTAN</td>\n",
       "      <td>10002</td>\n",
       "      <td>Latin (Cuban, Dominican, Puerto Rican, South &amp;...</td>\n",
       "      <td>2014-07-28</td>\n",
       "      <td>Violations were cited in the following area(s).</td>\n",
       "      <td>08A</td>\n",
       "      <td>Facility not vermin proof. Harborage or condit...</td>\n",
       "      <td>Not Critical</td>\n",
       "      <td>25.0</td>\n",
       "      <td>B</td>\n",
       "      <td>07/28/2014</td>\n",
       "      <td>07/09/2017</td>\n",
       "      <td>Cycle Inspection / Re-inspection</td>\n",
       "      <td>3.5</td>\n",
       "    </tr>\n",
       "    <tr>\n",
       "      <th>1003459</th>\n",
       "      <td>41592230</td>\n",
       "      <td>LA ISLA CAFE RESTAURANT</td>\n",
       "      <td>MANHATTAN</td>\n",
       "      <td>10002</td>\n",
       "      <td>Latin (Cuban, Dominican, Puerto Rican, South &amp;...</td>\n",
       "      <td>2015-01-20</td>\n",
       "      <td>Violations were cited in the following area(s).</td>\n",
       "      <td>10F</td>\n",
       "      <td>Non-food contact surface improperly constructe...</td>\n",
       "      <td>Not Critical</td>\n",
       "      <td>13.0</td>\n",
       "      <td>A</td>\n",
       "      <td>01/20/2015</td>\n",
       "      <td>07/09/2017</td>\n",
       "      <td>Cycle Inspection / Re-inspection</td>\n",
       "      <td>3.5</td>\n",
       "    </tr>\n",
       "    <tr>\n",
       "      <th>1035774</th>\n",
       "      <td>41592230</td>\n",
       "      <td>LA ISLA CAFE RESTAURANT</td>\n",
       "      <td>MANHATTAN</td>\n",
       "      <td>10002</td>\n",
       "      <td>Latin (Cuban, Dominican, Puerto Rican, South &amp;...</td>\n",
       "      <td>2014-03-18</td>\n",
       "      <td>Violations were cited in the following area(s).</td>\n",
       "      <td>02H</td>\n",
       "      <td>Food not cooled by an approved method whereby ...</td>\n",
       "      <td>Critical</td>\n",
       "      <td>22.0</td>\n",
       "      <td>B</td>\n",
       "      <td>03/18/2014</td>\n",
       "      <td>07/09/2017</td>\n",
       "      <td>Cycle Inspection / Re-inspection</td>\n",
       "      <td>3.5</td>\n",
       "    </tr>\n",
       "    <tr>\n",
       "      <th>1233650</th>\n",
       "      <td>41592230</td>\n",
       "      <td>LA ISLA CAFE RESTAURANT</td>\n",
       "      <td>MANHATTAN</td>\n",
       "      <td>10002</td>\n",
       "      <td>Latin (Cuban, Dominican, Puerto Rican, South &amp;...</td>\n",
       "      <td>2015-05-28</td>\n",
       "      <td>Violations were cited in the following area(s).</td>\n",
       "      <td>02G</td>\n",
       "      <td>Cold food item held above 41Âº F (smoked fish ...</td>\n",
       "      <td>Critical</td>\n",
       "      <td>27.0</td>\n",
       "      <td>B</td>\n",
       "      <td>05/28/2015</td>\n",
       "      <td>07/09/2017</td>\n",
       "      <td>Cycle Inspection / Re-inspection</td>\n",
       "      <td>3.5</td>\n",
       "    </tr>\n",
       "    <tr>\n",
       "      <th>1272481</th>\n",
       "      <td>41592230</td>\n",
       "      <td>LA ISLA CAFE RESTAURANT</td>\n",
       "      <td>MANHATTAN</td>\n",
       "      <td>10002</td>\n",
       "      <td>Latin (Cuban, Dominican, Puerto Rican, South &amp;...</td>\n",
       "      <td>2016-05-11</td>\n",
       "      <td>Violations were cited in the following area(s).</td>\n",
       "      <td>10B</td>\n",
       "      <td>Plumbing not properly installed or maintained;...</td>\n",
       "      <td>Not Critical</td>\n",
       "      <td>13.0</td>\n",
       "      <td>A</td>\n",
       "      <td>05/11/2016</td>\n",
       "      <td>07/09/2017</td>\n",
       "      <td>Cycle Inspection / Initial Inspection</td>\n",
       "      <td>3.5</td>\n",
       "    </tr>\n",
       "    <tr>\n",
       "      <th>1324393</th>\n",
       "      <td>41592230</td>\n",
       "      <td>LA ISLA CAFE RESTAURANT</td>\n",
       "      <td>MANHATTAN</td>\n",
       "      <td>10002</td>\n",
       "      <td>Latin (Cuban, Dominican, Puerto Rican, South &amp;...</td>\n",
       "      <td>2015-10-13</td>\n",
       "      <td>Violations were cited in the following area(s).</td>\n",
       "      <td>08A</td>\n",
       "      <td>Facility not vermin proof. Harborage or condit...</td>\n",
       "      <td>Not Critical</td>\n",
       "      <td>56.0</td>\n",
       "      <td>C</td>\n",
       "      <td>10/13/2015</td>\n",
       "      <td>07/09/2017</td>\n",
       "      <td>Cycle Inspection / Re-inspection</td>\n",
       "      <td>3.5</td>\n",
       "    </tr>\n",
       "    <tr>\n",
       "      <th>1343616</th>\n",
       "      <td>41592230</td>\n",
       "      <td>LA ISLA CAFE RESTAURANT</td>\n",
       "      <td>MANHATTAN</td>\n",
       "      <td>10002</td>\n",
       "      <td>Latin (Cuban, Dominican, Puerto Rican, South &amp;...</td>\n",
       "      <td>2015-05-28</td>\n",
       "      <td>Violations were cited in the following area(s).</td>\n",
       "      <td>02B</td>\n",
       "      <td>Hot food item not held at or above 140Âº F.</td>\n",
       "      <td>Critical</td>\n",
       "      <td>27.0</td>\n",
       "      <td>B</td>\n",
       "      <td>05/28/2015</td>\n",
       "      <td>07/09/2017</td>\n",
       "      <td>Cycle Inspection / Re-inspection</td>\n",
       "      <td>3.5</td>\n",
       "    </tr>\n",
       "    <tr>\n",
       "      <th>1344189</th>\n",
       "      <td>41592230</td>\n",
       "      <td>LA ISLA CAFE RESTAURANT</td>\n",
       "      <td>MANHATTAN</td>\n",
       "      <td>10002</td>\n",
       "      <td>Latin (Cuban, Dominican, Puerto Rican, South &amp;...</td>\n",
       "      <td>2013-10-11</td>\n",
       "      <td>Violations were cited in the following area(s).</td>\n",
       "      <td>02B</td>\n",
       "      <td>Hot food item not held at or above 140Âº F.</td>\n",
       "      <td>Critical</td>\n",
       "      <td>39.0</td>\n",
       "      <td>C</td>\n",
       "      <td>10/11/2013</td>\n",
       "      <td>07/09/2017</td>\n",
       "      <td>Cycle Inspection / Re-inspection</td>\n",
       "      <td>3.5</td>\n",
       "    </tr>\n",
       "    <tr>\n",
       "      <th>1514340</th>\n",
       "      <td>41592230</td>\n",
       "      <td>LA ISLA CAFE RESTAURANT</td>\n",
       "      <td>MANHATTAN</td>\n",
       "      <td>10002</td>\n",
       "      <td>Latin (Cuban, Dominican, Puerto Rican, South &amp;...</td>\n",
       "      <td>2013-10-11</td>\n",
       "      <td>Violations were cited in the following area(s).</td>\n",
       "      <td>04L</td>\n",
       "      <td>Evidence of mice or live mice present in facil...</td>\n",
       "      <td>Critical</td>\n",
       "      <td>39.0</td>\n",
       "      <td>C</td>\n",
       "      <td>10/11/2013</td>\n",
       "      <td>07/09/2017</td>\n",
       "      <td>Cycle Inspection / Re-inspection</td>\n",
       "      <td>3.5</td>\n",
       "    </tr>\n",
       "    <tr>\n",
       "      <th>1555731</th>\n",
       "      <td>41592230</td>\n",
       "      <td>LA ISLA CAFE RESTAURANT</td>\n",
       "      <td>MANHATTAN</td>\n",
       "      <td>10002</td>\n",
       "      <td>Latin (Cuban, Dominican, Puerto Rican, South &amp;...</td>\n",
       "      <td>2013-10-11</td>\n",
       "      <td>Violations were cited in the following area(s).</td>\n",
       "      <td>04A</td>\n",
       "      <td>Food Protection Certificate not held by superv...</td>\n",
       "      <td>Critical</td>\n",
       "      <td>39.0</td>\n",
       "      <td>C</td>\n",
       "      <td>10/11/2013</td>\n",
       "      <td>07/09/2017</td>\n",
       "      <td>Cycle Inspection / Re-inspection</td>\n",
       "      <td>3.5</td>\n",
       "    </tr>\n",
       "    <tr>\n",
       "      <th>1587931</th>\n",
       "      <td>41592230</td>\n",
       "      <td>LA ISLA CAFE RESTAURANT</td>\n",
       "      <td>MANHATTAN</td>\n",
       "      <td>10002</td>\n",
       "      <td>Latin (Cuban, Dominican, Puerto Rican, South &amp;...</td>\n",
       "      <td>2013-10-11</td>\n",
       "      <td>Violations were cited in the following area(s).</td>\n",
       "      <td>08A</td>\n",
       "      <td>Facility not vermin proof. Harborage or condit...</td>\n",
       "      <td>Not Critical</td>\n",
       "      <td>39.0</td>\n",
       "      <td>C</td>\n",
       "      <td>10/11/2013</td>\n",
       "      <td>07/09/2017</td>\n",
       "      <td>Cycle Inspection / Re-inspection</td>\n",
       "      <td>3.5</td>\n",
       "    </tr>\n",
       "    <tr>\n",
       "      <th>1598339</th>\n",
       "      <td>41592230</td>\n",
       "      <td>LA ISLA CAFE RESTAURANT</td>\n",
       "      <td>MANHATTAN</td>\n",
       "      <td>10002</td>\n",
       "      <td>Latin (Cuban, Dominican, Puerto Rican, South &amp;...</td>\n",
       "      <td>2013-10-11</td>\n",
       "      <td>Violations were cited in the following area(s).</td>\n",
       "      <td>02G</td>\n",
       "      <td>Cold food item held above 41Âº F (smoked fish ...</td>\n",
       "      <td>Critical</td>\n",
       "      <td>39.0</td>\n",
       "      <td>C</td>\n",
       "      <td>10/11/2013</td>\n",
       "      <td>07/09/2017</td>\n",
       "      <td>Cycle Inspection / Re-inspection</td>\n",
       "      <td>3.5</td>\n",
       "    </tr>\n",
       "    <tr>\n",
       "      <th>1664392</th>\n",
       "      <td>41592230</td>\n",
       "      <td>LA ISLA CAFE RESTAURANT</td>\n",
       "      <td>MANHATTAN</td>\n",
       "      <td>10002</td>\n",
       "      <td>Latin (Cuban, Dominican, Puerto Rican, South &amp;...</td>\n",
       "      <td>2014-03-18</td>\n",
       "      <td>Violations were cited in the following area(s).</td>\n",
       "      <td>06C</td>\n",
       "      <td>Food not protected from potential source of co...</td>\n",
       "      <td>Critical</td>\n",
       "      <td>22.0</td>\n",
       "      <td>B</td>\n",
       "      <td>03/18/2014</td>\n",
       "      <td>07/09/2017</td>\n",
       "      <td>Cycle Inspection / Re-inspection</td>\n",
       "      <td>3.5</td>\n",
       "    </tr>\n",
       "    <tr>\n",
       "      <th>1682543</th>\n",
       "      <td>41592230</td>\n",
       "      <td>LA ISLA CAFE RESTAURANT</td>\n",
       "      <td>MANHATTAN</td>\n",
       "      <td>10002</td>\n",
       "      <td>Latin (Cuban, Dominican, Puerto Rican, South &amp;...</td>\n",
       "      <td>2015-05-28</td>\n",
       "      <td>Violations were cited in the following area(s).</td>\n",
       "      <td>10F</td>\n",
       "      <td>Non-food contact surface improperly constructe...</td>\n",
       "      <td>Not Critical</td>\n",
       "      <td>27.0</td>\n",
       "      <td>B</td>\n",
       "      <td>05/28/2015</td>\n",
       "      <td>07/09/2017</td>\n",
       "      <td>Cycle Inspection / Re-inspection</td>\n",
       "      <td>3.5</td>\n",
       "    </tr>\n",
       "    <tr>\n",
       "      <th>1756336</th>\n",
       "      <td>41592230</td>\n",
       "      <td>LA ISLA CAFE RESTAURANT</td>\n",
       "      <td>MANHATTAN</td>\n",
       "      <td>10002</td>\n",
       "      <td>Latin (Cuban, Dominican, Puerto Rican, South &amp;...</td>\n",
       "      <td>2016-05-11</td>\n",
       "      <td>Violations were cited in the following area(s).</td>\n",
       "      <td>02B</td>\n",
       "      <td>Hot food item not held at or above 140Âº F.</td>\n",
       "      <td>Critical</td>\n",
       "      <td>13.0</td>\n",
       "      <td>A</td>\n",
       "      <td>05/11/2016</td>\n",
       "      <td>07/09/2017</td>\n",
       "      <td>Cycle Inspection / Initial Inspection</td>\n",
       "      <td>3.5</td>\n",
       "    </tr>\n",
       "    <tr>\n",
       "      <th>1880138</th>\n",
       "      <td>41592230</td>\n",
       "      <td>LA ISLA CAFE RESTAURANT</td>\n",
       "      <td>MANHATTAN</td>\n",
       "      <td>10002</td>\n",
       "      <td>Latin (Cuban, Dominican, Puerto Rican, South &amp;...</td>\n",
       "      <td>2015-10-13</td>\n",
       "      <td>Violations were cited in the following area(s).</td>\n",
       "      <td>02B</td>\n",
       "      <td>Hot food item not held at or above 140Âº F.</td>\n",
       "      <td>Critical</td>\n",
       "      <td>56.0</td>\n",
       "      <td>C</td>\n",
       "      <td>10/13/2015</td>\n",
       "      <td>07/09/2017</td>\n",
       "      <td>Cycle Inspection / Re-inspection</td>\n",
       "      <td>3.5</td>\n",
       "    </tr>\n",
       "    <tr>\n",
       "      <th>1982369</th>\n",
       "      <td>41592230</td>\n",
       "      <td>LA ISLA CAFE RESTAURANT</td>\n",
       "      <td>MANHATTAN</td>\n",
       "      <td>10002</td>\n",
       "      <td>Latin (Cuban, Dominican, Puerto Rican, South &amp;...</td>\n",
       "      <td>2014-07-28</td>\n",
       "      <td>Violations were cited in the following area(s).</td>\n",
       "      <td>02G</td>\n",
       "      <td>Cold food item held above 41Âº F (smoked fish ...</td>\n",
       "      <td>Critical</td>\n",
       "      <td>25.0</td>\n",
       "      <td>B</td>\n",
       "      <td>07/28/2014</td>\n",
       "      <td>07/09/2017</td>\n",
       "      <td>Cycle Inspection / Re-inspection</td>\n",
       "      <td>3.5</td>\n",
       "    </tr>\n",
       "    <tr>\n",
       "      <th>2011763</th>\n",
       "      <td>41592230</td>\n",
       "      <td>LA ISLA CAFE RESTAURANT</td>\n",
       "      <td>MANHATTAN</td>\n",
       "      <td>10002</td>\n",
       "      <td>Latin (Cuban, Dominican, Puerto Rican, South &amp;...</td>\n",
       "      <td>2014-07-28</td>\n",
       "      <td>Violations were cited in the following area(s).</td>\n",
       "      <td>10F</td>\n",
       "      <td>Non-food contact surface improperly constructe...</td>\n",
       "      <td>Not Critical</td>\n",
       "      <td>25.0</td>\n",
       "      <td>B</td>\n",
       "      <td>07/28/2014</td>\n",
       "      <td>07/09/2017</td>\n",
       "      <td>Cycle Inspection / Re-inspection</td>\n",
       "      <td>3.5</td>\n",
       "    </tr>\n",
       "    <tr>\n",
       "      <th>2089553</th>\n",
       "      <td>41592230</td>\n",
       "      <td>LA ISLA CAFE RESTAURANT</td>\n",
       "      <td>MANHATTAN</td>\n",
       "      <td>10002</td>\n",
       "      <td>Latin (Cuban, Dominican, Puerto Rican, South &amp;...</td>\n",
       "      <td>2013-10-11</td>\n",
       "      <td>Violations were cited in the following area(s).</td>\n",
       "      <td>04O</td>\n",
       "      <td>Live animals other than fish in tank or servic...</td>\n",
       "      <td>Critical</td>\n",
       "      <td>39.0</td>\n",
       "      <td>C</td>\n",
       "      <td>10/11/2013</td>\n",
       "      <td>07/09/2017</td>\n",
       "      <td>Cycle Inspection / Re-inspection</td>\n",
       "      <td>3.5</td>\n",
       "    </tr>\n",
       "    <tr>\n",
       "      <th>2136141</th>\n",
       "      <td>41592230</td>\n",
       "      <td>LA ISLA CAFE RESTAURANT</td>\n",
       "      <td>MANHATTAN</td>\n",
       "      <td>10002</td>\n",
       "      <td>Latin (Cuban, Dominican, Puerto Rican, South &amp;...</td>\n",
       "      <td>2015-10-13</td>\n",
       "      <td>Violations were cited in the following area(s).</td>\n",
       "      <td>04M</td>\n",
       "      <td>Live roaches present in facility's food and/or...</td>\n",
       "      <td>Critical</td>\n",
       "      <td>56.0</td>\n",
       "      <td>C</td>\n",
       "      <td>10/13/2015</td>\n",
       "      <td>07/09/2017</td>\n",
       "      <td>Cycle Inspection / Re-inspection</td>\n",
       "      <td>3.5</td>\n",
       "    </tr>\n",
       "    <tr>\n",
       "      <th>2155463</th>\n",
       "      <td>41592230</td>\n",
       "      <td>LA ISLA CAFE RESTAURANT</td>\n",
       "      <td>MANHATTAN</td>\n",
       "      <td>10002</td>\n",
       "      <td>Latin (Cuban, Dominican, Puerto Rican, South &amp;...</td>\n",
       "      <td>2013-05-15</td>\n",
       "      <td>Violations were cited in the following area(s).</td>\n",
       "      <td>08A</td>\n",
       "      <td>Facility not vermin proof. Harborage or condit...</td>\n",
       "      <td>Not Critical</td>\n",
       "      <td>20.0</td>\n",
       "      <td>B</td>\n",
       "      <td>05/15/2013</td>\n",
       "      <td>07/09/2017</td>\n",
       "      <td>Cycle Inspection / Re-inspection</td>\n",
       "      <td>3.5</td>\n",
       "    </tr>\n",
       "    <tr>\n",
       "      <th>2166327</th>\n",
       "      <td>41592230</td>\n",
       "      <td>LA ISLA CAFE RESTAURANT</td>\n",
       "      <td>MANHATTAN</td>\n",
       "      <td>10002</td>\n",
       "      <td>Latin (Cuban, Dominican, Puerto Rican, South &amp;...</td>\n",
       "      <td>2013-05-15</td>\n",
       "      <td>Violations were cited in the following area(s).</td>\n",
       "      <td>04L</td>\n",
       "      <td>Evidence of mice or live mice present in facil...</td>\n",
       "      <td>Critical</td>\n",
       "      <td>20.0</td>\n",
       "      <td>B</td>\n",
       "      <td>05/15/2013</td>\n",
       "      <td>07/09/2017</td>\n",
       "      <td>Cycle Inspection / Re-inspection</td>\n",
       "      <td>3.5</td>\n",
       "    </tr>\n",
       "    <tr>\n",
       "      <th>2296163</th>\n",
       "      <td>41592230</td>\n",
       "      <td>LA ISLA CAFE RESTAURANT</td>\n",
       "      <td>MANHATTAN</td>\n",
       "      <td>10002</td>\n",
       "      <td>Latin (Cuban, Dominican, Puerto Rican, South &amp;...</td>\n",
       "      <td>2014-03-18</td>\n",
       "      <td>Violations were cited in the following area(s).</td>\n",
       "      <td>02B</td>\n",
       "      <td>Hot food item not held at or above 140Âº F.</td>\n",
       "      <td>Critical</td>\n",
       "      <td>22.0</td>\n",
       "      <td>B</td>\n",
       "      <td>03/18/2014</td>\n",
       "      <td>07/09/2017</td>\n",
       "      <td>Cycle Inspection / Re-inspection</td>\n",
       "      <td>3.5</td>\n",
       "    </tr>\n",
       "    <tr>\n",
       "      <th>2298917</th>\n",
       "      <td>41592230</td>\n",
       "      <td>LA ISLA CAFE RESTAURANT</td>\n",
       "      <td>MANHATTAN</td>\n",
       "      <td>10002</td>\n",
       "      <td>Latin (Cuban, Dominican, Puerto Rican, South &amp;...</td>\n",
       "      <td>2015-10-13</td>\n",
       "      <td>Violations were cited in the following area(s).</td>\n",
       "      <td>06C</td>\n",
       "      <td>Food not protected from potential source of co...</td>\n",
       "      <td>Critical</td>\n",
       "      <td>56.0</td>\n",
       "      <td>C</td>\n",
       "      <td>10/13/2015</td>\n",
       "      <td>07/09/2017</td>\n",
       "      <td>Cycle Inspection / Re-inspection</td>\n",
       "      <td>3.5</td>\n",
       "    </tr>\n",
       "  </tbody>\n",
       "</table>\n",
       "</div>"
      ],
      "text/plain": [
       "            CAMIS                      DBA       BORO ZIPCODE  \\\n",
       "186017   41592230  LA ISLA CAFE RESTAURANT  MANHATTAN   10002   \n",
       "407595   41592230  LA ISLA CAFE RESTAURANT  MANHATTAN   10002   \n",
       "427062   41592230  LA ISLA CAFE RESTAURANT  MANHATTAN   10002   \n",
       "488117   41592230  LA ISLA CAFE RESTAURANT  MANHATTAN   10002   \n",
       "577921   41592230  LA ISLA CAFE RESTAURANT  MANHATTAN   10002   \n",
       "582515   41592230  LA ISLA CAFE RESTAURANT  MANHATTAN   10002   \n",
       "626327   41592230  LA ISLA CAFE RESTAURANT  MANHATTAN   10002   \n",
       "629555   41592230  LA ISLA CAFE RESTAURANT  MANHATTAN   10002   \n",
       "633521   41592230  LA ISLA CAFE RESTAURANT  MANHATTAN   10002   \n",
       "692711   41592230  LA ISLA CAFE RESTAURANT  MANHATTAN   10002   \n",
       "813239   41592230  LA ISLA CAFE RESTAURANT  MANHATTAN   10002   \n",
       "828876   41592230  LA ISLA CAFE RESTAURANT  MANHATTAN   10002   \n",
       "891418   41592230  LA ISLA CAFE RESTAURANT  MANHATTAN   10002   \n",
       "1003459  41592230  LA ISLA CAFE RESTAURANT  MANHATTAN   10002   \n",
       "1035774  41592230  LA ISLA CAFE RESTAURANT  MANHATTAN   10002   \n",
       "1233650  41592230  LA ISLA CAFE RESTAURANT  MANHATTAN   10002   \n",
       "1272481  41592230  LA ISLA CAFE RESTAURANT  MANHATTAN   10002   \n",
       "1324393  41592230  LA ISLA CAFE RESTAURANT  MANHATTAN   10002   \n",
       "1343616  41592230  LA ISLA CAFE RESTAURANT  MANHATTAN   10002   \n",
       "1344189  41592230  LA ISLA CAFE RESTAURANT  MANHATTAN   10002   \n",
       "1514340  41592230  LA ISLA CAFE RESTAURANT  MANHATTAN   10002   \n",
       "1555731  41592230  LA ISLA CAFE RESTAURANT  MANHATTAN   10002   \n",
       "1587931  41592230  LA ISLA CAFE RESTAURANT  MANHATTAN   10002   \n",
       "1598339  41592230  LA ISLA CAFE RESTAURANT  MANHATTAN   10002   \n",
       "1664392  41592230  LA ISLA CAFE RESTAURANT  MANHATTAN   10002   \n",
       "1682543  41592230  LA ISLA CAFE RESTAURANT  MANHATTAN   10002   \n",
       "1756336  41592230  LA ISLA CAFE RESTAURANT  MANHATTAN   10002   \n",
       "1880138  41592230  LA ISLA CAFE RESTAURANT  MANHATTAN   10002   \n",
       "1982369  41592230  LA ISLA CAFE RESTAURANT  MANHATTAN   10002   \n",
       "2011763  41592230  LA ISLA CAFE RESTAURANT  MANHATTAN   10002   \n",
       "2089553  41592230  LA ISLA CAFE RESTAURANT  MANHATTAN   10002   \n",
       "2136141  41592230  LA ISLA CAFE RESTAURANT  MANHATTAN   10002   \n",
       "2155463  41592230  LA ISLA CAFE RESTAURANT  MANHATTAN   10002   \n",
       "2166327  41592230  LA ISLA CAFE RESTAURANT  MANHATTAN   10002   \n",
       "2296163  41592230  LA ISLA CAFE RESTAURANT  MANHATTAN   10002   \n",
       "2298917  41592230  LA ISLA CAFE RESTAURANT  MANHATTAN   10002   \n",
       "\n",
       "                                              CUISINE_DESC INSPECTION_DATE  \\\n",
       "186017   Latin (Cuban, Dominican, Puerto Rican, South &...      2015-05-28   \n",
       "407595   Latin (Cuban, Dominican, Puerto Rican, South &...      2015-05-28   \n",
       "427062   Latin (Cuban, Dominican, Puerto Rican, South &...      2014-07-28   \n",
       "488117   Latin (Cuban, Dominican, Puerto Rican, South &...      2016-05-11   \n",
       "577921   Latin (Cuban, Dominican, Puerto Rican, South &...      2014-07-28   \n",
       "582515   Latin (Cuban, Dominican, Puerto Rican, South &...      2015-01-20   \n",
       "626327   Latin (Cuban, Dominican, Puerto Rican, South &...      2013-05-15   \n",
       "629555   Latin (Cuban, Dominican, Puerto Rican, South &...      2015-10-13   \n",
       "633521   Latin (Cuban, Dominican, Puerto Rican, South &...      2013-05-15   \n",
       "692711   Latin (Cuban, Dominican, Puerto Rican, South &...      2013-05-15   \n",
       "813239   Latin (Cuban, Dominican, Puerto Rican, South &...      2014-07-28   \n",
       "828876   Latin (Cuban, Dominican, Puerto Rican, South &...      2015-10-13   \n",
       "891418   Latin (Cuban, Dominican, Puerto Rican, South &...      2014-07-28   \n",
       "1003459  Latin (Cuban, Dominican, Puerto Rican, South &...      2015-01-20   \n",
       "1035774  Latin (Cuban, Dominican, Puerto Rican, South &...      2014-03-18   \n",
       "1233650  Latin (Cuban, Dominican, Puerto Rican, South &...      2015-05-28   \n",
       "1272481  Latin (Cuban, Dominican, Puerto Rican, South &...      2016-05-11   \n",
       "1324393  Latin (Cuban, Dominican, Puerto Rican, South &...      2015-10-13   \n",
       "1343616  Latin (Cuban, Dominican, Puerto Rican, South &...      2015-05-28   \n",
       "1344189  Latin (Cuban, Dominican, Puerto Rican, South &...      2013-10-11   \n",
       "1514340  Latin (Cuban, Dominican, Puerto Rican, South &...      2013-10-11   \n",
       "1555731  Latin (Cuban, Dominican, Puerto Rican, South &...      2013-10-11   \n",
       "1587931  Latin (Cuban, Dominican, Puerto Rican, South &...      2013-10-11   \n",
       "1598339  Latin (Cuban, Dominican, Puerto Rican, South &...      2013-10-11   \n",
       "1664392  Latin (Cuban, Dominican, Puerto Rican, South &...      2014-03-18   \n",
       "1682543  Latin (Cuban, Dominican, Puerto Rican, South &...      2015-05-28   \n",
       "1756336  Latin (Cuban, Dominican, Puerto Rican, South &...      2016-05-11   \n",
       "1880138  Latin (Cuban, Dominican, Puerto Rican, South &...      2015-10-13   \n",
       "1982369  Latin (Cuban, Dominican, Puerto Rican, South &...      2014-07-28   \n",
       "2011763  Latin (Cuban, Dominican, Puerto Rican, South &...      2014-07-28   \n",
       "2089553  Latin (Cuban, Dominican, Puerto Rican, South &...      2013-10-11   \n",
       "2136141  Latin (Cuban, Dominican, Puerto Rican, South &...      2015-10-13   \n",
       "2155463  Latin (Cuban, Dominican, Puerto Rican, South &...      2013-05-15   \n",
       "2166327  Latin (Cuban, Dominican, Puerto Rican, South &...      2013-05-15   \n",
       "2296163  Latin (Cuban, Dominican, Puerto Rican, South &...      2014-03-18   \n",
       "2298917  Latin (Cuban, Dominican, Puerto Rican, South &...      2015-10-13   \n",
       "\n",
       "                                                  ACTION VIOLATION_CODE  \\\n",
       "186017   Violations were cited in the following area(s).            04N   \n",
       "407595   Violations were cited in the following area(s).            08A   \n",
       "427062   Violations were cited in the following area(s).            06F   \n",
       "488117   Violations were cited in the following area(s).            10F   \n",
       "577921   Violations were cited in the following area(s).            04N   \n",
       "582515   Violations were cited in the following area(s).            02B   \n",
       "626327   Violations were cited in the following area(s).            02H   \n",
       "629555   Violations were cited in the following area(s).            02G   \n",
       "633521   Violations were cited in the following area(s).            10B   \n",
       "692711   Violations were cited in the following area(s).            04K   \n",
       "813239   Violations were cited in the following area(s).            04M   \n",
       "828876   Violations were cited in the following area(s).            04N   \n",
       "891418   Violations were cited in the following area(s).            08A   \n",
       "1003459  Violations were cited in the following area(s).            10F   \n",
       "1035774  Violations were cited in the following area(s).            02H   \n",
       "1233650  Violations were cited in the following area(s).            02G   \n",
       "1272481  Violations were cited in the following area(s).            10B   \n",
       "1324393  Violations were cited in the following area(s).            08A   \n",
       "1343616  Violations were cited in the following area(s).            02B   \n",
       "1344189  Violations were cited in the following area(s).            02B   \n",
       "1514340  Violations were cited in the following area(s).            04L   \n",
       "1555731  Violations were cited in the following area(s).            04A   \n",
       "1587931  Violations were cited in the following area(s).            08A   \n",
       "1598339  Violations were cited in the following area(s).            02G   \n",
       "1664392  Violations were cited in the following area(s).            06C   \n",
       "1682543  Violations were cited in the following area(s).            10F   \n",
       "1756336  Violations were cited in the following area(s).            02B   \n",
       "1880138  Violations were cited in the following area(s).            02B   \n",
       "1982369  Violations were cited in the following area(s).            02G   \n",
       "2011763  Violations were cited in the following area(s).            10F   \n",
       "2089553  Violations were cited in the following area(s).            04O   \n",
       "2136141  Violations were cited in the following area(s).            04M   \n",
       "2155463  Violations were cited in the following area(s).            08A   \n",
       "2166327  Violations were cited in the following area(s).            04L   \n",
       "2296163  Violations were cited in the following area(s).            02B   \n",
       "2298917  Violations were cited in the following area(s).            06C   \n",
       "\n",
       "                                            VIOLATION_DESC CRITICAL_FLAG  \\\n",
       "186017   Filth flies or food/refuse/sewage-associated (...      Critical   \n",
       "407595   Facility not vermin proof. Harborage or condit...  Not Critical   \n",
       "427062   Wiping cloths soiled or not stored in sanitizi...      Critical   \n",
       "488117   Non-food contact surface improperly constructe...  Not Critical   \n",
       "577921   Filth flies or food/refuse/sewage-associated (...      Critical   \n",
       "582515         Hot food item not held at or above 140Âº F.      Critical   \n",
       "626327   Food not cooled by an approved method whereby ...      Critical   \n",
       "629555   Cold food item held above 41Âº F (smoked fish ...      Critical   \n",
       "633521   Plumbing not properly installed or maintained;...  Not Critical   \n",
       "692711   Evidence of rats or live rats present in facil...      Critical   \n",
       "813239   Live roaches present in facility's food and/or...      Critical   \n",
       "828876   Filth flies or food/refuse/sewage-associated (...      Critical   \n",
       "891418   Facility not vermin proof. Harborage or condit...  Not Critical   \n",
       "1003459  Non-food contact surface improperly constructe...  Not Critical   \n",
       "1035774  Food not cooled by an approved method whereby ...      Critical   \n",
       "1233650  Cold food item held above 41Âº F (smoked fish ...      Critical   \n",
       "1272481  Plumbing not properly installed or maintained;...  Not Critical   \n",
       "1324393  Facility not vermin proof. Harborage or condit...  Not Critical   \n",
       "1343616        Hot food item not held at or above 140Âº F.      Critical   \n",
       "1344189        Hot food item not held at or above 140Âº F.      Critical   \n",
       "1514340  Evidence of mice or live mice present in facil...      Critical   \n",
       "1555731  Food Protection Certificate not held by superv...      Critical   \n",
       "1587931  Facility not vermin proof. Harborage or condit...  Not Critical   \n",
       "1598339  Cold food item held above 41Âº F (smoked fish ...      Critical   \n",
       "1664392  Food not protected from potential source of co...      Critical   \n",
       "1682543  Non-food contact surface improperly constructe...  Not Critical   \n",
       "1756336        Hot food item not held at or above 140Âº F.      Critical   \n",
       "1880138        Hot food item not held at or above 140Âº F.      Critical   \n",
       "1982369  Cold food item held above 41Âº F (smoked fish ...      Critical   \n",
       "2011763  Non-food contact surface improperly constructe...  Not Critical   \n",
       "2089553  Live animals other than fish in tank or servic...      Critical   \n",
       "2136141  Live roaches present in facility's food and/or...      Critical   \n",
       "2155463  Facility not vermin proof. Harborage or condit...  Not Critical   \n",
       "2166327  Evidence of mice or live mice present in facil...      Critical   \n",
       "2296163        Hot food item not held at or above 140Âº F.      Critical   \n",
       "2298917  Food not protected from potential source of co...      Critical   \n",
       "\n",
       "         SCORE GRADE  GRADE_DATE RECORD_DATE  \\\n",
       "186017    27.0     B  05/28/2015  07/09/2017   \n",
       "407595    27.0     B  05/28/2015  07/09/2017   \n",
       "427062    25.0     B  07/28/2014  07/09/2017   \n",
       "488117    13.0     A  05/11/2016  07/09/2017   \n",
       "577921    25.0     B  07/28/2014  07/09/2017   \n",
       "582515    13.0     A  01/20/2015  07/09/2017   \n",
       "626327    20.0     B  05/15/2013  07/09/2017   \n",
       "629555    56.0     C  10/13/2015  07/09/2017   \n",
       "633521    20.0     B  05/15/2013  07/09/2017   \n",
       "692711    20.0     B  05/15/2013  07/09/2017   \n",
       "813239    25.0     B  07/28/2014  07/09/2017   \n",
       "828876    56.0     C  10/13/2015  07/09/2017   \n",
       "891418    25.0     B  07/28/2014  07/09/2017   \n",
       "1003459   13.0     A  01/20/2015  07/09/2017   \n",
       "1035774   22.0     B  03/18/2014  07/09/2017   \n",
       "1233650   27.0     B  05/28/2015  07/09/2017   \n",
       "1272481   13.0     A  05/11/2016  07/09/2017   \n",
       "1324393   56.0     C  10/13/2015  07/09/2017   \n",
       "1343616   27.0     B  05/28/2015  07/09/2017   \n",
       "1344189   39.0     C  10/11/2013  07/09/2017   \n",
       "1514340   39.0     C  10/11/2013  07/09/2017   \n",
       "1555731   39.0     C  10/11/2013  07/09/2017   \n",
       "1587931   39.0     C  10/11/2013  07/09/2017   \n",
       "1598339   39.0     C  10/11/2013  07/09/2017   \n",
       "1664392   22.0     B  03/18/2014  07/09/2017   \n",
       "1682543   27.0     B  05/28/2015  07/09/2017   \n",
       "1756336   13.0     A  05/11/2016  07/09/2017   \n",
       "1880138   56.0     C  10/13/2015  07/09/2017   \n",
       "1982369   25.0     B  07/28/2014  07/09/2017   \n",
       "2011763   25.0     B  07/28/2014  07/09/2017   \n",
       "2089553   39.0     C  10/11/2013  07/09/2017   \n",
       "2136141   56.0     C  10/13/2015  07/09/2017   \n",
       "2155463   20.0     B  05/15/2013  07/09/2017   \n",
       "2166327   20.0     B  05/15/2013  07/09/2017   \n",
       "2296163   22.0     B  03/18/2014  07/09/2017   \n",
       "2298917   56.0     C  10/13/2015  07/09/2017   \n",
       "\n",
       "                               INSPECTION_TYPE  RATINGS  \n",
       "186017        Cycle Inspection / Re-inspection      3.5  \n",
       "407595        Cycle Inspection / Re-inspection      3.5  \n",
       "427062        Cycle Inspection / Re-inspection      3.5  \n",
       "488117   Cycle Inspection / Initial Inspection      3.5  \n",
       "577921        Cycle Inspection / Re-inspection      3.5  \n",
       "582515        Cycle Inspection / Re-inspection      3.5  \n",
       "626327        Cycle Inspection / Re-inspection      3.5  \n",
       "629555        Cycle Inspection / Re-inspection      3.5  \n",
       "633521        Cycle Inspection / Re-inspection      3.5  \n",
       "692711        Cycle Inspection / Re-inspection      3.5  \n",
       "813239        Cycle Inspection / Re-inspection      3.5  \n",
       "828876        Cycle Inspection / Re-inspection      3.5  \n",
       "891418        Cycle Inspection / Re-inspection      3.5  \n",
       "1003459       Cycle Inspection / Re-inspection      3.5  \n",
       "1035774       Cycle Inspection / Re-inspection      3.5  \n",
       "1233650       Cycle Inspection / Re-inspection      3.5  \n",
       "1272481  Cycle Inspection / Initial Inspection      3.5  \n",
       "1324393       Cycle Inspection / Re-inspection      3.5  \n",
       "1343616       Cycle Inspection / Re-inspection      3.5  \n",
       "1344189       Cycle Inspection / Re-inspection      3.5  \n",
       "1514340       Cycle Inspection / Re-inspection      3.5  \n",
       "1555731       Cycle Inspection / Re-inspection      3.5  \n",
       "1587931       Cycle Inspection / Re-inspection      3.5  \n",
       "1598339       Cycle Inspection / Re-inspection      3.5  \n",
       "1664392       Cycle Inspection / Re-inspection      3.5  \n",
       "1682543       Cycle Inspection / Re-inspection      3.5  \n",
       "1756336  Cycle Inspection / Initial Inspection      3.5  \n",
       "1880138       Cycle Inspection / Re-inspection      3.5  \n",
       "1982369       Cycle Inspection / Re-inspection      3.5  \n",
       "2011763       Cycle Inspection / Re-inspection      3.5  \n",
       "2089553       Cycle Inspection / Re-inspection      3.5  \n",
       "2136141       Cycle Inspection / Re-inspection      3.5  \n",
       "2155463       Cycle Inspection / Re-inspection      3.5  \n",
       "2166327       Cycle Inspection / Re-inspection      3.5  \n",
       "2296163       Cycle Inspection / Re-inspection      3.5  \n",
       "2298917       Cycle Inspection / Re-inspection      3.5  "
      ]
     },
     "execution_count": 26,
     "metadata": {},
     "output_type": "execute_result"
    }
   ],
   "source": [
    "df_ex_pre[df_ex_pre.CAMIS == 41592230]"
   ]
  },
  {
   "cell_type": "code",
   "execution_count": null,
   "metadata": {},
   "outputs": [],
   "source": []
  },
  {
   "cell_type": "code",
   "execution_count": 27,
   "metadata": {},
   "outputs": [
    {
     "data": {
      "text/plain": [
       "(221,)"
      ]
     },
     "execution_count": 27,
     "metadata": {},
     "output_type": "execute_result"
    }
   ],
   "source": [
    "df_ex_pre.ZIPCODE.value_counts().shape"
   ]
  },
  {
   "cell_type": "code",
   "execution_count": 28,
   "metadata": {},
   "outputs": [
    {
     "data": {
      "text/plain": [
       "(84,)"
      ]
     },
     "execution_count": 28,
     "metadata": {},
     "output_type": "execute_result"
    }
   ],
   "source": [
    "df_ex_pre.CUISINE_DESC.value_counts().shape"
   ]
  },
  {
   "cell_type": "markdown",
   "metadata": {},
   "source": [
    "#### INSPECTION_DATE and GRADE_DATE are equal, \n",
    "#### Result: we're going to remove GRADE_DATE"
   ]
  },
  {
   "cell_type": "code",
   "execution_count": 29,
   "metadata": {},
   "outputs": [],
   "source": [
    "#df_ex_pre[df_ex_pre.INSPECTION_DATE != df_ex_pre.GRADE_DATE].shape"
   ]
  },
  {
   "cell_type": "code",
   "execution_count": 30,
   "metadata": {},
   "outputs": [
    {
     "data": {
      "text/plain": [
       "str"
      ]
     },
     "execution_count": 30,
     "metadata": {},
     "output_type": "execute_result"
    }
   ],
   "source": [
    "type(df_ex_pre.GRADE_DATE[0])"
   ]
  },
  {
   "cell_type": "markdown",
   "metadata": {},
   "source": [
    "#### Two types of ACTION, also doesn't necessarily mean first visit\n",
    "#### "
   ]
  },
  {
   "cell_type": "code",
   "execution_count": 31,
   "metadata": {},
   "outputs": [
    {
     "data": {
      "text/plain": [
       "Violations were cited in the following area(s).    119023\n",
       "Establishment re-opened by DOHMH                     1199\n",
       "Name: ACTION, dtype: int64"
      ]
     },
     "execution_count": 31,
     "metadata": {},
     "output_type": "execute_result"
    }
   ],
   "source": [
    "df_ex_pre.ACTION.value_counts()"
   ]
  },
  {
   "cell_type": "code",
   "execution_count": 32,
   "metadata": {},
   "outputs": [
    {
     "data": {
      "text/html": [
       "<div>\n",
       "<style scoped>\n",
       "    .dataframe tbody tr th:only-of-type {\n",
       "        vertical-align: middle;\n",
       "    }\n",
       "\n",
       "    .dataframe tbody tr th {\n",
       "        vertical-align: top;\n",
       "    }\n",
       "\n",
       "    .dataframe thead th {\n",
       "        text-align: right;\n",
       "    }\n",
       "</style>\n",
       "<table border=\"1\" class=\"dataframe\">\n",
       "  <thead>\n",
       "    <tr style=\"text-align: right;\">\n",
       "      <th></th>\n",
       "      <th>CAMIS</th>\n",
       "      <th>DBA</th>\n",
       "      <th>BORO</th>\n",
       "      <th>ZIPCODE</th>\n",
       "      <th>CUISINE_DESC</th>\n",
       "      <th>INSPECTION_DATE</th>\n",
       "      <th>ACTION</th>\n",
       "      <th>VIOLATION_CODE</th>\n",
       "      <th>VIOLATION_DESC</th>\n",
       "      <th>CRITICAL_FLAG</th>\n",
       "      <th>SCORE</th>\n",
       "      <th>GRADE</th>\n",
       "      <th>GRADE_DATE</th>\n",
       "      <th>RECORD_DATE</th>\n",
       "      <th>INSPECTION_TYPE</th>\n",
       "      <th>RATINGS</th>\n",
       "    </tr>\n",
       "  </thead>\n",
       "  <tbody>\n",
       "    <tr>\n",
       "      <th>1570</th>\n",
       "      <td>41507172</td>\n",
       "      <td>BARI'S PIZZA &amp; PASTA RESTAURANT</td>\n",
       "      <td>STATEN ISLAND</td>\n",
       "      <td>10304</td>\n",
       "      <td>Pizza</td>\n",
       "      <td>2014-06-26</td>\n",
       "      <td>Establishment re-opened by DOHMH</td>\n",
       "      <td>04N</td>\n",
       "      <td>Filth flies or food/refuse/sewage-associated (...</td>\n",
       "      <td>Critical</td>\n",
       "      <td>9.0</td>\n",
       "      <td>C</td>\n",
       "      <td>06/26/2014</td>\n",
       "      <td>07/09/2017</td>\n",
       "      <td>Cycle Inspection / Reopening Inspection</td>\n",
       "      <td>3.5</td>\n",
       "    </tr>\n",
       "    <tr>\n",
       "      <th>12141</th>\n",
       "      <td>41385384</td>\n",
       "      <td>MIMI'S HUMMUS</td>\n",
       "      <td>BROOKLYN</td>\n",
       "      <td>11218</td>\n",
       "      <td>Middle Eastern</td>\n",
       "      <td>2017-05-19</td>\n",
       "      <td>Establishment re-opened by DOHMH</td>\n",
       "      <td>10F</td>\n",
       "      <td>Non-food contact surface improperly constructe...</td>\n",
       "      <td>Not Critical</td>\n",
       "      <td>19.0</td>\n",
       "      <td>P</td>\n",
       "      <td>05/19/2017</td>\n",
       "      <td>07/09/2017</td>\n",
       "      <td>Cycle Inspection / Reopening Inspection</td>\n",
       "      <td>4.0</td>\n",
       "    </tr>\n",
       "    <tr>\n",
       "      <th>15832</th>\n",
       "      <td>50018728</td>\n",
       "      <td>KHAO SARN</td>\n",
       "      <td>BROOKLYN</td>\n",
       "      <td>11249</td>\n",
       "      <td>Thai</td>\n",
       "      <td>2015-09-08</td>\n",
       "      <td>Establishment re-opened by DOHMH</td>\n",
       "      <td>08A</td>\n",
       "      <td>Facility not vermin proof. Harborage or condit...</td>\n",
       "      <td>Not Critical</td>\n",
       "      <td>9.0</td>\n",
       "      <td>P</td>\n",
       "      <td>09/08/2015</td>\n",
       "      <td>07/09/2017</td>\n",
       "      <td>Cycle Inspection / Reopening Inspection</td>\n",
       "      <td>3.5</td>\n",
       "    </tr>\n",
       "    <tr>\n",
       "      <th>19310</th>\n",
       "      <td>41462164</td>\n",
       "      <td>CROWN FRIED CHICKEN</td>\n",
       "      <td>BROOKLYN</td>\n",
       "      <td>11216</td>\n",
       "      <td>Chicken</td>\n",
       "      <td>2016-10-25</td>\n",
       "      <td>Establishment re-opened by DOHMH</td>\n",
       "      <td>06D</td>\n",
       "      <td>Food contact surface not properly washed, rins...</td>\n",
       "      <td>Critical</td>\n",
       "      <td>12.0</td>\n",
       "      <td>P</td>\n",
       "      <td>10/25/2016</td>\n",
       "      <td>07/09/2017</td>\n",
       "      <td>Cycle Inspection / Reopening Inspection</td>\n",
       "      <td>3.0</td>\n",
       "    </tr>\n",
       "    <tr>\n",
       "      <th>23219</th>\n",
       "      <td>41450971</td>\n",
       "      <td>GIOVANNI'S RESTAURANT</td>\n",
       "      <td>BRONX</td>\n",
       "      <td>10461</td>\n",
       "      <td>Pizza/Italian</td>\n",
       "      <td>2016-12-14</td>\n",
       "      <td>Establishment re-opened by DOHMH</td>\n",
       "      <td>10F</td>\n",
       "      <td>Non-food contact surface improperly constructe...</td>\n",
       "      <td>Not Critical</td>\n",
       "      <td>2.0</td>\n",
       "      <td>Z</td>\n",
       "      <td>12/14/2016</td>\n",
       "      <td>07/09/2017</td>\n",
       "      <td>Cycle Inspection / Reopening Inspection</td>\n",
       "      <td>4.0</td>\n",
       "    </tr>\n",
       "  </tbody>\n",
       "</table>\n",
       "</div>"
      ],
      "text/plain": [
       "          CAMIS                              DBA           BORO ZIPCODE  \\\n",
       "1570   41507172  BARI'S PIZZA & PASTA RESTAURANT  STATEN ISLAND   10304   \n",
       "12141  41385384                    MIMI'S HUMMUS       BROOKLYN   11218   \n",
       "15832  50018728                        KHAO SARN       BROOKLYN   11249   \n",
       "19310  41462164              CROWN FRIED CHICKEN       BROOKLYN   11216   \n",
       "23219  41450971            GIOVANNI'S RESTAURANT          BRONX   10461   \n",
       "\n",
       "         CUISINE_DESC INSPECTION_DATE                            ACTION  \\\n",
       "1570            Pizza      2014-06-26  Establishment re-opened by DOHMH   \n",
       "12141  Middle Eastern      2017-05-19  Establishment re-opened by DOHMH   \n",
       "15832            Thai      2015-09-08  Establishment re-opened by DOHMH   \n",
       "19310         Chicken      2016-10-25  Establishment re-opened by DOHMH   \n",
       "23219   Pizza/Italian      2016-12-14  Establishment re-opened by DOHMH   \n",
       "\n",
       "      VIOLATION_CODE                                     VIOLATION_DESC  \\\n",
       "1570             04N  Filth flies or food/refuse/sewage-associated (...   \n",
       "12141            10F  Non-food contact surface improperly constructe...   \n",
       "15832            08A  Facility not vermin proof. Harborage or condit...   \n",
       "19310            06D  Food contact surface not properly washed, rins...   \n",
       "23219            10F  Non-food contact surface improperly constructe...   \n",
       "\n",
       "      CRITICAL_FLAG  SCORE GRADE  GRADE_DATE RECORD_DATE  \\\n",
       "1570       Critical    9.0     C  06/26/2014  07/09/2017   \n",
       "12141  Not Critical   19.0     P  05/19/2017  07/09/2017   \n",
       "15832  Not Critical    9.0     P  09/08/2015  07/09/2017   \n",
       "19310      Critical   12.0     P  10/25/2016  07/09/2017   \n",
       "23219  Not Critical    2.0     Z  12/14/2016  07/09/2017   \n",
       "\n",
       "                               INSPECTION_TYPE  RATINGS  \n",
       "1570   Cycle Inspection / Reopening Inspection      3.5  \n",
       "12141  Cycle Inspection / Reopening Inspection      4.0  \n",
       "15832  Cycle Inspection / Reopening Inspection      3.5  \n",
       "19310  Cycle Inspection / Reopening Inspection      3.0  \n",
       "23219  Cycle Inspection / Reopening Inspection      4.0  "
      ]
     },
     "execution_count": 32,
     "metadata": {},
     "output_type": "execute_result"
    }
   ],
   "source": [
    "df_ex_pre[df_ex_pre.ACTION == 'Establishment re-opened by DOHMH'].head()"
   ]
  },
  {
   "cell_type": "code",
   "execution_count": null,
   "metadata": {},
   "outputs": [],
   "source": []
  },
  {
   "cell_type": "markdown",
   "metadata": {},
   "source": [
    "pre_reopen = []\n",
    "\n",
    "def is_establishment_reopen_first_date_check(CAMIS):\n",
    "    df_subset = df_ex_pre[df_ex_pre.CAMIS == CAMIS]\n",
    "    re_open_date = df_subset[df_subset.ACTION == 'Establishment re-opened by DOHMH'].INSPECTION_DATE.values[0]\n",
    "    s_subset = df_subset[df_subset.INSPECTION_DATE]\n",
    "    for key, value in enumerate(s_subset):\n",
    "        if value < re_open_date:\n",
    "            pre_reopen.append(s_subset.index[key])"
   ]
  },
  {
   "cell_type": "markdown",
   "metadata": {},
   "source": [
    "lst_CAMIS = df_ex_pre[df_ex_pre.ACTION == 'Establishment re-opened by DOHMH'].CAMIS.unique()\n",
    "\n",
    "for x in lst_CAMIS:\n",
    "    is_establishment_reopen_first_date_check(x)\n",
    "\n"
   ]
  },
  {
   "cell_type": "code",
   "execution_count": 33,
   "metadata": {
    "scrolled": true
   },
   "outputs": [
    {
     "data": {
      "text/html": [
       "<div>\n",
       "<style scoped>\n",
       "    .dataframe tbody tr th:only-of-type {\n",
       "        vertical-align: middle;\n",
       "    }\n",
       "\n",
       "    .dataframe tbody tr th {\n",
       "        vertical-align: top;\n",
       "    }\n",
       "\n",
       "    .dataframe thead th {\n",
       "        text-align: right;\n",
       "    }\n",
       "</style>\n",
       "<table border=\"1\" class=\"dataframe\">\n",
       "  <thead>\n",
       "    <tr style=\"text-align: right;\">\n",
       "      <th></th>\n",
       "      <th>CAMIS</th>\n",
       "      <th>DBA</th>\n",
       "      <th>BORO</th>\n",
       "      <th>ZIPCODE</th>\n",
       "      <th>CUISINE_DESC</th>\n",
       "      <th>INSPECTION_DATE</th>\n",
       "      <th>ACTION</th>\n",
       "      <th>VIOLATION_CODE</th>\n",
       "      <th>VIOLATION_DESC</th>\n",
       "      <th>CRITICAL_FLAG</th>\n",
       "      <th>SCORE</th>\n",
       "      <th>GRADE</th>\n",
       "      <th>GRADE_DATE</th>\n",
       "      <th>RECORD_DATE</th>\n",
       "      <th>INSPECTION_TYPE</th>\n",
       "      <th>RATINGS</th>\n",
       "    </tr>\n",
       "  </thead>\n",
       "  <tbody>\n",
       "    <tr>\n",
       "      <th>1100414</th>\n",
       "      <td>50058720</td>\n",
       "      <td>GOOD TIMES</td>\n",
       "      <td>BROOKLYN</td>\n",
       "      <td>11209</td>\n",
       "      <td>Delicatessen</td>\n",
       "      <td>2017-02-14</td>\n",
       "      <td>Violations were cited in the following area(s).</td>\n",
       "      <td>10I</td>\n",
       "      <td>Single service item reused, improperly stored,...</td>\n",
       "      <td>Not Critical</td>\n",
       "      <td>9.0</td>\n",
       "      <td>Not Yet Graded</td>\n",
       "      <td>02/14/2017</td>\n",
       "      <td>07/09/2017</td>\n",
       "      <td>Pre-permit (Operational) / Initial Inspection</td>\n",
       "      <td>4.0</td>\n",
       "    </tr>\n",
       "    <tr>\n",
       "      <th>1275524</th>\n",
       "      <td>50042785</td>\n",
       "      <td>EMPIRE SZECHUAN GARDEN</td>\n",
       "      <td>QUEENS</td>\n",
       "      <td>11104</td>\n",
       "      <td>Chinese</td>\n",
       "      <td>2016-10-21</td>\n",
       "      <td>Violations were cited in the following area(s).</td>\n",
       "      <td>10F</td>\n",
       "      <td>Non-food contact surface improperly constructe...</td>\n",
       "      <td>Not Critical</td>\n",
       "      <td>6.0</td>\n",
       "      <td>Not Yet Graded</td>\n",
       "      <td>10/21/2016</td>\n",
       "      <td>07/09/2017</td>\n",
       "      <td>Pre-permit (Operational) / Initial Inspection</td>\n",
       "      <td>3.0</td>\n",
       "    </tr>\n",
       "    <tr>\n",
       "      <th>1362408</th>\n",
       "      <td>50042785</td>\n",
       "      <td>EMPIRE SZECHUAN GARDEN</td>\n",
       "      <td>QUEENS</td>\n",
       "      <td>11104</td>\n",
       "      <td>Chinese</td>\n",
       "      <td>2016-10-21</td>\n",
       "      <td>Violations were cited in the following area(s).</td>\n",
       "      <td>10B</td>\n",
       "      <td>Plumbing not properly installed or maintained;...</td>\n",
       "      <td>Not Critical</td>\n",
       "      <td>6.0</td>\n",
       "      <td>Not Yet Graded</td>\n",
       "      <td>10/21/2016</td>\n",
       "      <td>07/09/2017</td>\n",
       "      <td>Pre-permit (Operational) / Initial Inspection</td>\n",
       "      <td>3.0</td>\n",
       "    </tr>\n",
       "    <tr>\n",
       "      <th>1547939</th>\n",
       "      <td>50058720</td>\n",
       "      <td>GOOD TIMES</td>\n",
       "      <td>BROOKLYN</td>\n",
       "      <td>11209</td>\n",
       "      <td>Delicatessen</td>\n",
       "      <td>2017-02-14</td>\n",
       "      <td>Violations were cited in the following area(s).</td>\n",
       "      <td>06D</td>\n",
       "      <td>Food contact surface not properly washed, rins...</td>\n",
       "      <td>Critical</td>\n",
       "      <td>9.0</td>\n",
       "      <td>Not Yet Graded</td>\n",
       "      <td>02/14/2017</td>\n",
       "      <td>07/09/2017</td>\n",
       "      <td>Pre-permit (Operational) / Initial Inspection</td>\n",
       "      <td>4.0</td>\n",
       "    </tr>\n",
       "    <tr>\n",
       "      <th>1693973</th>\n",
       "      <td>50058720</td>\n",
       "      <td>GOOD TIMES</td>\n",
       "      <td>BROOKLYN</td>\n",
       "      <td>11209</td>\n",
       "      <td>Delicatessen</td>\n",
       "      <td>2017-02-14</td>\n",
       "      <td>Violations were cited in the following area(s).</td>\n",
       "      <td>10B</td>\n",
       "      <td>Plumbing not properly installed or maintained;...</td>\n",
       "      <td>Not Critical</td>\n",
       "      <td>9.0</td>\n",
       "      <td>Not Yet Graded</td>\n",
       "      <td>02/14/2017</td>\n",
       "      <td>07/09/2017</td>\n",
       "      <td>Pre-permit (Operational) / Initial Inspection</td>\n",
       "      <td>4.0</td>\n",
       "    </tr>\n",
       "  </tbody>\n",
       "</table>\n",
       "</div>"
      ],
      "text/plain": [
       "            CAMIS                     DBA      BORO ZIPCODE  CUISINE_DESC  \\\n",
       "1100414  50058720              GOOD TIMES  BROOKLYN   11209  Delicatessen   \n",
       "1275524  50042785  EMPIRE SZECHUAN GARDEN    QUEENS   11104       Chinese   \n",
       "1362408  50042785  EMPIRE SZECHUAN GARDEN    QUEENS   11104       Chinese   \n",
       "1547939  50058720              GOOD TIMES  BROOKLYN   11209  Delicatessen   \n",
       "1693973  50058720              GOOD TIMES  BROOKLYN   11209  Delicatessen   \n",
       "\n",
       "        INSPECTION_DATE                                           ACTION  \\\n",
       "1100414      2017-02-14  Violations were cited in the following area(s).   \n",
       "1275524      2016-10-21  Violations were cited in the following area(s).   \n",
       "1362408      2016-10-21  Violations were cited in the following area(s).   \n",
       "1547939      2017-02-14  Violations were cited in the following area(s).   \n",
       "1693973      2017-02-14  Violations were cited in the following area(s).   \n",
       "\n",
       "        VIOLATION_CODE                                     VIOLATION_DESC  \\\n",
       "1100414            10I  Single service item reused, improperly stored,...   \n",
       "1275524            10F  Non-food contact surface improperly constructe...   \n",
       "1362408            10B  Plumbing not properly installed or maintained;...   \n",
       "1547939            06D  Food contact surface not properly washed, rins...   \n",
       "1693973            10B  Plumbing not properly installed or maintained;...   \n",
       "\n",
       "        CRITICAL_FLAG  SCORE           GRADE  GRADE_DATE RECORD_DATE  \\\n",
       "1100414  Not Critical    9.0  Not Yet Graded  02/14/2017  07/09/2017   \n",
       "1275524  Not Critical    6.0  Not Yet Graded  10/21/2016  07/09/2017   \n",
       "1362408  Not Critical    6.0  Not Yet Graded  10/21/2016  07/09/2017   \n",
       "1547939      Critical    9.0  Not Yet Graded  02/14/2017  07/09/2017   \n",
       "1693973  Not Critical    9.0  Not Yet Graded  02/14/2017  07/09/2017   \n",
       "\n",
       "                                       INSPECTION_TYPE  RATINGS  \n",
       "1100414  Pre-permit (Operational) / Initial Inspection      4.0  \n",
       "1275524  Pre-permit (Operational) / Initial Inspection      3.0  \n",
       "1362408  Pre-permit (Operational) / Initial Inspection      3.0  \n",
       "1547939  Pre-permit (Operational) / Initial Inspection      4.0  \n",
       "1693973  Pre-permit (Operational) / Initial Inspection      4.0  "
      ]
     },
     "execution_count": 33,
     "metadata": {},
     "output_type": "execute_result"
    }
   ],
   "source": [
    "df_ex_pre[df_ex_pre.GRADE =='Not Yet Graded']"
   ]
  },
  {
   "cell_type": "markdown",
   "metadata": {},
   "source": [
    "### df_ex is now my base dataframe "
   ]
  },
  {
   "cell_type": "code",
   "execution_count": 34,
   "metadata": {},
   "outputs": [],
   "source": [
    "df_ex = df_ex_pre.drop(['INSPECTION_DATE'], 1)\n",
    "\n",
    "df_ex = df_ex[df_ex['GRADE'] != 'Not Yet Graded']\n"
   ]
  },
  {
   "cell_type": "code",
   "execution_count": 35,
   "metadata": {},
   "outputs": [
    {
     "data": {
      "text/html": [
       "<div>\n",
       "<style scoped>\n",
       "    .dataframe tbody tr th:only-of-type {\n",
       "        vertical-align: middle;\n",
       "    }\n",
       "\n",
       "    .dataframe tbody tr th {\n",
       "        vertical-align: top;\n",
       "    }\n",
       "\n",
       "    .dataframe thead th {\n",
       "        text-align: right;\n",
       "    }\n",
       "</style>\n",
       "<table border=\"1\" class=\"dataframe\">\n",
       "  <thead>\n",
       "    <tr style=\"text-align: right;\">\n",
       "      <th></th>\n",
       "      <th>CAMIS</th>\n",
       "      <th>DBA</th>\n",
       "      <th>BORO</th>\n",
       "      <th>ZIPCODE</th>\n",
       "      <th>CUISINE_DESC</th>\n",
       "      <th>ACTION</th>\n",
       "      <th>VIOLATION_CODE</th>\n",
       "      <th>VIOLATION_DESC</th>\n",
       "      <th>CRITICAL_FLAG</th>\n",
       "      <th>SCORE</th>\n",
       "      <th>GRADE</th>\n",
       "      <th>GRADE_DATE</th>\n",
       "      <th>RECORD_DATE</th>\n",
       "      <th>INSPECTION_TYPE</th>\n",
       "      <th>RATINGS</th>\n",
       "    </tr>\n",
       "  </thead>\n",
       "  <tbody>\n",
       "    <tr>\n",
       "      <th>0</th>\n",
       "      <td>41554120</td>\n",
       "      <td>BROOKS 1890 RESTAURANT</td>\n",
       "      <td>QUEENS</td>\n",
       "      <td>11101</td>\n",
       "      <td>Italian</td>\n",
       "      <td>Violations were cited in the following area(s).</td>\n",
       "      <td>02B</td>\n",
       "      <td>Hot food item not held at or above 140Âº F.</td>\n",
       "      <td>Critical</td>\n",
       "      <td>27.0</td>\n",
       "      <td>B</td>\n",
       "      <td>05/21/2014</td>\n",
       "      <td>07/09/2017</td>\n",
       "      <td>Cycle Inspection / Re-inspection</td>\n",
       "      <td>2.5</td>\n",
       "    </tr>\n",
       "    <tr>\n",
       "      <th>41</th>\n",
       "      <td>50003253</td>\n",
       "      <td>PARIS BAGUETTE</td>\n",
       "      <td>MANHATTAN</td>\n",
       "      <td>10022</td>\n",
       "      <td>Bakery</td>\n",
       "      <td>Violations were cited in the following area(s).</td>\n",
       "      <td>02B</td>\n",
       "      <td>Hot food item not held at or above 140Âº F.</td>\n",
       "      <td>Critical</td>\n",
       "      <td>9.0</td>\n",
       "      <td>A</td>\n",
       "      <td>03/21/2016</td>\n",
       "      <td>07/09/2017</td>\n",
       "      <td>Cycle Inspection / Re-inspection</td>\n",
       "      <td>3.5</td>\n",
       "    </tr>\n",
       "  </tbody>\n",
       "</table>\n",
       "</div>"
      ],
      "text/plain": [
       "       CAMIS                     DBA       BORO ZIPCODE CUISINE_DESC  \\\n",
       "0   41554120  BROOKS 1890 RESTAURANT     QUEENS   11101      Italian   \n",
       "41  50003253          PARIS BAGUETTE  MANHATTAN   10022       Bakery   \n",
       "\n",
       "                                             ACTION VIOLATION_CODE  \\\n",
       "0   Violations were cited in the following area(s).            02B   \n",
       "41  Violations were cited in the following area(s).            02B   \n",
       "\n",
       "                                 VIOLATION_DESC CRITICAL_FLAG  SCORE GRADE  \\\n",
       "0   Hot food item not held at or above 140Âº F.      Critical   27.0     B   \n",
       "41  Hot food item not held at or above 140Âº F.      Critical    9.0     A   \n",
       "\n",
       "    GRADE_DATE RECORD_DATE                   INSPECTION_TYPE  RATINGS  \n",
       "0   05/21/2014  07/09/2017  Cycle Inspection / Re-inspection      2.5  \n",
       "41  03/21/2016  07/09/2017  Cycle Inspection / Re-inspection      3.5  "
      ]
     },
     "execution_count": 35,
     "metadata": {},
     "output_type": "execute_result"
    }
   ],
   "source": [
    "df_ex.head(2)"
   ]
  },
  {
   "cell_type": "markdown",
   "metadata": {},
   "source": [
    "### 1. Linear Regression - Log_Score, Ratings, Critical_Flag\n",
    "### Create df for linear regression"
   ]
  },
  {
   "cell_type": "code",
   "execution_count": 36,
   "metadata": {},
   "outputs": [],
   "source": [
    "df_linear1 = df_ex.drop(['CAMIS',\n",
    "                         'GRADE',\n",
    "                         'DBA',\n",
    "                         'VIOLATION_CODE',\n",
    "                         'ZIPCODE',\n",
    "                         'BORO',\n",
    "                         'CUISINE_DESC',\n",
    "                         'VIOLATION_DESC',\n",
    "                         'ACTION',\n",
    "                         'INSPECTION_TYPE',\n",
    "                         'GRADE_DATE',\n",
    "                         'RECORD_DATE'\n",
    "                         ], 1)"
   ]
  },
  {
   "cell_type": "code",
   "execution_count": 37,
   "metadata": {
    "scrolled": true
   },
   "outputs": [
    {
     "name": "stderr",
     "output_type": "stream",
     "text": [
      "/Users/allandong/anaconda/lib/python3.6/site-packages/ipykernel_launcher.py:3: SettingWithCopyWarning: \n",
      "A value is trying to be set on a copy of a slice from a DataFrame.\n",
      "Try using .loc[row_indexer,col_indexer] = value instead\n",
      "\n",
      "See the caveats in the documentation: http://pandas.pydata.org/pandas-docs/stable/indexing.html#indexing-view-versus-copy\n",
      "  This is separate from the ipykernel package so we can avoid doing imports until\n"
     ]
    }
   ],
   "source": [
    "df_linear2 = df_linear1[df_linear1.SCORE >0]\n",
    "\n",
    "df_linear2['Log_Score'] = df_linear2.loc[:,'SCORE'].apply(np.log)\n",
    "\n",
    "\n",
    "\n",
    "\n",
    "df_linear2 = df_linear2.drop(['SCORE'], 1)\n"
   ]
  },
  {
   "cell_type": "code",
   "execution_count": 38,
   "metadata": {},
   "outputs": [],
   "source": [
    "#df_linear2.loc[:'Log_Score'] \n",
    "\n",
    "#df_linear2[df_linear2.Log_Score <0]"
   ]
  },
  {
   "cell_type": "code",
   "execution_count": null,
   "metadata": {
    "scrolled": true
   },
   "outputs": [],
   "source": []
  },
  {
   "cell_type": "code",
   "execution_count": null,
   "metadata": {},
   "outputs": [],
   "source": []
  },
  {
   "cell_type": "code",
   "execution_count": 39,
   "metadata": {},
   "outputs": [
    {
     "data": {
      "text/plain": [
       "Index(['RATINGS', 'Log_Score', 'CRITICAL_FLAG_Not Critical'], dtype='object')"
      ]
     },
     "execution_count": 39,
     "metadata": {},
     "output_type": "execute_result"
    }
   ],
   "source": [
    "df_lin2 = pd.get_dummies(df_linear2, drop_first = True, columns = [#'ZIPCODE', \n",
    "                                                    #'BORO', \n",
    "                                                    #'CUISINE_DESC', \n",
    "                                                    'CRITICAL_FLAG'])\n",
    "df_lin2.columns"
   ]
  },
  {
   "cell_type": "code",
   "execution_count": 40,
   "metadata": {},
   "outputs": [],
   "source": [
    "df_lin2 = df_lin2[['Log_Score', 'RATINGS', 'CRITICAL_FLAG_Not Critical']]"
   ]
  },
  {
   "cell_type": "code",
   "execution_count": 41,
   "metadata": {
    "scrolled": true
   },
   "outputs": [
    {
     "data": {
      "text/html": [
       "<div>\n",
       "<style scoped>\n",
       "    .dataframe tbody tr th:only-of-type {\n",
       "        vertical-align: middle;\n",
       "    }\n",
       "\n",
       "    .dataframe tbody tr th {\n",
       "        vertical-align: top;\n",
       "    }\n",
       "\n",
       "    .dataframe thead th {\n",
       "        text-align: right;\n",
       "    }\n",
       "</style>\n",
       "<table border=\"1\" class=\"dataframe\">\n",
       "  <thead>\n",
       "    <tr style=\"text-align: right;\">\n",
       "      <th></th>\n",
       "      <th>Log_Score</th>\n",
       "      <th>RATINGS</th>\n",
       "      <th>CRITICAL_FLAG_Not Critical</th>\n",
       "    </tr>\n",
       "  </thead>\n",
       "  <tbody>\n",
       "    <tr>\n",
       "      <th>0</th>\n",
       "      <td>3.295837</td>\n",
       "      <td>2.5</td>\n",
       "      <td>0</td>\n",
       "    </tr>\n",
       "    <tr>\n",
       "      <th>41</th>\n",
       "      <td>2.197225</td>\n",
       "      <td>3.5</td>\n",
       "      <td>0</td>\n",
       "    </tr>\n",
       "  </tbody>\n",
       "</table>\n",
       "</div>"
      ],
      "text/plain": [
       "    Log_Score  RATINGS  CRITICAL_FLAG_Not Critical\n",
       "0    3.295837      2.5                           0\n",
       "41   2.197225      3.5                           0"
      ]
     },
     "execution_count": 41,
     "metadata": {},
     "output_type": "execute_result"
    }
   ],
   "source": [
    "df_lin2.head(2)"
   ]
  },
  {
   "cell_type": "markdown",
   "metadata": {},
   "source": [
    "### Train Test Split/Linear Regression"
   ]
  },
  {
   "cell_type": "code",
   "execution_count": 42,
   "metadata": {},
   "outputs": [],
   "source": [
    "# Dependendent Variable = 'Log_Score' - Log of Health Inspection Scores\n",
    "# Independent Variables = 'RATINGS', 'CRITICAL_FLAG' dummy\n",
    "df_lin2_y = df_lin2['Log_Score']\n",
    "df_lin2_x = df_lin2.drop(['Log_Score'], 1)\n",
    "\n",
    "x_train, x_finaltest, y_train, y_finaltest = train_test_split(df_lin2_x, df_lin2_y, test_size=0.2)"
   ]
  },
  {
   "cell_type": "code",
   "execution_count": 43,
   "metadata": {},
   "outputs": [],
   "source": [
    "lr  = LinearRegression()\n",
    "logit = LogisticRegression()\n",
    "\n",
    "\n",
    "lr.fit(x_train, y_train)\n",
    "lr_predict = lr.predict(x_finaltest)"
   ]
  },
  {
   "cell_type": "code",
   "execution_count": 44,
   "metadata": {},
   "outputs": [
    {
     "data": {
      "text/plain": [
       "Index(['RATINGS', 'CRITICAL_FLAG_Not Critical'], dtype='object')"
      ]
     },
     "execution_count": 44,
     "metadata": {},
     "output_type": "execute_result"
    }
   ],
   "source": [
    "df_lin2_x.columns #lr.coef_"
   ]
  },
  {
   "cell_type": "code",
   "execution_count": 45,
   "metadata": {},
   "outputs": [
    {
     "data": {
      "text/plain": [
       "array([-0.01287681, -0.26516873])"
      ]
     },
     "execution_count": 45,
     "metadata": {},
     "output_type": "execute_result"
    }
   ],
   "source": [
    "lr.coef_"
   ]
  },
  {
   "cell_type": "code",
   "execution_count": 46,
   "metadata": {},
   "outputs": [
    {
     "data": {
      "text/plain": [
       "0.06795616256831438"
      ]
     },
     "execution_count": 46,
     "metadata": {},
     "output_type": "execute_result"
    }
   ],
   "source": [
    "lr.score(x_finaltest, y_finaltest)"
   ]
  },
  {
   "cell_type": "code",
   "execution_count": 47,
   "metadata": {},
   "outputs": [
    {
     "name": "stdout",
     "output_type": "stream",
     "text": [
      "Explained variance score: 0.06800643683871166\n",
      "Mean squared error: 0.2680828841246879\n",
      "R2 score: 0.06795616256831438\n"
     ]
    }
   ],
   "source": [
    "print(\"Explained variance score: %s\" % skmetrics.explained_variance_score(y_finaltest, lr_predict))\n",
    "\n",
    "print(\"Mean squared error: %s\" % skmetrics.mean_squared_error(y_finaltest, lr_predict))\n",
    "\n",
    "print(\"R2 score: %s\" % skmetrics.r2_score(y_finaltest, lr_predict))"
   ]
  },
  {
   "cell_type": "markdown",
   "metadata": {},
   "source": [
    "#### Explained variance score: 0.06800643683871166\n",
    "#### Mean squared error: 0.2680828841246879\n",
    "#### R2 score: 0.06795616256831438"
   ]
  },
  {
   "cell_type": "markdown",
   "metadata": {},
   "source": [
    "#### Wow, that R2 value is almost 0. This basically implies Log Score and Critical Flag has zero linear relations with Ratings. Lets run a correlation Coefficient"
   ]
  },
  {
   "cell_type": "code",
   "execution_count": 49,
   "metadata": {},
   "outputs": [
    {
     "data": {
      "text/html": [
       "<div>\n",
       "<style scoped>\n",
       "    .dataframe tbody tr th:only-of-type {\n",
       "        vertical-align: middle;\n",
       "    }\n",
       "\n",
       "    .dataframe tbody tr th {\n",
       "        vertical-align: top;\n",
       "    }\n",
       "\n",
       "    .dataframe thead th {\n",
       "        text-align: right;\n",
       "    }\n",
       "</style>\n",
       "<table border=\"1\" class=\"dataframe\">\n",
       "  <thead>\n",
       "    <tr style=\"text-align: right;\">\n",
       "      <th></th>\n",
       "      <th>Log_Score</th>\n",
       "      <th>RATINGS</th>\n",
       "      <th>CRITICAL_FLAG_Not Critical</th>\n",
       "    </tr>\n",
       "  </thead>\n",
       "  <tbody>\n",
       "    <tr>\n",
       "      <th>Log_Score</th>\n",
       "      <td>1.000000</td>\n",
       "      <td>-0.013244</td>\n",
       "      <td>-0.249923</td>\n",
       "    </tr>\n",
       "    <tr>\n",
       "      <th>RATINGS</th>\n",
       "      <td>-0.013244</td>\n",
       "      <td>1.000000</td>\n",
       "      <td>-0.013828</td>\n",
       "    </tr>\n",
       "    <tr>\n",
       "      <th>CRITICAL_FLAG_Not Critical</th>\n",
       "      <td>-0.249923</td>\n",
       "      <td>-0.013828</td>\n",
       "      <td>1.000000</td>\n",
       "    </tr>\n",
       "  </tbody>\n",
       "</table>\n",
       "</div>"
      ],
      "text/plain": [
       "                            Log_Score   RATINGS  CRITICAL_FLAG_Not Critical\n",
       "Log_Score                    1.000000 -0.013244                   -0.249923\n",
       "RATINGS                     -0.013244  1.000000                   -0.013828\n",
       "CRITICAL_FLAG_Not Critical  -0.249923 -0.013828                    1.000000"
      ]
     },
     "execution_count": 49,
     "metadata": {},
     "output_type": "execute_result"
    }
   ],
   "source": [
    "df_lin2.corr()"
   ]
  },
  {
   "cell_type": "code",
   "execution_count": 50,
   "metadata": {},
   "outputs": [
    {
     "data": {
      "text/plain": [
       "array([[<matplotlib.axes._subplots.AxesSubplot object at 0x1c156e0710>,\n",
       "        <matplotlib.axes._subplots.AxesSubplot object at 0x1c12a445c0>,\n",
       "        <matplotlib.axes._subplots.AxesSubplot object at 0x1c12300160>],\n",
       "       [<matplotlib.axes._subplots.AxesSubplot object at 0x1c12bf0eb8>,\n",
       "        <matplotlib.axes._subplots.AxesSubplot object at 0x1c12c12d30>,\n",
       "        <matplotlib.axes._subplots.AxesSubplot object at 0x1c12c12278>],\n",
       "       [<matplotlib.axes._subplots.AxesSubplot object at 0x1c149ec7b8>,\n",
       "        <matplotlib.axes._subplots.AxesSubplot object at 0x1c14a267b8>,\n",
       "        <matplotlib.axes._subplots.AxesSubplot object at 0x1c15714c18>]],\n",
       "      dtype=object)"
      ]
     },
     "execution_count": 50,
     "metadata": {},
     "output_type": "execute_result"
    },
    {
     "data": {
      "image/png": "[encoded data removed]",
      "text/plain": [
       "<matplotlib.figure.Figure at 0x1c156e00f0>"
      ]
     },
     "metadata": {},
     "output_type": "display_data"
    }
   ],
   "source": [
    "pd.plotting.scatter_matrix(df_lin2, alpha = 0.5, figsize = (10, 10))"
   ]
  },
  {
   "cell_type": "code",
   "execution_count": null,
   "metadata": {},
   "outputs": [],
   "source": []
  },
  {
   "cell_type": "code",
   "execution_count": null,
   "metadata": {},
   "outputs": [],
   "source": []
  },
  {
   "cell_type": "markdown",
   "metadata": {},
   "source": [
    "### 2. Linear Regression - Log Score, Ratings, Critical Flag, Zipcode, Cuisine_desc, Violation_code\n",
    "### New df for linear regression"
   ]
  },
  {
   "cell_type": "code",
   "execution_count": 44,
   "metadata": {},
   "outputs": [],
   "source": [
    "df_linear3_ex = df_ex.drop(['CAMIS',\n",
    "                            'BORO',\n",
    "                            'GRADE',\n",
    "                            'DBA',\n",
    "                            'VIOLATION_DESC',\n",
    "                            'ACTION',\n",
    "                            'INSPECTION_TYPE',\n",
    "                            'GRADE_DATE',\n",
    "                            'RECORD_DATE'\n",
    "                         ], 1)\n",
    "\n",
    "df_linear3 = df_linear3_ex[df_linear3_ex.SCORE > 0]"
   ]
  },
  {
   "cell_type": "code",
   "execution_count": 45,
   "metadata": {},
   "outputs": [
    {
     "data": {
      "text/plain": [
       "Index(['ZIPCODE', 'CUISINE_DESC', 'VIOLATION_CODE', 'CRITICAL_FLAG', 'SCORE',\n",
       "       'RATINGS'],\n",
       "      dtype='object')"
      ]
     },
     "execution_count": 45,
     "metadata": {},
     "output_type": "execute_result"
    }
   ],
   "source": [
    "df_linear3.columns"
   ]
  },
  {
   "cell_type": "code",
   "execution_count": 46,
   "metadata": {
    "scrolled": true
   },
   "outputs": [
    {
     "name": "stderr",
     "output_type": "stream",
     "text": [
      "/Users/allandong/anaconda/lib/python3.6/site-packages/ipykernel_launcher.py:1: SettingWithCopyWarning: \n",
      "A value is trying to be set on a copy of a slice from a DataFrame.\n",
      "Try using .loc[row_indexer,col_indexer] = value instead\n",
      "\n",
      "See the caveats in the documentation: http://pandas.pydata.org/pandas-docs/stable/indexing.html#indexing-view-versus-copy\n",
      "  \"\"\"Entry point for launching an IPython kernel.\n"
     ]
    }
   ],
   "source": [
    "df_linear3['Log_Score'] = df_linear3.loc[:,'SCORE'].apply(np.log)\n",
    "df_linear3_1hot = pd.get_dummies(df_linear3, drop_first = True, columns = ['ZIPCODE', \n",
    "                                                                           'CUISINE_DESC', \n",
    "                                                                           'VIOLATION_CODE',\n",
    "                                                                           'CRITICAL_FLAG'],)\n"
   ]
  },
  {
   "cell_type": "code",
   "execution_count": 47,
   "metadata": {},
   "outputs": [],
   "source": [
    "# print(list(df_linear3_1hot.columns))"
   ]
  },
  {
   "cell_type": "code",
   "execution_count": 48,
   "metadata": {},
   "outputs": [],
   "source": [
    "df_lin3 = df_linear3_1hot.drop(['SCORE'], 1)"
   ]
  },
  {
   "cell_type": "code",
   "execution_count": 49,
   "metadata": {},
   "outputs": [],
   "source": [
    "df_lin3_y = df_lin3['Log_Score']\n",
    "df_lin3_x = df_lin3.drop(['Log_Score'], 1)\n",
    "\n",
    "\n",
    "x_train3, x_test3, y_train3, y_test3 = train_test_split(df_lin3_x, df_lin3_y, test_size=0.2)"
   ]
  },
  {
   "cell_type": "code",
   "execution_count": 50,
   "metadata": {},
   "outputs": [],
   "source": [
    "lr = LinearRegression()\n",
    "\n",
    "lr.fit(x_train3, y_train3)\n",
    "lr_predict3 = lr.predict(x_test3)"
   ]
  },
  {
   "cell_type": "code",
   "execution_count": 51,
   "metadata": {},
   "outputs": [
    {
     "data": {
      "text/plain": [
       "0.19110349694471662"
      ]
     },
     "execution_count": 51,
     "metadata": {},
     "output_type": "execute_result"
    }
   ],
   "source": [
    "lr.score(x_test3, y_test3)"
   ]
  },
  {
   "cell_type": "code",
   "execution_count": 52,
   "metadata": {
    "scrolled": true
   },
   "outputs": [
    {
     "name": "stdout",
     "output_type": "stream",
     "text": [
      "Explained variance score/R2: 0.19121331557780852\n",
      "Mean squared error: 0.22928323036359607\n",
      "R2 score: 0.19110349694471662\n"
     ]
    }
   ],
   "source": [
    "print(\"Explained variance score/R2: %s\" % skmetrics.explained_variance_score(y_test3, lr_predict3))\n",
    "\n",
    "print(\"Mean squared error: %s\" % skmetrics.mean_squared_error(y_test3, lr_predict3))\n",
    "\n",
    "print(\"R2 score: %s\" % skmetrics.r2_score(y_test3, lr_predict3))"
   ]
  },
  {
   "cell_type": "markdown",
   "metadata": {},
   "source": [
    "#### Explained variance score/R2: 0.19922667527359117\n",
    "    \n",
    "#### Mean squared error: 0.22724405308413398\n",
    "    \n",
    "#### R2 score: 0.19922598269970815"
   ]
  },
  {
   "cell_type": "code",
   "execution_count": 53,
   "metadata": {},
   "outputs": [],
   "source": [
    "# R2 score higher this time, but still produces a poor model to predict Log_Score.\n",
    "# Increased number of features also likely to have caused higher R2 score"
   ]
  },
  {
   "cell_type": "code",
   "execution_count": null,
   "metadata": {},
   "outputs": [],
   "source": []
  },
  {
   "cell_type": "code",
   "execution_count": null,
   "metadata": {},
   "outputs": [],
   "source": []
  },
  {
   "cell_type": "code",
   "execution_count": null,
   "metadata": {},
   "outputs": [],
   "source": []
  },
  {
   "cell_type": "code",
   "execution_count": null,
   "metadata": {},
   "outputs": [],
   "source": []
  },
  {
   "cell_type": "code",
   "execution_count": null,
   "metadata": {},
   "outputs": [],
   "source": [
    "cross_val_score(lr, df_lin3_x, df_lin3_y, cv=5)"
   ]
  },
  {
   "cell_type": "code",
   "execution_count": null,
   "metadata": {},
   "outputs": [],
   "source": [
    "# Huh, is there really no correlation betwen score and any of these categories? Plot Predicted vs Actual values"
   ]
  },
  {
   "cell_type": "code",
   "execution_count": null,
   "metadata": {},
   "outputs": [],
   "source": [
    "real_predict = pd.Series(np.exp(lr_predict3), name = 'real_predict')\n",
    "real_y_test3 = pd.Series(np.exp(y_test3),name = 'real_test')\n",
    "\n",
    "\n",
    "#real_y_test3['Real_Predict'] = real_predict\n",
    "\n",
    "df_real_predict = pd.DataFrame(real_y_test3).join(real_predict)\n",
    "\n"
   ]
  },
  {
   "cell_type": "code",
   "execution_count": null,
   "metadata": {},
   "outputs": [],
   "source": []
  },
  {
   "cell_type": "code",
   "execution_count": null,
   "metadata": {},
   "outputs": [],
   "source": []
  },
  {
   "cell_type": "code",
   "execution_count": null,
   "metadata": {},
   "outputs": [],
   "source": [
    "# Plot log_predicted vs log_actual values\n",
    "x = lr_predict3\n",
    "y = y_test3\n",
    "\n",
    "plt.scatter(x, y)"
   ]
  },
  {
   "cell_type": "code",
   "execution_count": null,
   "metadata": {},
   "outputs": [],
   "source": [
    "# Plot predicted vs actual values\n",
    "x = real_predict\n",
    "y = real_y_test3\n",
    "\n",
    "plt.scatter(x, y)"
   ]
  },
  {
   "cell_type": "code",
   "execution_count": null,
   "metadata": {},
   "outputs": [],
   "source": [
    "# Plot residuals of log_predicted\n",
    "\n",
    "lr_residuals = lr_predict3 - y_test3\n",
    "\n",
    "x = lr_predict3\n",
    "y = lr_residuals\n",
    "\n",
    "plt.scatter(x, y)"
   ]
  },
  {
   "cell_type": "code",
   "execution_count": null,
   "metadata": {},
   "outputs": [],
   "source": [
    "# Plot residuals of actual_predicted\n",
    "\n",
    "real_residuals = real_predict - real_y_test3\n",
    "\n",
    "x = real_predict\n",
    "y = real_residuals\n",
    "\n"
   ]
  },
  {
   "cell_type": "code",
   "execution_count": null,
   "metadata": {},
   "outputs": [],
   "source": []
  },
  {
   "cell_type": "code",
   "execution_count": null,
   "metadata": {},
   "outputs": [],
   "source": []
  },
  {
   "cell_type": "code",
   "execution_count": null,
   "metadata": {},
   "outputs": [],
   "source": [
    "lr_residuals.head()"
   ]
  },
  {
   "cell_type": "code",
   "execution_count": null,
   "metadata": {},
   "outputs": [],
   "source": []
  },
  {
   "cell_type": "code",
   "execution_count": 52,
   "metadata": {},
   "outputs": [],
   "source": [
    "def kfolds_cv(x, y, n):\n",
    "    kf = KFold(n_splits=n, shuffle=True, random_state=42)\n",
    "    trainsets = []\n",
    "    testsets = []\n",
    "    for train, test in kf.split(x, y):\n",
    "        trainsets.append(train)\n",
    "        testsets.append(test)\n",
    "    return trainsets, testsets\n",
    "\n",
    "trainsets, testsets = kfolds_cv(x_train, y_train, 5)"
   ]
  },
  {
   "cell_type": "code",
   "execution_count": null,
   "metadata": {},
   "outputs": [],
   "source": []
  },
  {
   "cell_type": "code",
   "execution_count": null,
   "metadata": {},
   "outputs": [],
   "source": []
  },
  {
   "cell_type": "code",
   "execution_count": null,
   "metadata": {},
   "outputs": [],
   "source": []
  },
  {
   "cell_type": "code",
   "execution_count": null,
   "metadata": {},
   "outputs": [],
   "source": []
  },
  {
   "cell_type": "code",
   "execution_count": 53,
   "metadata": {},
   "outputs": [],
   "source": [
    "\n",
    "\n",
    "#for i in range(0, len(trainsets)):\n",
    "#    print(lr.fit(trainsets[i], testsets[i]).score)"
   ]
  },
  {
   "cell_type": "code",
   "execution_count": null,
   "metadata": {},
   "outputs": [],
   "source": [
    "def modelprints(algo, X, y, trainfold, testfold):\n",
    "    algs = algo()\n",
    "    fitted_model = algs.fit(X.iloc[trainfold], y[trainfold])\n",
    "    yhat = algs.predict_proba(X.iloc[testfold])\n",
    "    accuracy = algs.score(X.iloc[testfold], y[testfold])\n",
    "    auscore = roc_auc_score(y[testfold],yhat[:,1])\n",
    "    print('for fold '+ str(i+1) + ' accuracy = ' + str(accuracy) + ' and auc score = ' + str(auscore))\n",
    "    \n",
    "def modelfits(algo, X, y, trainfold, testfold):\n",
    "    algs = algo()\n",
    "    fitted_model = algs.fit(X.iloc[trainfold], y[trainfold])\n",
    "    yhat = algs.predict_proba(X.iloc[testfold])\n",
    "    return yhat[:,1]"
   ]
  },
  {
   "cell_type": "code",
   "execution_count": null,
   "metadata": {},
   "outputs": [],
   "source": [
    "for i in range(0, len(trainsets)):\n",
    "    print('\\nFor fold '+ str(i+1) + ':')\n",
    "    print('Log Reg  : ', end='')\n",
    "    modelprints(LogisticRegression(), df_lin2_x, logscore, trainsets[i], testsets[i])\n"
   ]
  },
  {
   "cell_type": "code",
   "execution_count": null,
   "metadata": {},
   "outputs": [],
   "source": []
  },
  {
   "cell_type": "code",
   "execution_count": null,
   "metadata": {},
   "outputs": [],
   "source": []
  },
  {
   "cell_type": "markdown",
   "metadata": {
    "collapsed": true
   },
   "source": [
    "Remove all grades with that are not A, B or C"
   ]
  },
  {
   "cell_type": "code",
   "execution_count": null,
   "metadata": {},
   "outputs": [],
   "source": []
  },
  {
   "cell_type": "code",
   "execution_count": null,
   "metadata": {},
   "outputs": [],
   "source": [
    "dfex_cols_viol = ['RATINGS', 'SCORE', 'CRITICAL_FLAG', 'GRADE', 'VIOLATION_CODE']\n",
    "dfex_viol_pre = df_ex[dfex_cols_viol]\n",
    "\n",
    "\n",
    "df_ex_prex = df_ex.drop(['ZIPCODE', 'CUISINE_DESC', 'URL', 'YELP_RATINGS'],\n",
    "           axis = 1)\n",
    "\n"
   ]
  },
  {
   "cell_type": "code",
   "execution_count": null,
   "metadata": {},
   "outputs": [],
   "source": [
    "critical_flag_patsy = patsy.dmatrix('CRITICAL_FLAG', data=dfex, return_type='dataframe').drop('Intercept', 1)\n",
    "grade_num_patsy = patsy.dmatrix('GRADE', data=dfex, return_type='dataframe').drop('Intercept', 1)\n",
    "violation_code_patsy = patsy.dmatrix('VIOLATION_CODE', data=dfex, return_type=\"dataframe\").drop('Intercept', 1)\n",
    "\n"
   ]
  },
  {
   "cell_type": "code",
   "execution_count": null,
   "metadata": {},
   "outputs": [],
   "source": [
    "dfex_patsy = pd.concat([dfex, grade_num_patsy, critical_flag_patsy, violation_code_patsy], \n",
    "                      axis = 1, join_axes = [dfex.index])\n",
    "\n",
    "\n",
    "\n",
    "\n",
    "dfex = dfex_viol_pre.drop(['GRADE', 'CRITICAL_FLAG', 'VIOLATION_CODE'], 1)\n",
    "dfex_viol = dfex_viol_pre.drop(['GRADE', 'CRITICAL_FLAG'], 1)\n"
   ]
  },
  {
   "cell_type": "code",
   "execution_count": null,
   "metadata": {},
   "outputs": [],
   "source": []
  },
  {
   "cell_type": "code",
   "execution_count": null,
   "metadata": {},
   "outputs": [],
   "source": [
    "\n",
    "\n",
    "#cuisine_desc = pd.get_dummies(df_exx['CUISINE_DESC'])\n",
    "#critical_flag = pd.get_dummies(df_exx['CRITICAL_FLAG'])\n",
    "#grade_num = pd.get_dummies(df_exx['GRADE'])\n",
    "\n",
    "\n"
   ]
  },
  {
   "cell_type": "code",
   "execution_count": null,
   "metadata": {},
   "outputs": [],
   "source": [
    "df_exx = df_ex_prex\n",
    "\n",
    "\n",
    "critical_flag_patsy = patsy.dmatrix('CRITICAL_FLAG', data=df_exx, return_type='dataframe').drop('Intercept', 1)\n",
    "grade_num_patsy = patsy.dmatrix('GRADE', data=df_exx, return_type='dataframe').drop('Intercept', 1)\n",
    "violation_code_patsy = patsy.dmatrix('VIOLATION_CODE', data=df_exx, return_type=\"dataframe\").drop('Intercept', 1)\n",
    "\n",
    "\n",
    "#df_exx = pd.concat([df_exx, grade_num, critical_flag], axis = 1, join_axes = [df_exx.index])\n",
    "df_exx = pd.concat([df_exx, \n",
    "                    grade_num_patsy, \n",
    "                    critical_flag_patsy, \n",
    "                    violation_code_patsy\n",
    "                   ], axis = 1, join_axes = [df_exx.index])\n",
    "\n",
    "df_exx = df_exx.drop(['VIOLATION_CODE', 'CRITICAL_FLAG', 'GRADE'],\n",
    "           axis = 1)\n",
    "\n",
    "\n"
   ]
  },
  {
   "cell_type": "code",
   "execution_count": null,
   "metadata": {},
   "outputs": [],
   "source": []
  },
  {
   "cell_type": "code",
   "execution_count": null,
   "metadata": {},
   "outputs": [],
   "source": [
    "dfex_patsy.head()"
   ]
  },
  {
   "cell_type": "markdown",
   "metadata": {},
   "source": [
    "Check each column for non numeric values"
   ]
  },
  {
   "cell_type": "markdown",
   "metadata": {},
   "source": [
    "Examine data and preliminary analysis of R2"
   ]
  },
  {
   "cell_type": "code",
   "execution_count": null,
   "metadata": {
    "scrolled": false
   },
   "outputs": [],
   "source": [
    "sns.set_context(\"paper\")\n",
    "sns.pairplot(dfex_patsy[['SCORE','RATINGS', 'GRADE[T.B]', 'GRADE[T.C]',\n",
    "       'CRITICAL_FLAG[T.Not Critical]']], kind=\"scatter\", diag_kind=\"hist\")\n"
   ]
  },
  {
   "cell_type": "code",
   "execution_count": null,
   "metadata": {},
   "outputs": [],
   "source": [
    "dfex_patsy.rename(columns={'CRITICAL_FLAG[T.Not Critical]':'CRITICAL_FLAG[T.NotCritical]'}, inplace=True)"
   ]
  },
  {
   "cell_type": "code",
   "execution_count": null,
   "metadata": {},
   "outputs": [],
   "source": []
  },
  {
   "cell_type": "code",
   "execution_count": null,
   "metadata": {},
   "outputs": [],
   "source": [
    "dfex.corr()"
   ]
  },
  {
   "cell_type": "code",
   "execution_count": null,
   "metadata": {},
   "outputs": [],
   "source": [
    "dfex_patsy"
   ]
  },
  {
   "cell_type": "code",
   "execution_count": null,
   "metadata": {},
   "outputs": [],
   "source": []
  },
  {
   "cell_type": "code",
   "execution_count": null,
   "metadata": {
    "scrolled": true
   },
   "outputs": [],
   "source": [
    "y, X = patsy.dmatrices('RATINGS ~ SCORE + RATINGS + GRADE[T.B] + GRADE[T.C] + CRITICAL_FLAG[T.NotCritical]', \n",
    "                       data=dfex_patsy, return_type=\"dataframe\")\n",
    "model = sm.OLS(y, X)\n",
    "fit = model.fit()\n",
    "fit.summary()\n",
    "\n",
    "\n",
    "#lml = smf.ols('Y ')"
   ]
  },
  {
   "cell_type": "markdown",
   "metadata": {},
   "source": [
    "Check R2 with LinearRegression\n",
    "\n",
    "\n",
    "Legend:\n",
    "\n",
    "dfex : [y = 'RATINGS', x = 'SCORE', 'GRADE_NUM', 'CRIT_FLAG_NUM']\n",
    "\n",
    "dfex1 : [y = 'SCORE', x ='RATINGS', 'GRADE_NUM', 'CRIT_FLAG_NUM']\n",
    "\n",
    "dfex2 : [y = 'SCORE', x ='RATINGS', 'CRIT_FLAG_NUM']\n",
    "\n",
    "dfex1_viol : [y = 'SCORE', x = 'RATINGS', 'GRADE_NUM', 'CRIT_FLAG_NUM', VIOLATION_CODE-dummies]\n",
    "\n",
    "dfex2_viol : [y = 'SCORE', x = 'RATINGS', 'CRIT_FLAG_NUM', VIOLATION_CODE-dummies]"
   ]
  },
  {
   "cell_type": "code",
   "execution_count": null,
   "metadata": {},
   "outputs": [],
   "source": []
  },
  {
   "cell_type": "code",
   "execution_count": null,
   "metadata": {},
   "outputs": [],
   "source": []
  },
  {
   "cell_type": "code",
   "execution_count": null,
   "metadata": {},
   "outputs": [],
   "source": [
    "\n",
    "dfex1_cols = ['SCORE', 'RATINGS', 'GRADE[T.B]', 'GRADE[T.C]', 'CRITICAL_FLAG[T.Not Critical]']\n",
    "dfex1= dfex_patsy[dfex1_cols]\n",
    "\n",
    "\n",
    "dfex1_viol = dfex_patsy"
   ]
  },
  {
   "cell_type": "code",
   "execution_count": null,
   "metadata": {},
   "outputs": [],
   "source": [
    "dfex2 = dfex1.drop(['GRADE[T.B]', 'GRADE[T.C]'], 1)\n",
    "dfex2_viol = dfex1_viol.drop(['GRADE[T.B]', 'GRADE[T.C]'], 1)\n"
   ]
  },
  {
   "cell_type": "code",
   "execution_count": null,
   "metadata": {},
   "outputs": [],
   "source": []
  },
  {
   "cell_type": "code",
   "execution_count": null,
   "metadata": {},
   "outputs": [],
   "source": [
    "lr = LinearRegression()\n",
    "X = dfex1.iloc[:, 1:]\n",
    "y = dfex1.iloc[:, 0]\n",
    "\n",
    "lr.fit(X, y)\n",
    "lr.score(X,y)"
   ]
  },
  {
   "cell_type": "code",
   "execution_count": null,
   "metadata": {},
   "outputs": [],
   "source": [
    "lr = LinearRegression(fit_intercept = True)\n",
    "\n",
    "\n",
    "\n",
    "\n",
    "\n",
    "X = dfex2.iloc[:, 1:]\n",
    "y = dfex2.SCORE\n",
    "lr.fit(X,y)\n",
    "lr.score(X,y)\n",
    "#print('X: ', list(X))\n",
    "#print(dfex2.columns)"
   ]
  },
  {
   "cell_type": "code",
   "execution_count": null,
   "metadata": {},
   "outputs": [],
   "source": [
    "dfex2.columns"
   ]
  },
  {
   "cell_type": "code",
   "execution_count": null,
   "metadata": {},
   "outputs": [],
   "source": [
    "\n",
    "X = dfex1_viol.iloc[:, 1:]\n",
    "y = dfex1_viol.iloc[:, 0]\n",
    "\n",
    "lr.fit(X, y)\n",
    "lr.score(X,y)"
   ]
  },
  {
   "cell_type": "code",
   "execution_count": null,
   "metadata": {},
   "outputs": [],
   "source": [
    "X = dfex2_viol.iloc[:, 1:]\n",
    "y = dfex2_viol.iloc[:, 0]\n",
    "\n",
    "lr.fit(X,y)\n",
    "lr.score(X,y)"
   ]
  },
  {
   "cell_type": "code",
   "execution_count": null,
   "metadata": {},
   "outputs": [],
   "source": [
    "dfex2_viol_cols = ''\n",
    "for i in dfex2_viol.columns:\n",
    "    dfex2_viol_cols += i + \"+\"\n",
    "dfex2_viol_patsy_str = 'SCORE ~ '+ dfex2_viol_cols[6:-1]\n",
    "dfex2_viol_patsy_str\n"
   ]
  },
  {
   "cell_type": "code",
   "execution_count": null,
   "metadata": {
    "scrolled": true
   },
   "outputs": [],
   "source": [
    "dfex_patsy.columns"
   ]
  },
  {
   "cell_type": "code",
   "execution_count": null,
   "metadata": {
    "scrolled": true
   },
   "outputs": [],
   "source": [
    "dfex_patsy1 = dfex_patsy.drop(['GRADE', 'VIOLATION_CODE', 'CRITICAL_FLAG'],1 )\n",
    "\n",
    "y_dfex2 = dfex_patsy1.SCORE\n",
    "X_dfex2 = dfex_patsy1.drop(['SCORE'], 1)\n",
    "\n",
    "model_dfex2 = sm.OLS(y_dfex2, X_dfex2)\n",
    "fit_dfex2 =model_dfex2.fit()\n",
    "fit_dfex2.summary()\n"
   ]
  },
  {
   "cell_type": "code",
   "execution_count": null,
   "metadata": {},
   "outputs": [],
   "source": [
    "critical_flag_patsy = patsy.dmatrix('CRITICAL_FLAG', data=df_ex, return_type='dataframe').drop('Intercept', 1)\n",
    "grade_num_patsy = patsy.dmatrix('GRADE', data=df_ex, return_type='dataframe').drop('Intercept', 1)\n",
    "violation_code_patsy = patsy.dmatrix('VIOLATION_CODE', data=df_ex, return_type=\"dataframe\").drop('Intercept', 1)\n",
    "zipcode_patsy = patsy.dmatrix('ZIPCODE', data=df_ex, return_type=\"dataframe\").drop('Intercept', 1)\n",
    "\n",
    "df_dummy_cgvz = pd.concat([df_ex, \n",
    "#                      grade_num_patsy, \n",
    "#                      critical_flag_patsy, \n",
    "#                      violation_code_patsy,\n",
    "                      zipcode_patsy\n",
    "                   ], axis = 1, join_axes = [df_exx.index])\n",
    "\n",
    "df_dummy_cgvz = df_dummy_cgvz.drop(['VIOLATION_CODE', \n",
    "                                    'CRITICAL_FLAG', \n",
    "                                    'GRADE', \n",
    "                                    'ZIPCODE', \n",
    "                                    'CUISINE_DESC',\n",
    "                                    'URL',\n",
    "                                    'YELP_RATINGS'\n",
    "                                   ],axis = 1)\n",
    "\n",
    "df_dummy_cgvz.columns\n"
   ]
  },
  {
   "cell_type": "code",
   "execution_count": null,
   "metadata": {},
   "outputs": [],
   "source": [
    "master = dfex2\n",
    "#df_dummy_cgvz\n",
    "y = master.SCORE\n",
    "X= master.drop(['SCORE'], 1)\n",
    "\n",
    "print(X.columns)\n",
    "\n",
    "model_dfex2 = sm.OLS(y, X)\n",
    "fit_dfex2 =model_dfex2.fit()\n",
    "fit_dfex2.summary()\n"
   ]
  },
  {
   "cell_type": "code",
   "execution_count": null,
   "metadata": {},
   "outputs": [],
   "source": [
    "df_ex.columns"
   ]
  },
  {
   "cell_type": "code",
   "execution_count": null,
   "metadata": {},
   "outputs": [],
   "source": [
    "lr = LinearRegression()\n",
    "\n",
    "df_exx_lr= df_exx.drop(['GRADE[T.B]', 'GRADE[T.C]'], 1)\n",
    "X = df_exx_lr.drop(['RATINGS'], 1)\n",
    "y = df_exx_lr.RATINGS\n",
    "\n",
    "lr.fit(X, y)\n",
    "lr.score(X, y)"
   ]
  },
  {
   "cell_type": "code",
   "execution_count": null,
   "metadata": {},
   "outputs": [],
   "source": [
    "df_exx_lr.columns"
   ]
  },
  {
   "cell_type": "code",
   "execution_count": null,
   "metadata": {},
   "outputs": [],
   "source": [
    "reg = LinearRegression()\n",
    "X = df_exx.iloc[:, 1:]\n",
    "y = df_exx.iloc[:, 0]\n",
    "scores = cross_val_score(reg, X, y, cv=10, scoring='neg_mean_squared_error')\n",
    "\n",
    "# scores output is negative, a sklearn quirk bc mse is used to min. optimization func.\n",
    "print(-scores)"
   ]
  },
  {
   "cell_type": "code",
   "execution_count": null,
   "metadata": {},
   "outputs": [],
   "source": [
    "sns.pairplot(dfex_patsy[['SCORE', 'RATINGS','GRADE[T.B]','GRADE[T.C]','CRITICAL_FLAG[T.Not Critical]']], \n",
    "                       kind=\"scatter\",\n",
    "                       diag_kind=\"hist\"\n",
    "                       )\n"
   ]
  },
  {
   "cell_type": "code",
   "execution_count": null,
   "metadata": {},
   "outputs": [],
   "source": []
  },
  {
   "cell_type": "code",
   "execution_count": null,
   "metadata": {},
   "outputs": [],
   "source": []
  },
  {
   "cell_type": "code",
   "execution_count": null,
   "metadata": {},
   "outputs": [],
   "source": []
  },
  {
   "cell_type": "code",
   "execution_count": null,
   "metadata": {
    "scrolled": false
   },
   "outputs": [],
   "source": [
    "dfex2_viol_cols = ''\n",
    "for i in dfex2_viol.columns:\n",
    "    dfex2_viol_cols += i + \"+\"\n",
    "dfex2_viol_patsy_str = 'SCORE ~ '+ dfex2_viol_cols[6:-1]\n",
    "dfex2_viol_patsy_str"
   ]
  },
  {
   "cell_type": "code",
   "execution_count": null,
   "metadata": {
    "scrolled": false
   },
   "outputs": [],
   "source": [
    "'''y, X = patsy.dmatrices(dfex2_viol_patsy_str,\n",
    "                       data=dfex2_viol, return_type=\"dataframe\")\n",
    "model = sm.OLS(y, X)\n",
    "fit = model.fit()\n",
    "fit.summary()\n",
    "'''"
   ]
  },
  {
   "cell_type": "code",
   "execution_count": null,
   "metadata": {},
   "outputs": [],
   "source": []
  },
  {
   "cell_type": "code",
   "execution_count": null,
   "metadata": {},
   "outputs": [],
   "source": [
    "'''df_exx_cols = ''\n",
    "for i in df_exx.columns:\n",
    "    df_exx_cols += i + \" + \"\n",
    "df_exx_cols = \"SCORE ~ \" + df_exx_cols[8:-3] \n",
    "df_exx_cols'''"
   ]
  },
  {
   "cell_type": "code",
   "execution_count": null,
   "metadata": {},
   "outputs": [],
   "source": [
    "'''y_df_exx, X_df_exxx = patsy.dmatrices(df_exx_cols, data=df_exx, return_type=\"dataframe\")\n",
    "model_df_exx = sm.OLS(y_df_exx, X_df_exx)\n",
    "fit_df_exx = model_df_exx.fit()\n",
    "fit_df_exx.summary()'''"
   ]
  },
  {
   "cell_type": "markdown",
   "metadata": {
    "collapsed": true
   },
   "source": [
    "# Violation Code"
   ]
  },
  {
   "cell_type": "code",
   "execution_count": null,
   "metadata": {
    "scrolled": true
   },
   "outputs": [],
   "source": [
    "df_viol = df_clean.drop(['CAMIS', \n",
    "                          'DBA',\n",
    "                          'BORO', \n",
    "                          'BUILDING', \n",
    "                          'STREET', \n",
    "                          'ZIPCODE',\n",
    "                          'PHONE',\n",
    "                          'CUISINE_DESC',\n",
    "                          'INSPECTION_DATE',\n",
    "                          'ACTION',\n",
    "                          'SCORE',\n",
    "                          'GRADE',\n",
    "                          'GRADE_DATE',\n",
    "                          'RECORD_DATE',\n",
    "                          'INSPECTION_TYPE',\n",
    "                          'ADDRESS',\n",
    "                          'URL'\n",
    "                         ], 1)\n",
    "df_viol = df_viol.drop_duplicates(subset='VIOLATION_CODE')\n",
    "df_viol =df_viol.sort_values(['VIOLATION_CODE'])\n",
    "df_viol.head(60)"
   ]
  },
  {
   "cell_type": "markdown",
   "metadata": {},
   "source": [
    "\n",
    "# Data Exploration 2/2"
   ]
  },
  {
   "cell_type": "code",
   "execution_count": null,
   "metadata": {},
   "outputs": [],
   "source": [
    "df_ex.head()"
   ]
  },
  {
   "cell_type": "code",
   "execution_count": null,
   "metadata": {},
   "outputs": [],
   "source": [
    "sns.set_context(\"talk\")\n",
    "score = dfex_viol['SCORE']\n",
    "sns.distplot(score, kde = False)"
   ]
  },
  {
   "cell_type": "code",
   "execution_count": null,
   "metadata": {},
   "outputs": [],
   "source": [
    "sns.set_context(\"poster\")\n",
    "\n",
    "data1=dfex_viol.sort_values(['VIOLATION_CODE'][-1])\n",
    "\n",
    "yaxes = dfex_viol.sort_values(['VIOLATION_CODE'][-1])['VIOLATION_CODE']\n",
    "xaxes = dfex_viol.sort_values(['VIOLATION_CODE'][-1])['SCORE']\n",
    "sns.boxplot(x=xaxes, y=yaxes, data=data1)"
   ]
  },
  {
   "cell_type": "code",
   "execution_count": null,
   "metadata": {
    "scrolled": true
   },
   "outputs": [],
   "source": [
    "sns.set_context(\"poster\")\n",
    "\n",
    "data1=dfex_viol.sort_values(['VIOLATION_CODE'][-1])\n",
    "\n",
    "yaxes = dfex_viol.sort_values(['VIOLATION_CODE'][-1])['VIOLATION_CODE']\n",
    "xaxes = dfex_viol.sort_values(['VIOLATION_CODE'][-1])['SCORE']\n",
    "sns.boxplot(x=xaxes, y=yaxes, data=data1, ax = (16, 30))"
   ]
  },
  {
   "cell_type": "code",
   "execution_count": null,
   "metadata": {
    "scrolled": true
   },
   "outputs": [],
   "source": [
    "\n",
    "score = dfex_viol['SCORE']\n",
    "sns.distplot(score)"
   ]
  },
  {
   "cell_type": "code",
   "execution_count": null,
   "metadata": {},
   "outputs": [],
   "source": [
    "data1=dfex_viol.sort_values(['VIOLATION_CODE'][-1])\n",
    "y = dfex_viol.sort_values(['VIOLATION_CODE'][-1])['VIOLATION_CODE']\n",
    "\n"
   ]
  },
  {
   "cell_type": "code",
   "execution_count": null,
   "metadata": {},
   "outputs": [],
   "source": []
  },
  {
   "cell_type": "markdown",
   "metadata": {},
   "source": [
    "# Plot"
   ]
  },
  {
   "cell_type": "code",
   "execution_count": null,
   "metadata": {},
   "outputs": [],
   "source": [
    "x =df_ex.SCORE\n",
    "y = df_ex.RATINGS\n",
    "\n",
    "sns.regplot(x, y)"
   ]
  },
  {
   "cell_type": "code",
   "execution_count": null,
   "metadata": {},
   "outputs": [],
   "source": [
    "sns.regplot(y, x)"
   ]
  },
  {
   "cell_type": "code",
   "execution_count": null,
   "metadata": {},
   "outputs": [],
   "source": [
    "x =df_ex.SCORE\n",
    "y = df_ex.RATINGS.apply(,1)\n",
    "\n",
    "sns.regplot(x, y)"
   ]
  },
  {
   "cell_type": "code",
   "execution_count": null,
   "metadata": {},
   "outputs": [],
   "source": []
  },
  {
   "cell_type": "code",
   "execution_count": null,
   "metadata": {},
   "outputs": [],
   "source": []
  },
  {
   "cell_type": "code",
   "execution_count": null,
   "metadata": {},
   "outputs": [],
   "source": []
  },
  {
   "cell_type": "code",
   "execution_count": null,
   "metadata": {},
   "outputs": [],
   "source": []
  }
 ],
 "metadata": {
  "kernelspec": {
   "display_name": "Python 3",
   "language": "python",
   "name": "python3"
  },
  "language_info": {
   "codemirror_mode": {
    "name": "ipython",
    "version": 3
   },
   "file_extension": ".py",
   "mimetype": "text/x-python",
   "name": "python",
   "nbconvert_exporter": "python",
   "pygments_lexer": "ipython3",
   "version": "3.6.4"
  }
 },
 "nbformat": 4,
 "nbformat_minor": 2
}
