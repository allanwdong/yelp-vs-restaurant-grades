{
 "cells": [
  {
   "cell_type": "code",
   "execution_count": 1,
   "metadata": {},
   "outputs": [
    {
     "name": "stderr",
     "output_type": "stream",
     "text": [
      "/Users/allandong/anaconda/lib/python3.6/site-packages/statsmodels/compat/pandas.py:56: FutureWarning: The pandas.core.datetools module is deprecated and will be removed in a future version. Please use the pandas.tseries module instead.\n",
      "  from pandas.core import datetools\n",
      "/Users/allandong/anaconda/lib/python3.6/site-packages/sklearn/cross_validation.py:44: DeprecationWarning: This module was deprecated in version 0.18 in favor of the model_selection module into which all the refactored classes and functions are moved. Also note that the interface of the new CV iterators are different from that of this module. This module will be removed in 0.20.\n",
      "  \"This module will be removed in 0.20.\", DeprecationWarning)\n"
     ]
    }
   ],
   "source": [
    "import numpy as np\n",
    "import pandas as pd\n",
    "import os.path\n",
    "import json\n",
    "\n",
    "import matplotlib.pyplot as plt\n",
    "import seaborn as sns\n",
    "import patsy\n",
    "import statsmodels.api as sm\n",
    "import statsmodels.formula.api as smf\n",
    "\n",
    "from seaborn import plt\n",
    "from sklearn.linear_model import LinearRegression\n",
    "from sklearn.model_selection import train_test_split\n",
    "from sklearn.linear_model import RidgeCV\n",
    "from sklearn.preprocessing import PolynomialFeatures\n",
    "from sklearn.pipeline import make_pipeline\n",
    "from sklearn.model_selection import KFold\n",
    "from sklearn.cross_validation import cross_val_score\n",
    "\n",
    "%matplotlib inline\n",
    "\n"
   ]
  },
  {
   "cell_type": "markdown",
   "metadata": {},
   "source": [
    "# Data Gathering\n",
    "\n",
    "Reading NYC Restaurant Inspection data into DataFrame to grab restaurant title/address to generate appropriate yelp urls for futures scraping"
   ]
  },
  {
   "cell_type": "code",
   "execution_count": 2,
   "metadata": {
    "collapsed": true,
    "scrolled": true
   },
   "outputs": [],
   "source": [
    "nyccsv = '/Users/allandong/ds/metis/metisgh/02-project-two-Luther/DOHMH_New_York_City_Restaurant_Inspection_Results.csv'\n",
    "\n",
    "df = pd.read_csv(nyccsv)\n",
    "\n",
    "cols = ['CAMIS', 'DBA', 'BORO', 'BUILDING', 'STREET', 'ZIPCODE', 'PHONE', 'CUISINE_DESC',\n",
    "           'INSPECTION_DATE', 'ACTION', 'VIOLATION_CODE', 'VIOLATION_DESC', 'CRITICAL_FLAG',\n",
    "           'SCORE', 'GRADE', 'GRADE_DATE', 'RECORD_DATE', 'INSPECTION_TYPE']\n",
    "df.columns = cols\n",
    "\n",
    "\n"
   ]
  },
  {
   "cell_type": "markdown",
   "metadata": {},
   "source": [
    "Yelp URLs are formulaic, by title and address. Generate Yelp URLs for scraping with scrapy."
   ]
  },
  {
   "cell_type": "code",
   "execution_count": 6,
   "metadata": {},
   "outputs": [
    {
     "name": "stderr",
     "output_type": "stream",
     "text": [
      "/Users/allandong/anaconda/lib/python3.6/site-packages/ipykernel_launcher.py:14: SettingWithCopyWarning: \n",
      "A value is trying to be set on a copy of a slice from a DataFrame.\n",
      "Try using .loc[row_indexer,col_indexer] = value instead\n",
      "\n",
      "See the caveats in the documentation: http://pandas.pydata.org/pandas-docs/stable/indexing.html#indexing-view-versus-copy\n",
      "  \n"
     ]
    }
   ],
   "source": [
    "df['ADDRESS'] = df.BUILDING + \" \" + df.STREET + \" \" + df.BORO\n",
    "\n",
    "def yelp_url_gen(row):\n",
    "    # yelp_url_gen:\n",
    "    #     Yelp search urls are formulatic based upon \"Find\" and \"Location\" inserted values -\n",
    "    #   so, I can generate what the urls would be if I serached by restaurant title and\n",
    "    #   restaurant address\n",
    "\n",
    "    title1 = row['DBA'].replace(\" \", \"+\")\n",
    "    address1 = row['ADDRESS'].replace(\" \", \"+\")\n",
    "    return \"https://www.yelp.com/search?find_desc={title1}&find_loc={address1}\".format(title1=title1, address1=address1)\n",
    "\n",
    "df_clean = df.dropna(axis=0, how='any')\n",
    "df_clean['URL'] = df_clean.apply(yelp_url_gen, axis = 1)"
   ]
  },
  {
   "cell_type": "markdown",
   "metadata": {},
   "source": [
    "Export to csv for access by scrapy program yelp_ratings.py"
   ]
  },
  {
   "cell_type": "code",
   "execution_count": 7,
   "metadata": {},
   "outputs": [],
   "source": [
    "path = '/Users/allandong/ds/metis/metisgh/02-project-two-Luther/df_clean.csv'\n",
    "df_clean.to_csv(path)\n",
    "\n",
    "urllist=list(df_clean['URL'])"
   ]
  },
  {
   "cell_type": "code",
   "execution_count": 8,
   "metadata": {},
   "outputs": [
    {
     "data": {
      "text/plain": [
       "Index(['CAMIS', 'DBA', 'BORO', 'BUILDING', 'STREET', 'ZIPCODE', 'PHONE',\n",
       "       'CUISINE_DESC', 'INSPECTION_DATE', 'ACTION', 'VIOLATION_CODE',\n",
       "       'VIOLATION_DESC', 'CRITICAL_FLAG', 'SCORE', 'GRADE', 'GRADE_DATE',\n",
       "       'RECORD_DATE', 'INSPECTION_TYPE', 'ADDRESS', 'URL'],\n",
       "      dtype='object')"
      ]
     },
     "execution_count": 8,
     "metadata": {},
     "output_type": "execute_result"
    }
   ],
   "source": [
    "df_clean.columns"
   ]
  },
  {
   "cell_type": "markdown",
   "metadata": {},
   "source": [
    "# Data Exploration 1"
   ]
  },
  {
   "cell_type": "markdown",
   "metadata": {},
   "source": [
    "Testing and cleaning code\n",
    "\n",
    "df_stats = creating a smaller DataFrame to run regressions/plot"
   ]
  },
  {
   "cell_type": "code",
   "execution_count": 9,
   "metadata": {
    "collapsed": true
   },
   "outputs": [],
   "source": [
    "df_stats = df_clean.drop(['CAMIS', \n",
    "                          'PHONE',\n",
    "                          'BORO', \n",
    "                          'BUILDING', \n",
    "                          'STREET', \n",
    "                          'ZIPCODE', \n",
    "                          'ACTION', \n",
    "                          'VIOLATION_CODE', \n",
    "                          'VIOLATION_DESC', \n",
    "                          'INSPECTION_TYPE', \n",
    "                          'URL'\n",
    "                         ], 1)\n"
   ]
  },
  {
   "cell_type": "markdown",
   "metadata": {},
   "source": [
    "Prep variables and defining functions to create Dummy Variables 'GRADE_NUM' and 'CRIT_FLAG_NUM'"
   ]
  },
  {
   "cell_type": "code",
   "execution_count": 10,
   "metadata": {
    "collapsed": true
   },
   "outputs": [],
   "source": [
    "df_stats = df_stats[df_stats.GRADE != 'Z']\n",
    "df_stats = df_stats[df_stats.GRADE != 'P']\n",
    "df_stats = df_stats[df_stats.GRADE != 'Not Yet Graded']"
   ]
  },
  {
   "cell_type": "code",
   "execution_count": 11,
   "metadata": {
    "collapsed": true
   },
   "outputs": [],
   "source": [
    "def grader(row):\n",
    "    grade = row['GRADE']\n",
    "    if grade=='A':\n",
    "        return 0\n",
    "    elif grade=='B':\n",
    "        return 5\n",
    "    elif grade=='C':\n",
    "        return 10\n",
    "    \n",
    "df_stats['GRADE_NUM'] = df_stats.apply(grader, axis=1)"
   ]
  },
  {
   "cell_type": "code",
   "execution_count": 12,
   "metadata": {
    "collapsed": true
   },
   "outputs": [],
   "source": [
    "def criticalflag(row):\n",
    "    flag = row['CRITICAL_FLAG']\n",
    "    if flag == 'Critical':\n",
    "        return 1\n",
    "    elif flag == 'Not Critical':\n",
    "        return 0\n",
    "\n",
    "df_stats['CRIT_FLAG_NUM'] = df_stats.apply(criticalflag, axis=1)"
   ]
  },
  {
   "cell_type": "markdown",
   "metadata": {},
   "source": [
    "Drop remaining unneeded columns"
   ]
  },
  {
   "cell_type": "code",
   "execution_count": 13,
   "metadata": {
    "collapsed": true
   },
   "outputs": [],
   "source": [
    "df_stats1=df_stats.drop(['DBA',\n",
    "                        'CUISINE_DESC',\n",
    "                        'INSPECTION_DATE',\n",
    "                        'CRITICAL_FLAG',\n",
    "                        'GRADE',\n",
    "                        'GRADE_DATE',\n",
    "                        'RECORD_DATE',\n",
    "                        'ADDRESS',\n",
    "                       ], 1)"
   ]
  },
  {
   "cell_type": "code",
   "execution_count": 14,
   "metadata": {},
   "outputs": [
    {
     "data": {
      "text/plain": [
       "<seaborn.axisgrid.PairGrid at 0x11a624be0>"
      ]
     },
     "execution_count": 14,
     "metadata": {},
     "output_type": "execute_result"
    },
    {
     "data": {
      "image/png": "[encoded data removed]",
      "text/plain": [
       "<matplotlib.figure.Figure at 0x11a624080>"
      ]
     },
     "metadata": {},
     "output_type": "display_data"
    }
   ],
   "source": [
    "sns.pairplot(df_stats1[['SCORE', 'GRADE_NUM', 'CRIT_FLAG_NUM']], \n",
    "                       kind=\"scatter\",\n",
    "                       diag_kind=\"hist\"\n",
    "                       )\n"
   ]
  },
  {
   "cell_type": "code",
   "execution_count": 15,
   "metadata": {},
   "outputs": [
    {
     "data": {
      "text/plain": [
       "(array([  1.35244000e+05,   4.89850000e+04,   8.37500000e+03,\n",
       "          1.96500000e+03,   5.59000000e+02,   9.20000000e+01,\n",
       "          3.20000000e+01,   0.00000000e+00,   0.00000000e+00,\n",
       "          7.00000000e+00]),\n",
       " array([  -1. ,   12.2,   25.4,   38.6,   51.8,   65. ,   78.2,   91.4,\n",
       "         104.6,  117.8,  131. ]),\n",
       " <a list of 10 Patch objects>)"
      ]
     },
     "execution_count": 15,
     "metadata": {},
     "output_type": "execute_result"
    },
    {
     "data": {
      "image/png": "[encoded data removed]",
      "text/plain": [
       "<matplotlib.figure.Figure at 0x122dd9198>"
      ]
     },
     "metadata": {},
     "output_type": "display_data"
    }
   ],
   "source": [
    "score = df_stats['SCORE']\n",
    "plt.hist(score)"
   ]
  },
  {
   "cell_type": "code",
   "execution_count": 16,
   "metadata": {},
   "outputs": [
    {
     "data": {
      "text/plain": [
       "(array([ 157829.,       0.,       0.,       0.,       0.,   29993.,\n",
       "              0.,       0.,       0.,    7437.]),\n",
       " array([  0.,   1.,   2.,   3.,   4.,   5.,   6.,   7.,   8.,   9.,  10.]),\n",
       " <a list of 10 Patch objects>)"
      ]
     },
     "execution_count": 16,
     "metadata": {},
     "output_type": "execute_result"
    },
    {
     "data": {
      "image/png": "[encoded data removed]",
      "text/plain": [
       "<matplotlib.figure.Figure at 0x118e8a240>"
      ]
     },
     "metadata": {},
     "output_type": "display_data"
    }
   ],
   "source": [
    "grade_num = df_stats1['GRADE_NUM']\n",
    "plt.hist(grade_num)"
   ]
  },
  {
   "cell_type": "code",
   "execution_count": 17,
   "metadata": {},
   "outputs": [
    {
     "data": {
      "text/plain": [
       "(array([  92660.,       0.,       0.,       0.,       0.,       0.,\n",
       "              0.,       0.,       0.,  102599.]),\n",
       " array([ 0. ,  0.1,  0.2,  0.3,  0.4,  0.5,  0.6,  0.7,  0.8,  0.9,  1. ]),\n",
       " <a list of 10 Patch objects>)"
      ]
     },
     "execution_count": 17,
     "metadata": {},
     "output_type": "execute_result"
    },
    {
     "data": {
      "image/png": "[encoded data removed]",
      "text/plain": [
       "<matplotlib.figure.Figure at 0x119a759e8>"
      ]
     },
     "metadata": {},
     "output_type": "display_data"
    }
   ],
   "source": [
    "crit_flag_num = df_stats1['CRIT_FLAG_NUM']\n",
    "plt.hist(crit_flag_num)"
   ]
  },
  {
   "cell_type": "markdown",
   "metadata": {},
   "source": [
    "# Add Yelp Data, Data Cleaning"
   ]
  },
  {
   "cell_type": "markdown",
   "metadata": {},
   "source": [
    "df_yelp = Read in Yelp data as a DataFrame, and add a 'RATINGS' column that just has the rating number"
   ]
  },
  {
   "cell_type": "code",
   "execution_count": 18,
   "metadata": {
    "collapsed": true
   },
   "outputs": [],
   "source": [
    "yelp = '/Users/allandong/ds/metis/metisgh/02-project-two-Luther/yelp.csv'\n",
    "\n",
    "df_yelp= pd.read_csv(yelp)\n",
    "\n",
    "yelp_cols = ['URL', 'YELP_RATINGS']\n",
    "df_yelp.columns = yelp_cols\n",
    "\n",
    "df_yelp = df_yelp[df_yelp['YELP_RATINGS'] != 'yelp_ratings']\n",
    "\n",
    "def get_num(row):\n",
    "    return float(row['YELP_RATINGS'].split()[0])\n",
    "\n",
    "df_yelp['RATINGS'] = df_yelp.apply(get_num, axis=1)\n"
   ]
  },
  {
   "cell_type": "code",
   "execution_count": 19,
   "metadata": {
    "collapsed": true
   },
   "outputs": [],
   "source": [
    "def grader(row):\n",
    "    grade = row['GRADE']\n",
    "    if grade=='A':\n",
    "        return 0\n",
    "    elif grade=='B':\n",
    "        return 5\n",
    "    elif grade=='C':\n",
    "        return 10\n",
    "\n",
    "def criticalflag(row):\n",
    "    flag = row['CRITICAL_FLAG']\n",
    "    if flag == 'Critical':\n",
    "        return 1\n",
    "    elif flag == 'Not Critical':\n",
    "        return 0"
   ]
  },
  {
   "cell_type": "markdown",
   "metadata": {},
   "source": [
    "df_short = Remove extraneous columns from df_clean before concat"
   ]
  },
  {
   "cell_type": "code",
   "execution_count": 20,
   "metadata": {
    "collapsed": true
   },
   "outputs": [],
   "source": [
    "df_short = df_clean.drop(['CAMIS', \n",
    "                          'DBA',\n",
    "                          'BORO', \n",
    "                          'BUILDING', \n",
    "                          'STREET', \n",
    "                          'PHONE',\n",
    "                          'INSPECTION_DATE',\n",
    "                          'ACTION',\n",
    "                          'VIOLATION_DESC',\n",
    "                          'GRADE_DATE',\n",
    "                          'RECORD_DATE',\n",
    "                          'INSPECTION_TYPE',\n",
    "                          'ADDRESS',\n",
    "                         ], 1)\n"
   ]
  },
  {
   "cell_type": "markdown",
   "metadata": {},
   "source": [
    "df_ex_pre = Concating df_short and df_yelp and with NaN's dropped"
   ]
  },
  {
   "cell_type": "code",
   "execution_count": 21,
   "metadata": {
    "collapsed": true
   },
   "outputs": [],
   "source": [
    "df_ex_pre= pd.merge(df_short, df_yelp, how='left',on='URL')\n",
    "\n",
    "df_ex_pre = df_ex_pre.drop_duplicates().dropna(axis=0, how='any')"
   ]
  },
  {
   "cell_type": "markdown",
   "metadata": {
    "collapsed": true
   },
   "source": [
    "Remove all grades with that are not A, B or C"
   ]
  },
  {
   "cell_type": "code",
   "execution_count": 22,
   "metadata": {
    "collapsed": true
   },
   "outputs": [],
   "source": [
    "df_ex = df_ex_pre[df_ex_pre['GRADE'] != 'Z']\n",
    "df_ex = df_ex[df_ex['GRADE'] != 'P']\n",
    "df_ex = df_ex[df_ex['GRADE'] != 'Not Yet Graded']\n",
    "\n",
    "\n",
    "\n",
    "dfex_cols = ['RATINGS', 'SCORE', 'CRITICAL_FLAG', 'GRADE', 'VIOLATION_CODE']\n",
    "dfex = df_ex[dfex_cols]"
   ]
  },
  {
   "cell_type": "code",
   "execution_count": 23,
   "metadata": {
    "collapsed": true
   },
   "outputs": [],
   "source": [
    "dfex_cols_viol = ['RATINGS', 'SCORE', 'CRITICAL_FLAG', 'GRADE', 'VIOLATION_CODE']\n",
    "dfex_viol_pre = df_ex[dfex_cols_viol]\n",
    "\n",
    "\n",
    "df_ex_prex = df_ex.drop(['ZIPCODE', 'CUISINE_DESC', 'URL', 'YELP_RATINGS'],\n",
    "           axis = 1)\n",
    "\n"
   ]
  },
  {
   "cell_type": "code",
   "execution_count": 24,
   "metadata": {
    "collapsed": true
   },
   "outputs": [],
   "source": [
    "critical_flag_patsy = patsy.dmatrix('CRITICAL_FLAG', data=dfex, return_type='dataframe').drop('Intercept', 1)\n",
    "grade_num_patsy = patsy.dmatrix('GRADE', data=dfex, return_type='dataframe').drop('Intercept', 1)\n",
    "violation_code_patsy = patsy.dmatrix('VIOLATION_CODE', data=dfex, return_type=\"dataframe\").drop('Intercept', 1)\n",
    "\n"
   ]
  },
  {
   "cell_type": "code",
   "execution_count": 25,
   "metadata": {
    "collapsed": true
   },
   "outputs": [],
   "source": [
    "dfex_patsy = pd.concat([dfex, grade_num_patsy, critical_flag_patsy, violation_code_patsy], \n",
    "                      axis = 1, join_axes = [dfex.index])\n",
    "\n",
    "\n",
    "\n",
    "\n",
    "dfex = dfex_viol_pre.drop(['GRADE', 'CRITICAL_FLAG', 'VIOLATION_CODE'], 1)\n",
    "dfex_viol = dfex_viol_pre.drop(['GRADE', 'CRITICAL_FLAG'], 1)\n"
   ]
  },
  {
   "cell_type": "code",
   "execution_count": null,
   "metadata": {
    "collapsed": true
   },
   "outputs": [],
   "source": []
  },
  {
   "cell_type": "code",
   "execution_count": 26,
   "metadata": {
    "collapsed": true
   },
   "outputs": [],
   "source": [
    "\n",
    "\n",
    "#cuisine_desc = pd.get_dummies(df_exx['CUISINE_DESC'])\n",
    "#critical_flag = pd.get_dummies(df_exx['CRITICAL_FLAG'])\n",
    "#grade_num = pd.get_dummies(df_exx['GRADE'])\n",
    "\n",
    "\n"
   ]
  },
  {
   "cell_type": "code",
   "execution_count": 27,
   "metadata": {},
   "outputs": [],
   "source": [
    "df_exx = df_ex_prex\n",
    "\n",
    "\n",
    "critical_flag_patsy = patsy.dmatrix('CRITICAL_FLAG', data=df_exx, return_type='dataframe').drop('Intercept', 1)\n",
    "grade_num_patsy = patsy.dmatrix('GRADE', data=df_exx, return_type='dataframe').drop('Intercept', 1)\n",
    "violation_code_patsy = patsy.dmatrix('VIOLATION_CODE', data=df_exx, return_type=\"dataframe\").drop('Intercept', 1)\n",
    "\n",
    "\n",
    "#df_exx = pd.concat([df_exx, grade_num, critical_flag], axis = 1, join_axes = [df_exx.index])\n",
    "df_exx = pd.concat([df_exx, \n",
    "                    grade_num_patsy, \n",
    "                    critical_flag_patsy, \n",
    "                    violation_code_patsy\n",
    "                   ], axis = 1, join_axes = [df_exx.index])\n",
    "\n",
    "df_exx = df_exx.drop(['VIOLATION_CODE', 'CRITICAL_FLAG', 'GRADE'],\n",
    "           axis = 1)\n",
    "\n",
    "\n"
   ]
  },
  {
   "cell_type": "code",
   "execution_count": null,
   "metadata": {
    "collapsed": true
   },
   "outputs": [],
   "source": []
  },
  {
   "cell_type": "code",
   "execution_count": 28,
   "metadata": {},
   "outputs": [
    {
     "data": {
      "text/html": [
       "<div>\n",
       "<style>\n",
       "    .dataframe thead tr:only-child th {\n",
       "        text-align: right;\n",
       "    }\n",
       "\n",
       "    .dataframe thead th {\n",
       "        text-align: left;\n",
       "    }\n",
       "\n",
       "    .dataframe tbody tr th {\n",
       "        vertical-align: top;\n",
       "    }\n",
       "</style>\n",
       "<table border=\"1\" class=\"dataframe\">\n",
       "  <thead>\n",
       "    <tr style=\"text-align: right;\">\n",
       "      <th></th>\n",
       "      <th>RATINGS</th>\n",
       "      <th>SCORE</th>\n",
       "      <th>CRITICAL_FLAG</th>\n",
       "      <th>GRADE</th>\n",
       "      <th>VIOLATION_CODE</th>\n",
       "      <th>GRADE[T.B]</th>\n",
       "      <th>GRADE[T.C]</th>\n",
       "      <th>CRITICAL_FLAG[T.Not Critical]</th>\n",
       "      <th>VIOLATION_CODE[T.02B]</th>\n",
       "      <th>VIOLATION_CODE[T.02C]</th>\n",
       "      <th>...</th>\n",
       "      <th>VIOLATION_CODE[T.10A]</th>\n",
       "      <th>VIOLATION_CODE[T.10B]</th>\n",
       "      <th>VIOLATION_CODE[T.10C]</th>\n",
       "      <th>VIOLATION_CODE[T.10D]</th>\n",
       "      <th>VIOLATION_CODE[T.10E]</th>\n",
       "      <th>VIOLATION_CODE[T.10F]</th>\n",
       "      <th>VIOLATION_CODE[T.10G]</th>\n",
       "      <th>VIOLATION_CODE[T.10H]</th>\n",
       "      <th>VIOLATION_CODE[T.10I]</th>\n",
       "      <th>VIOLATION_CODE[T.10J]</th>\n",
       "    </tr>\n",
       "  </thead>\n",
       "  <tbody>\n",
       "    <tr>\n",
       "      <th>0</th>\n",
       "      <td>2.5</td>\n",
       "      <td>27.0</td>\n",
       "      <td>Critical</td>\n",
       "      <td>B</td>\n",
       "      <td>02B</td>\n",
       "      <td>1.0</td>\n",
       "      <td>0.0</td>\n",
       "      <td>0.0</td>\n",
       "      <td>1.0</td>\n",
       "      <td>0.0</td>\n",
       "      <td>...</td>\n",
       "      <td>0.0</td>\n",
       "      <td>0.0</td>\n",
       "      <td>0.0</td>\n",
       "      <td>0.0</td>\n",
       "      <td>0.0</td>\n",
       "      <td>0.0</td>\n",
       "      <td>0.0</td>\n",
       "      <td>0.0</td>\n",
       "      <td>0.0</td>\n",
       "      <td>0.0</td>\n",
       "    </tr>\n",
       "    <tr>\n",
       "      <th>41</th>\n",
       "      <td>3.5</td>\n",
       "      <td>9.0</td>\n",
       "      <td>Critical</td>\n",
       "      <td>A</td>\n",
       "      <td>02B</td>\n",
       "      <td>0.0</td>\n",
       "      <td>0.0</td>\n",
       "      <td>0.0</td>\n",
       "      <td>1.0</td>\n",
       "      <td>0.0</td>\n",
       "      <td>...</td>\n",
       "      <td>0.0</td>\n",
       "      <td>0.0</td>\n",
       "      <td>0.0</td>\n",
       "      <td>0.0</td>\n",
       "      <td>0.0</td>\n",
       "      <td>0.0</td>\n",
       "      <td>0.0</td>\n",
       "      <td>0.0</td>\n",
       "      <td>0.0</td>\n",
       "      <td>0.0</td>\n",
       "    </tr>\n",
       "    <tr>\n",
       "      <th>67</th>\n",
       "      <td>4.0</td>\n",
       "      <td>12.0</td>\n",
       "      <td>Critical</td>\n",
       "      <td>A</td>\n",
       "      <td>06D</td>\n",
       "      <td>0.0</td>\n",
       "      <td>0.0</td>\n",
       "      <td>0.0</td>\n",
       "      <td>0.0</td>\n",
       "      <td>0.0</td>\n",
       "      <td>...</td>\n",
       "      <td>0.0</td>\n",
       "      <td>0.0</td>\n",
       "      <td>0.0</td>\n",
       "      <td>0.0</td>\n",
       "      <td>0.0</td>\n",
       "      <td>0.0</td>\n",
       "      <td>0.0</td>\n",
       "      <td>0.0</td>\n",
       "      <td>0.0</td>\n",
       "      <td>0.0</td>\n",
       "    </tr>\n",
       "    <tr>\n",
       "      <th>84</th>\n",
       "      <td>4.0</td>\n",
       "      <td>7.0</td>\n",
       "      <td>Not Critical</td>\n",
       "      <td>A</td>\n",
       "      <td>10F</td>\n",
       "      <td>0.0</td>\n",
       "      <td>0.0</td>\n",
       "      <td>1.0</td>\n",
       "      <td>0.0</td>\n",
       "      <td>0.0</td>\n",
       "      <td>...</td>\n",
       "      <td>0.0</td>\n",
       "      <td>0.0</td>\n",
       "      <td>0.0</td>\n",
       "      <td>0.0</td>\n",
       "      <td>0.0</td>\n",
       "      <td>1.0</td>\n",
       "      <td>0.0</td>\n",
       "      <td>0.0</td>\n",
       "      <td>0.0</td>\n",
       "      <td>0.0</td>\n",
       "    </tr>\n",
       "    <tr>\n",
       "      <th>106</th>\n",
       "      <td>4.0</td>\n",
       "      <td>7.0</td>\n",
       "      <td>Critical</td>\n",
       "      <td>A</td>\n",
       "      <td>06F</td>\n",
       "      <td>0.0</td>\n",
       "      <td>0.0</td>\n",
       "      <td>0.0</td>\n",
       "      <td>0.0</td>\n",
       "      <td>0.0</td>\n",
       "      <td>...</td>\n",
       "      <td>0.0</td>\n",
       "      <td>0.0</td>\n",
       "      <td>0.0</td>\n",
       "      <td>0.0</td>\n",
       "      <td>0.0</td>\n",
       "      <td>0.0</td>\n",
       "      <td>0.0</td>\n",
       "      <td>0.0</td>\n",
       "      <td>0.0</td>\n",
       "      <td>0.0</td>\n",
       "    </tr>\n",
       "  </tbody>\n",
       "</table>\n",
       "<p>5 rows × 69 columns</p>\n",
       "</div>"
      ],
      "text/plain": [
       "     RATINGS  SCORE CRITICAL_FLAG GRADE VIOLATION_CODE  GRADE[T.B]  \\\n",
       "0        2.5   27.0      Critical     B            02B         1.0   \n",
       "41       3.5    9.0      Critical     A            02B         0.0   \n",
       "67       4.0   12.0      Critical     A            06D         0.0   \n",
       "84       4.0    7.0  Not Critical     A            10F         0.0   \n",
       "106      4.0    7.0      Critical     A            06F         0.0   \n",
       "\n",
       "     GRADE[T.C]  CRITICAL_FLAG[T.Not Critical]  VIOLATION_CODE[T.02B]  \\\n",
       "0           0.0                            0.0                    1.0   \n",
       "41          0.0                            0.0                    1.0   \n",
       "67          0.0                            0.0                    0.0   \n",
       "84          0.0                            1.0                    0.0   \n",
       "106         0.0                            0.0                    0.0   \n",
       "\n",
       "     VIOLATION_CODE[T.02C]          ...            VIOLATION_CODE[T.10A]  \\\n",
       "0                      0.0          ...                              0.0   \n",
       "41                     0.0          ...                              0.0   \n",
       "67                     0.0          ...                              0.0   \n",
       "84                     0.0          ...                              0.0   \n",
       "106                    0.0          ...                              0.0   \n",
       "\n",
       "     VIOLATION_CODE[T.10B]  VIOLATION_CODE[T.10C]  VIOLATION_CODE[T.10D]  \\\n",
       "0                      0.0                    0.0                    0.0   \n",
       "41                     0.0                    0.0                    0.0   \n",
       "67                     0.0                    0.0                    0.0   \n",
       "84                     0.0                    0.0                    0.0   \n",
       "106                    0.0                    0.0                    0.0   \n",
       "\n",
       "     VIOLATION_CODE[T.10E]  VIOLATION_CODE[T.10F]  VIOLATION_CODE[T.10G]  \\\n",
       "0                      0.0                    0.0                    0.0   \n",
       "41                     0.0                    0.0                    0.0   \n",
       "67                     0.0                    0.0                    0.0   \n",
       "84                     0.0                    1.0                    0.0   \n",
       "106                    0.0                    0.0                    0.0   \n",
       "\n",
       "     VIOLATION_CODE[T.10H]  VIOLATION_CODE[T.10I]  VIOLATION_CODE[T.10J]  \n",
       "0                      0.0                    0.0                    0.0  \n",
       "41                     0.0                    0.0                    0.0  \n",
       "67                     0.0                    0.0                    0.0  \n",
       "84                     0.0                    0.0                    0.0  \n",
       "106                    0.0                    0.0                    0.0  \n",
       "\n",
       "[5 rows x 69 columns]"
      ]
     },
     "execution_count": 28,
     "metadata": {},
     "output_type": "execute_result"
    }
   ],
   "source": [
    "dfex_patsy.head()"
   ]
  },
  {
   "cell_type": "markdown",
   "metadata": {},
   "source": [
    "Check each column for non numeric values"
   ]
  },
  {
   "cell_type": "markdown",
   "metadata": {},
   "source": [
    "Examine data and preliminary analysis of R2"
   ]
  },
  {
   "cell_type": "code",
   "execution_count": 29,
   "metadata": {
    "scrolled": false
   },
   "outputs": [
    {
     "data": {
      "text/plain": [
       "<seaborn.axisgrid.PairGrid at 0x118f2c550>"
      ]
     },
     "execution_count": 29,
     "metadata": {},
     "output_type": "execute_result"
    },
    {
     "data": {
      "image/png": "[encoded data removed]",
      "text/plain": [
       "<matplotlib.figure.Figure at 0x118f2cb70>"
      ]
     },
     "metadata": {},
     "output_type": "display_data"
    }
   ],
   "source": [
    "sns.set_context(\"paper\")\n",
    "sns.pairplot(dfex_patsy[['SCORE','RATINGS', 'GRADE[T.B]', 'GRADE[T.C]',\n",
    "       'CRITICAL_FLAG[T.Not Critical]']], kind=\"scatter\", diag_kind=\"hist\")\n"
   ]
  },
  {
   "cell_type": "code",
   "execution_count": null,
   "metadata": {
    "collapsed": true
   },
   "outputs": [],
   "source": []
  },
  {
   "cell_type": "code",
   "execution_count": null,
   "metadata": {
    "collapsed": true
   },
   "outputs": [],
   "source": []
  },
  {
   "cell_type": "code",
   "execution_count": 30,
   "metadata": {},
   "outputs": [
    {
     "data": {
      "text/html": [
       "<div>\n",
       "<style>\n",
       "    .dataframe thead tr:only-child th {\n",
       "        text-align: right;\n",
       "    }\n",
       "\n",
       "    .dataframe thead th {\n",
       "        text-align: left;\n",
       "    }\n",
       "\n",
       "    .dataframe tbody tr th {\n",
       "        vertical-align: top;\n",
       "    }\n",
       "</style>\n",
       "<table border=\"1\" class=\"dataframe\">\n",
       "  <thead>\n",
       "    <tr style=\"text-align: right;\">\n",
       "      <th></th>\n",
       "      <th>RATINGS</th>\n",
       "      <th>SCORE</th>\n",
       "    </tr>\n",
       "  </thead>\n",
       "  <tbody>\n",
       "    <tr>\n",
       "      <th>RATINGS</th>\n",
       "      <td>1.000000</td>\n",
       "      <td>-0.028029</td>\n",
       "    </tr>\n",
       "    <tr>\n",
       "      <th>SCORE</th>\n",
       "      <td>-0.028029</td>\n",
       "      <td>1.000000</td>\n",
       "    </tr>\n",
       "  </tbody>\n",
       "</table>\n",
       "</div>"
      ],
      "text/plain": [
       "          RATINGS     SCORE\n",
       "RATINGS  1.000000 -0.028029\n",
       "SCORE   -0.028029  1.000000"
      ]
     },
     "execution_count": 30,
     "metadata": {},
     "output_type": "execute_result"
    }
   ],
   "source": [
    "dfex.corr()"
   ]
  },
  {
   "cell_type": "code",
   "execution_count": null,
   "metadata": {
    "collapsed": true
   },
   "outputs": [],
   "source": []
  },
  {
   "cell_type": "code",
   "execution_count": null,
   "metadata": {
    "collapsed": true
   },
   "outputs": [],
   "source": []
  },
  {
   "cell_type": "code",
   "execution_count": 31,
   "metadata": {
    "scrolled": true
   },
   "outputs": [
    {
     "ename": "SyntaxError",
     "evalue": "invalid syntax (<unknown>, line 1)",
     "output_type": "error",
     "traceback": [
      "Traceback \u001b[0;36m(most recent call last)\u001b[0m:\n",
      "  File \u001b[1;32m\"/Users/allandong/anaconda/lib/python3.6/site-packages/IPython/core/interactiveshell.py\"\u001b[0m, line \u001b[1;32m2862\u001b[0m, in \u001b[1;35mrun_code\u001b[0m\n    exec(code_obj, self.user_global_ns, self.user_ns)\n",
      "  File \u001b[1;32m\"<ipython-input-31-4f466ba9d831>\"\u001b[0m, line \u001b[1;32m1\u001b[0m, in \u001b[1;35m<module>\u001b[0m\n    y, X = patsy.dmatrices('RATINGS ~ SCORE + RATINGS + GRADE[T.B] + GRADE[T.C] + CRITICAL_FLAG[T.Not Critical]', data=dfex, return_type=\"dataframe\")\n",
      "  File \u001b[1;32m\"/Users/allandong/anaconda/lib/python3.6/site-packages/patsy/highlevel.py\"\u001b[0m, line \u001b[1;32m310\u001b[0m, in \u001b[1;35mdmatrices\u001b[0m\n    NA_action, return_type)\n",
      "  File \u001b[1;32m\"/Users/allandong/anaconda/lib/python3.6/site-packages/patsy/highlevel.py\"\u001b[0m, line \u001b[1;32m165\u001b[0m, in \u001b[1;35m_do_highlevel_design\u001b[0m\n    NA_action)\n",
      "  File \u001b[1;32m\"/Users/allandong/anaconda/lib/python3.6/site-packages/patsy/highlevel.py\"\u001b[0m, line \u001b[1;32m70\u001b[0m, in \u001b[1;35m_try_incr_builders\u001b[0m\n    NA_action)\n",
      "  File \u001b[1;32m\"/Users/allandong/anaconda/lib/python3.6/site-packages/patsy/build.py\"\u001b[0m, line \u001b[1;32m689\u001b[0m, in \u001b[1;35mdesign_matrix_builders\u001b[0m\n    factor_states = _factors_memorize(all_factors, data_iter_maker, eval_env)\n",
      "  File \u001b[1;32m\"/Users/allandong/anaconda/lib/python3.6/site-packages/patsy/build.py\"\u001b[0m, line \u001b[1;32m354\u001b[0m, in \u001b[1;35m_factors_memorize\u001b[0m\n    which_pass = factor.memorize_passes_needed(state, eval_env)\n",
      "  File \u001b[1;32m\"/Users/allandong/anaconda/lib/python3.6/site-packages/patsy/eval.py\"\u001b[0m, line \u001b[1;32m474\u001b[0m, in \u001b[1;35mmemorize_passes_needed\u001b[0m\n    subset_names = [name for name in ast_names(self.code)\n",
      "  File \u001b[1;32m\"/Users/allandong/anaconda/lib/python3.6/site-packages/patsy/eval.py\"\u001b[0m, line \u001b[1;32m474\u001b[0m, in \u001b[1;35m<listcomp>\u001b[0m\n    subset_names = [name for name in ast_names(self.code)\n",
      "  File \u001b[1;32m\"/Users/allandong/anaconda/lib/python3.6/site-packages/patsy/eval.py\"\u001b[0m, line \u001b[1;32m105\u001b[0m, in \u001b[1;35mast_names\u001b[0m\n    for node in ast.walk(ast.parse(code)):\n",
      "\u001b[0;36m  File \u001b[0;32m\"/Users/allandong/anaconda/lib/python3.6/ast.py\"\u001b[0;36m, line \u001b[0;32m35\u001b[0;36m, in \u001b[0;35mparse\u001b[0;36m\u001b[0m\n\u001b[0;31m    return compile(source, filename, mode, PyCF_ONLY_AST)\u001b[0m\n",
      "\u001b[0;36m  File \u001b[0;32m\"<unknown>\"\u001b[0;36m, line \u001b[0;32m1\u001b[0m\n\u001b[0;31m    CRITICAL_FLAG[T.Not Critical]\u001b[0m\n\u001b[0m                               ^\u001b[0m\n\u001b[0;31mSyntaxError\u001b[0m\u001b[0;31m:\u001b[0m invalid syntax\n"
     ]
    }
   ],
   "source": [
    "y, X = patsy.dmatrices('RATINGS ~ SCORE + RATINGS + GRADE[T.B] + GRADE[T.C] + CRITICAL_FLAG[T.Not Critical]', data=dfex, return_type=\"dataframe\")\n",
    "model = sm.OLS(y, X)\n",
    "fit = model.fit()\n",
    "fit.summary()\n",
    "\n",
    "\n",
    "#lml = smf.ols('Y ')"
   ]
  },
  {
   "cell_type": "markdown",
   "metadata": {},
   "source": [
    "Check R2 with LinearRegression\n",
    "\n",
    "\n",
    "Legend:\n",
    "\n",
    "dfex : [y = 'RATINGS', x = 'SCORE', 'GRADE_NUM', 'CRIT_FLAG_NUM']\n",
    "\n",
    "dfex1 : [y = 'SCORE', x ='RATINGS', 'GRADE_NUM', 'CRIT_FLAG_NUM']\n",
    "\n",
    "dfex2 : [y = 'SCORE', x ='RATINGS', 'CRIT_FLAG_NUM']\n",
    "\n",
    "dfex1_viol : [y = 'SCORE', x = 'RATINGS', 'GRADE_NUM', 'CRIT_FLAG_NUM', VIOLATION_CODE-dummies]\n",
    "\n",
    "dfex2_viol : [y = 'SCORE', x = 'RATINGS', 'CRIT_FLAG_NUM', VIOLATION_CODE-dummies]"
   ]
  },
  {
   "cell_type": "code",
   "execution_count": null,
   "metadata": {
    "collapsed": true
   },
   "outputs": [],
   "source": []
  },
  {
   "cell_type": "code",
   "execution_count": null,
   "metadata": {
    "collapsed": true
   },
   "outputs": [],
   "source": []
  },
  {
   "cell_type": "code",
   "execution_count": null,
   "metadata": {
    "collapsed": true
   },
   "outputs": [],
   "source": [
    "\n",
    "dfex1_cols = ['SCORE', 'RATINGS', 'GRADE[T.B]', 'GRADE[T.C]', 'CRITICAL_FLAG[T.Not Critical]']\n",
    "dfex1= dfex_patsy[dfex1_cols]\n",
    "\n",
    "\n",
    "dfex1_viol = dfex_patsy"
   ]
  },
  {
   "cell_type": "code",
   "execution_count": null,
   "metadata": {
    "collapsed": true
   },
   "outputs": [],
   "source": [
    "dfex2 = dfex1.drop(['GRADE[T.B]', 'GRADE[T.C]'], 1)\n",
    "dfex2_viol = dfex1_viol.drop(['GRADE[T.B]', 'GRADE[T.C]'], 1)\n"
   ]
  },
  {
   "cell_type": "code",
   "execution_count": null,
   "metadata": {
    "collapsed": true
   },
   "outputs": [],
   "source": []
  },
  {
   "cell_type": "code",
   "execution_count": null,
   "metadata": {
    "collapsed": true
   },
   "outputs": [],
   "source": [
    "lr = LinearRegression()\n",
    "X = dfex1.iloc[:, 1:]\n",
    "y = dfex1.iloc[:, 0]\n",
    "\n",
    "lr.fit(X, y)\n",
    "lr.score(X,y)"
   ]
  },
  {
   "cell_type": "code",
   "execution_count": null,
   "metadata": {
    "collapsed": true
   },
   "outputs": [],
   "source": [
    "lr = LinearRegression(fit_intercept = True)\n",
    "\n",
    "\n",
    "\n",
    "\n",
    "\n",
    "X = dfex2.iloc[:, 1:]\n",
    "y = dfex2.SCORE\n",
    "lr.fit(X,y)\n",
    "lr.score(X,y)\n",
    "#print('X: ', list(X))\n",
    "#print(dfex2.columns)"
   ]
  },
  {
   "cell_type": "code",
   "execution_count": null,
   "metadata": {
    "collapsed": true
   },
   "outputs": [],
   "source": [
    "dfex2.columns"
   ]
  },
  {
   "cell_type": "code",
   "execution_count": null,
   "metadata": {
    "collapsed": true
   },
   "outputs": [],
   "source": [
    "\n",
    "X = dfex1_viol.iloc[:, 1:]\n",
    "y = dfex1_viol.iloc[:, 0]\n",
    "\n",
    "lr.fit(X, y)\n",
    "lr.score(X,y)"
   ]
  },
  {
   "cell_type": "code",
   "execution_count": null,
   "metadata": {
    "collapsed": true
   },
   "outputs": [],
   "source": [
    "X = dfex2_viol.iloc[:, 1:]\n",
    "y = dfex2_viol.iloc[:, 0]\n",
    "\n",
    "lr.fit(X,y)\n",
    "lr.score(X,y)"
   ]
  },
  {
   "cell_type": "code",
   "execution_count": null,
   "metadata": {
    "collapsed": true
   },
   "outputs": [],
   "source": [
    "dfex2_viol_cols = ''\n",
    "for i in dfex2_viol.columns:\n",
    "    dfex2_viol_cols += i + \"+\"\n",
    "dfex2_viol_patsy_str = 'SCORE ~ '+ dfex2_viol_cols[6:-1]\n",
    "dfex2_viol_patsy_str\n"
   ]
  },
  {
   "cell_type": "code",
   "execution_count": null,
   "metadata": {
    "scrolled": true
   },
   "outputs": [],
   "source": [
    "dfex_patsy.columns"
   ]
  },
  {
   "cell_type": "code",
   "execution_count": null,
   "metadata": {
    "scrolled": true
   },
   "outputs": [],
   "source": [
    "dfex_patsy1 = dfex_patsy.drop(['GRADE', 'VIOLATION_CODE', 'CRITICAL_FLAG'],1 )\n",
    "\n",
    "y_dfex2 = dfex_patsy1.SCORE\n",
    "X_dfex2 = dfex_patsy1.drop(['SCORE'], 1)\n",
    "\n",
    "model_dfex2 = sm.OLS(y_dfex2, X_dfex2)\n",
    "fit_dfex2 =model_dfex2.fit()\n",
    "fit_dfex2.summary()\n"
   ]
  },
  {
   "cell_type": "code",
   "execution_count": null,
   "metadata": {},
   "outputs": [],
   "source": [
    "critical_flag_patsy = patsy.dmatrix('CRITICAL_FLAG', data=df_ex, return_type='dataframe').drop('Intercept', 1)\n",
    "grade_num_patsy = patsy.dmatrix('GRADE', data=df_ex, return_type='dataframe').drop('Intercept', 1)\n",
    "violation_code_patsy = patsy.dmatrix('VIOLATION_CODE', data=df_ex, return_type=\"dataframe\").drop('Intercept', 1)\n",
    "zipcode_patsy = patsy.dmatrix('ZIPCODE', data=df_ex, return_type=\"dataframe\").drop('Intercept', 1)\n",
    "\n",
    "df_dummy_cgvz = pd.concat([df_ex, \n",
    "#                      grade_num_patsy, \n",
    "#                      critical_flag_patsy, \n",
    "#                      violation_code_patsy,\n",
    "                      zipcode_patsy\n",
    "                   ], axis = 1, join_axes = [df_exx.index])\n",
    "\n",
    "df_dummy_cgvz = df_dummy_cgvz.drop(['VIOLATION_CODE', \n",
    "                                    'CRITICAL_FLAG', \n",
    "                                    'GRADE', \n",
    "                                    'ZIPCODE', \n",
    "                                    'CUISINE_DESC',\n",
    "                                    'URL',\n",
    "                                    'YELP_RATINGS'\n",
    "                                   ],axis = 1)\n",
    "\n",
    "df_dummy_cgvz.columns\n"
   ]
  },
  {
   "cell_type": "code",
   "execution_count": null,
   "metadata": {},
   "outputs": [],
   "source": [
    "master = dfex2\n",
    "#df_dummy_cgvz\n",
    "y = master.SCORE\n",
    "X= master.drop(['SCORE'], 1)\n",
    "\n",
    "print(X.columns)\n",
    "\n",
    "model_dfex2 = sm.OLS(y, X)\n",
    "fit_dfex2 =model_dfex2.fit()\n",
    "fit_dfex2.summary()\n"
   ]
  },
  {
   "cell_type": "code",
   "execution_count": null,
   "metadata": {},
   "outputs": [],
   "source": [
    "df_ex.columns"
   ]
  },
  {
   "cell_type": "code",
   "execution_count": null,
   "metadata": {},
   "outputs": [],
   "source": [
    "lr = LinearRegression()\n",
    "\n",
    "df_exx_lr= df_exx.drop(['GRADE[T.B]', 'GRADE[T.C]'], 1)\n",
    "X = df_exx_lr.drop(['RATINGS'], 1)\n",
    "y = df_exx_lr.RATINGS\n",
    "\n",
    "lr.fit(X, y)\n",
    "lr.score(X, y)"
   ]
  },
  {
   "cell_type": "code",
   "execution_count": null,
   "metadata": {},
   "outputs": [],
   "source": [
    "df_exx_lr.columns"
   ]
  },
  {
   "cell_type": "code",
   "execution_count": null,
   "metadata": {
    "collapsed": true
   },
   "outputs": [],
   "source": [
    "reg = LinearRegression()\n",
    "X = df_exx.iloc[:, 1:]\n",
    "y = df_exx.iloc[:, 0]\n",
    "scores = cross_val_score(reg, X, y, cv=10, scoring='neg_mean_squared_error')\n",
    "\n",
    "# scores output is negative, a sklearn quirk bc mse is used to min. optimization func.\n",
    "print(-scores)"
   ]
  },
  {
   "cell_type": "code",
   "execution_count": null,
   "metadata": {},
   "outputs": [],
   "source": [
    "sns.pairplot(dfex_patsy[['SCORE', 'RATINGS','GRADE[T.B]','GRADE[T.C]','CRITICAL_FLAG[T.Not Critical]']], \n",
    "                       kind=\"scatter\",\n",
    "                       diag_kind=\"hist\"\n",
    "                       )\n"
   ]
  },
  {
   "cell_type": "code",
   "execution_count": null,
   "metadata": {
    "collapsed": true
   },
   "outputs": [],
   "source": []
  },
  {
   "cell_type": "code",
   "execution_count": null,
   "metadata": {
    "collapsed": true
   },
   "outputs": [],
   "source": []
  },
  {
   "cell_type": "code",
   "execution_count": null,
   "metadata": {
    "collapsed": true
   },
   "outputs": [],
   "source": []
  },
  {
   "cell_type": "code",
   "execution_count": null,
   "metadata": {
    "collapsed": true,
    "scrolled": false
   },
   "outputs": [],
   "source": [
    "dfex2_viol_cols = ''\n",
    "for i in dfex2_viol.columns:\n",
    "    dfex2_viol_cols += i + \"+\"\n",
    "dfex2_viol_patsy_str = 'SCORE ~ '+ dfex2_viol_cols[6:-1]\n",
    "dfex2_viol_patsy_str"
   ]
  },
  {
   "cell_type": "code",
   "execution_count": null,
   "metadata": {
    "collapsed": true,
    "scrolled": false
   },
   "outputs": [],
   "source": [
    "'''y, X = patsy.dmatrices(dfex2_viol_patsy_str,\n",
    "                       data=dfex2_viol, return_type=\"dataframe\")\n",
    "model = sm.OLS(y, X)\n",
    "fit = model.fit()\n",
    "fit.summary()\n",
    "'''"
   ]
  },
  {
   "cell_type": "code",
   "execution_count": null,
   "metadata": {
    "collapsed": true
   },
   "outputs": [],
   "source": []
  },
  {
   "cell_type": "code",
   "execution_count": null,
   "metadata": {
    "collapsed": true
   },
   "outputs": [],
   "source": [
    "'''df_exx_cols = ''\n",
    "for i in df_exx.columns:\n",
    "    df_exx_cols += i + \" + \"\n",
    "df_exx_cols = \"SCORE ~ \" + df_exx_cols[8:-3] \n",
    "df_exx_cols'''"
   ]
  },
  {
   "cell_type": "code",
   "execution_count": null,
   "metadata": {
    "collapsed": true
   },
   "outputs": [],
   "source": [
    "'''y_df_exx, X_df_exxx = patsy.dmatrices(df_exx_cols, data=df_exx, return_type=\"dataframe\")\n",
    "model_df_exx = sm.OLS(y_df_exx, X_df_exx)\n",
    "fit_df_exx = model_df_exx.fit()\n",
    "fit_df_exx.summary()'''"
   ]
  },
  {
   "cell_type": "markdown",
   "metadata": {
    "collapsed": true
   },
   "source": [
    "# Violation Code"
   ]
  },
  {
   "cell_type": "code",
   "execution_count": null,
   "metadata": {},
   "outputs": [],
   "source": [
    "df_viol = df_clean.drop(['CAMIS', \n",
    "                          'DBA',\n",
    "                          'BORO', \n",
    "                          'BUILDING', \n",
    "                          'STREET', \n",
    "                          'ZIPCODE',\n",
    "                          'PHONE',\n",
    "                          'CUISINE_DESC',\n",
    "                          'INSPECTION_DATE',\n",
    "                          'ACTION',\n",
    "                          'SCORE',\n",
    "                          'GRADE',\n",
    "                          'GRADE_DATE',\n",
    "                          'RECORD_DATE',\n",
    "                          'INSPECTION_TYPE',\n",
    "                          'ADDRESS',\n",
    "                          'URL'\n",
    "                         ], 1)\n",
    "df_viol = df_viol.drop_duplicates(subset='VIOLATION_CODE')\n",
    "df_viol =df_viol.sort_values(['VIOLATION_CODE'])\n",
    "df_viol.head(60)"
   ]
  },
  {
   "cell_type": "markdown",
   "metadata": {},
   "source": [
    "# Data Exploration 2/2"
   ]
  },
  {
   "cell_type": "code",
   "execution_count": null,
   "metadata": {
    "collapsed": true
   },
   "outputs": [],
   "source": [
    "df_ex.head()"
   ]
  },
  {
   "cell_type": "code",
   "execution_count": null,
   "metadata": {},
   "outputs": [],
   "source": [
    "sns.set_context(\"talk\")\n",
    "score = dfex_viol['SCORE']\n",
    "sns.distplot(score, kde = False)"
   ]
  },
  {
   "cell_type": "code",
   "execution_count": null,
   "metadata": {},
   "outputs": [],
   "source": [
    "sns.set_context(\"poster\")\n",
    "\n",
    "data1=dfex_viol.sort_values(['VIOLATION_CODE'][-1])\n",
    "\n",
    "yaxes = dfex_viol.sort_values(['VIOLATION_CODE'][-1])['VIOLATION_CODE']\n",
    "xaxes = dfex_viol.sort_values(['VIOLATION_CODE'][-1])['SCORE']\n",
    "sns.boxplot(x=xaxes, y=yaxes, data=data1)"
   ]
  },
  {
   "cell_type": "code",
   "execution_count": null,
   "metadata": {
    "scrolled": true
   },
   "outputs": [],
   "source": [
    "sns.set_context(\"poster\")\n",
    "\n",
    "data1=dfex_viol.sort_values(['VIOLATION_CODE'][-1])\n",
    "\n",
    "yaxes = dfex_viol.sort_values(['VIOLATION_CODE'][-1])['VIOLATION_CODE']\n",
    "xaxes = dfex_viol.sort_values(['VIOLATION_CODE'][-1])['SCORE']\n",
    "sns.boxplot(x=xaxes, y=yaxes, data=data1, ax = (16, 30))"
   ]
  },
  {
   "cell_type": "code",
   "execution_count": null,
   "metadata": {
    "scrolled": true
   },
   "outputs": [],
   "source": [
    "\n",
    "score = dfex_viol['SCORE']\n",
    "sns.distplot(score)"
   ]
  },
  {
   "cell_type": "code",
   "execution_count": null,
   "metadata": {
    "collapsed": true
   },
   "outputs": [],
   "source": [
    "data1=dfex_viol.sort_values(['VIOLATION_CODE'][-1])\n",
    "y = dfex_viol.sort_values(['VIOLATION_CODE'][-1])['VIOLATION_CODE']\n",
    "\n"
   ]
  },
  {
   "cell_type": "code",
   "execution_count": null,
   "metadata": {
    "collapsed": true
   },
   "outputs": [],
   "source": []
  },
  {
   "cell_type": "markdown",
   "metadata": {},
   "source": [
    "# Plot"
   ]
  },
  {
   "cell_type": "code",
   "execution_count": null,
   "metadata": {},
   "outputs": [],
   "source": [
    "x =df_ex.SCORE\n",
    "y = df_ex.RATINGS\n",
    "\n",
    "sns.regplot(x, y)"
   ]
  },
  {
   "cell_type": "code",
   "execution_count": null,
   "metadata": {},
   "outputs": [],
   "source": [
    "sns.regplot(y, x)"
   ]
  },
  {
   "cell_type": "code",
   "execution_count": null,
   "metadata": {},
   "outputs": [],
   "source": [
    "x =df_ex.SCORE\n",
    "y = df_ex.RATINGS.apply(,1)\n",
    "\n",
    "sns.regplot(x, y)"
   ]
  },
  {
   "cell_type": "code",
   "execution_count": null,
   "metadata": {
    "collapsed": true
   },
   "outputs": [],
   "source": []
  },
  {
   "cell_type": "code",
   "execution_count": null,
   "metadata": {
    "collapsed": true
   },
   "outputs": [],
   "source": []
  },
  {
   "cell_type": "code",
   "execution_count": null,
   "metadata": {
    "collapsed": true
   },
   "outputs": [],
   "source": []
  }
 ],
 "metadata": {
  "kernelspec": {
   "display_name": "Python 3",
   "language": "python",
   "name": "python3"
  },
  "language_info": {
   "codemirror_mode": {
    "name": "ipython",
    "version": 3
   },
   "file_extension": ".py",
   "mimetype": "text/x-python",
   "name": "python",
   "nbconvert_exporter": "python",
   "pygments_lexer": "ipython3",
   "version": "3.6.1"
  }
 },
 "nbformat": 4,
 "nbformat_minor": 2
}
