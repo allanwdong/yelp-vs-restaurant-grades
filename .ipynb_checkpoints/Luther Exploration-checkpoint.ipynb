{
 "cells": [
  {
   "cell_type": "code",
   "execution_count": 1,
   "metadata": {},
   "outputs": [
    {
     "name": "stderr",
     "output_type": "stream",
     "text": [
      "/Users/allandong/anaconda/lib/python3.6/site-packages/statsmodels/compat/pandas.py:56: FutureWarning: The pandas.core.datetools module is deprecated and will be removed in a future version. Please use the pandas.tseries module instead.\n",
      "  from pandas.core import datetools\n",
      "/Users/allandong/anaconda/lib/python3.6/site-packages/sklearn/cross_validation.py:44: DeprecationWarning: This module was deprecated in version 0.18 in favor of the model_selection module into which all the refactored classes and functions are moved. Also note that the interface of the new CV iterators are different from that of this module. This module will be removed in 0.20.\n",
      "  \"This module will be removed in 0.20.\", DeprecationWarning)\n"
     ]
    }
   ],
   "source": [
    "import numpy as np\n",
    "import pandas as pd\n",
    "import os.path\n",
    "import json\n",
    "\n",
    "import matplotlib.pyplot as plt\n",
    "import seaborn as sns\n",
    "import patsy\n",
    "import statsmodels.api as sm\n",
    "import statsmodels.formula.api as smf\n",
    "\n",
    "from seaborn import plt\n",
    "from sklearn.linear_model import LinearRegression\n",
    "from sklearn.model_selection import train_test_split\n",
    "from sklearn.linear_model import RidgeCV\n",
    "from sklearn.preprocessing import PolynomialFeatures\n",
    "from sklearn.pipeline import make_pipeline\n",
    "from sklearn.model_selection import KFold\n",
    "from sklearn.cross_validation import cross_val_score\n",
    "\n",
    "%matplotlib inline\n",
    "\n"
   ]
  },
  {
   "cell_type": "markdown",
   "metadata": {},
   "source": [
    "Reading NYC Restaurant Inspection data into DataFrame to grab restaurant title/address to generate appropriate yelp urls for futures scraping"
   ]
  },
  {
   "cell_type": "code",
   "execution_count": 2,
   "metadata": {
    "scrolled": true
   },
   "outputs": [
    {
     "name": "stderr",
     "output_type": "stream",
     "text": [
      "/Users/allandong/anaconda/lib/python3.6/site-packages/ipykernel_launcher.py:24: SettingWithCopyWarning: \n",
      "A value is trying to be set on a copy of a slice from a DataFrame.\n",
      "Try using .loc[row_indexer,col_indexer] = value instead\n",
      "\n",
      "See the caveats in the documentation: http://pandas.pydata.org/pandas-docs/stable/indexing.html#indexing-view-versus-copy\n"
     ]
    }
   ],
   "source": [
    "nyccsv = '/Users/allandong/ds/metis/metisgh/Project-two-Luther/DOHMH_New_York_City_Restaurant_Inspection_Results.csv'\n",
    "\n",
    "df = pd.read_csv(nyccsv)\n",
    "\n",
    "cols = ['CAMIS', 'DBA', 'BORO', 'BUILDING', 'STREET', 'ZIPCODE', 'PHONE', 'CUISINE_DESC',\n",
    "           'INSPECTION_DATE', 'ACTION', 'VIOLATION_CODE', 'VIOLATION_DESC', 'CRITICAL_FLAG',\n",
    "           'SCORE', 'GRADE', 'GRADE_DATE', 'RECORD_DATE', 'INSPECTION_TYPE']\n",
    "df.columns = cols\n",
    "\n",
    "\n",
    "df['ADDRESS'] = df.BUILDING + \" \" + df.STREET + \" \" + df.BORO\n",
    "\n",
    "def yelp_url_gen(row):\n",
    "    # yelp_url_gen:\n",
    "    #     Yelp search urls are formulatic based upon \"Find\" and \"Location\" inserted values -\n",
    "    #   so, I can generate what the urls would be if I serached by restaurant title and\n",
    "    #   restaurant address\n",
    "\n",
    "    title1 = row['DBA'].replace(\" \", \"+\")\n",
    "    address1 = row['ADDRESS'].replace(\" \", \"+\")\n",
    "    return \"https://www.yelp.com/search?find_desc={title1}&find_loc={address1}\".format(title1=title1, address1=address1)\n",
    "\n",
    "df_clean = df.dropna(axis=0, how='any')\n",
    "df_clean['URL'] = df_clean.apply(yelp_url_gen, axis = 1)"
   ]
  },
  {
   "cell_type": "markdown",
   "metadata": {},
   "source": [
    "Export df_clean to csv for scrapy"
   ]
  },
  {
   "cell_type": "code",
   "execution_count": 3,
   "metadata": {
    "collapsed": true
   },
   "outputs": [],
   "source": [
    "path = '/Users/allandong/ds/metis/metisgh/Project-two-Luther/df_clean.csv'\n",
    "df_clean.to_csv(path)\n",
    "\n",
    "urllist=list(df_clean['URL'])"
   ]
  },
  {
   "cell_type": "code",
   "execution_count": null,
   "metadata": {
    "scrolled": true
   },
   "outputs": [],
   "source": [
    "df_clean[df_clean['SCORE'] == 131]"
   ]
  },
  {
   "cell_type": "code",
   "execution_count": null,
   "metadata": {
    "scrolled": true
   },
   "outputs": [],
   "source": [
    "df_clean[df_clean['SCORE'] == 94].head()"
   ]
  },
  {
   "cell_type": "code",
   "execution_count": null,
   "metadata": {
    "scrolled": true
   },
   "outputs": [],
   "source": [
    "df_clean[df_clean['SCORE'] == 86].head()"
   ]
  },
  {
   "cell_type": "code",
   "execution_count": null,
   "metadata": {
    "scrolled": true
   },
   "outputs": [],
   "source": [
    "df_clean[df_clean['SCORE'] == 83]"
   ]
  },
  {
   "cell_type": "code",
   "execution_count": null,
   "metadata": {
    "scrolled": true
   },
   "outputs": [],
   "source": [
    "df_clean[df_clean['SCORE'] == 82]"
   ]
  },
  {
   "cell_type": "code",
   "execution_count": null,
   "metadata": {},
   "outputs": [],
   "source": [
    "df_clean[df_clean['SCORE'] == 73]"
   ]
  },
  {
   "cell_type": "code",
   "execution_count": null,
   "metadata": {},
   "outputs": [],
   "source": [
    "list(df_clean[df_clean['VIOLATION_CODE'] == '04N']['VIOLATION_DESC'])"
   ]
  },
  {
   "cell_type": "code",
   "execution_count": null,
   "metadata": {
    "collapsed": true
   },
   "outputs": [],
   "source": []
  },
  {
   "cell_type": "code",
   "execution_count": 35,
   "metadata": {},
   "outputs": [
    {
     "name": "stdout",
     "output_type": "stream",
     "text": [
      "[-1.0, 0.0, 2.0, 3.0, 4.0, 5.0, 6.0, 7.0, 8.0, 9.0, 10.0, 11.0, 12.0, 13.0, 14.0, 15.0, 16.0, 17.0, 18.0, 19.0, 20.0, 21.0, 22.0, 23.0, 24.0, 25.0, 26.0, 27.0, 28.0, 29.0, 30.0, 31.0, 32.0, 33.0, 34.0, 35.0, 36.0, 37.0, 38.0, 39.0, 40.0, 41.0, 42.0, 43.0, 44.0, 45.0, 46.0, 47.0, 48.0, 49.0, 50.0, 51.0, 52.0, 53.0, 54.0, 55.0, 56.0, 57.0, 58.0, 59.0, 60.0, 61.0, 62.0, 63.0, 64.0, 65.0, 66.0, 68.0, 69.0, 70.0, 71.0, 72.0, 73.0, 75.0, 78.0, 80.0, 82.0, 83.0, 86.0, 94.0, 131.0]\n"
     ]
    }
   ],
   "source": [
    "x = list(df_clean['SCORE'].unique())\n",
    "x.sort()\n",
    "print(x)\n"
   ]
  },
  {
   "cell_type": "code",
   "execution_count": 36,
   "metadata": {},
   "outputs": [
    {
     "data": {
      "text/plain": [
       "(array([  1.36629000e+05,   5.05520000e+04,   9.04100000e+03,\n",
       "          2.20800000e+03,   6.14000000e+02,   1.07000000e+02,\n",
       "          3.20000000e+01,   5.00000000e+00,   0.00000000e+00,\n",
       "          7.00000000e+00]),\n",
       " array([  -1. ,   12.2,   25.4,   38.6,   51.8,   65. ,   78.2,   91.4,\n",
       "         104.6,  117.8,  131. ]),\n",
       " <a list of 10 Patch objects>)"
      ]
     },
     "execution_count": 36,
     "metadata": {},
     "output_type": "execute_result"
    },
    {
     "data": {
      "image/png": "[encoded data removed]",
      "text/plain": [
       "<matplotlib.figure.Figure at 0x11307dba8>"
      ]
     },
     "metadata": {},
     "output_type": "display_data"
    }
   ],
   "source": [
    "score = df_clean['SCORE']\n",
    "plt.hist(score)\n"
   ]
  },
  {
   "cell_type": "code",
   "execution_count": null,
   "metadata": {},
   "outputs": [],
   "source": [
    "sns.set_context(\"poster\")\n",
    "\n",
    "sns.boxplot(x='SCORE', y='VIOLATION_CODE', data=dfex_viol)"
   ]
  },
  {
   "cell_type": "code",
   "execution_count": null,
   "metadata": {
    "collapsed": true
   },
   "outputs": [],
   "source": [
    "score = dfex['SCORE']\n",
    "sns.rugplot(score)"
   ]
  },
  {
   "cell_type": "markdown",
   "metadata": {},
   "source": [
    "# Start data observation"
   ]
  },
  {
   "cell_type": "markdown",
   "metadata": {},
   "source": [
    "Testing and cleaning code\n",
    "\n",
    "df_stats = creating a smaller DataFrame to run regressions/plot"
   ]
  },
  {
   "cell_type": "code",
   "execution_count": null,
   "metadata": {
    "collapsed": true
   },
   "outputs": [],
   "source": [
    "df_stats = df_clean.drop(['CAMIS', \n",
    "                          'PHONE',\n",
    "                          'BORO', \n",
    "                          'BUILDING', \n",
    "                          'STREET', \n",
    "                          'ZIPCODE', \n",
    "                          'ACTION', \n",
    "                          'VIOLATION_CODE', \n",
    "                          'VIOLATION_DESC', \n",
    "                          'INSPECTION_TYPE', \n",
    "                          'URL'\n",
    "                         ], 1)\n"
   ]
  },
  {
   "cell_type": "markdown",
   "metadata": {},
   "source": [
    "Prep variables and defining functions to create Dummy Variables 'GRADE_NUM' and 'CRIT_FLAG_NUM'"
   ]
  },
  {
   "cell_type": "code",
   "execution_count": null,
   "metadata": {
    "collapsed": true
   },
   "outputs": [],
   "source": [
    "df_stats = df_stats[df_stats.GRADE != 'Z']\n",
    "df_stats = df_stats[df_stats.GRADE != 'P']\n",
    "df_stats = df_stats[df_stats.GRADE != 'Not Yet Graded']"
   ]
  },
  {
   "cell_type": "code",
   "execution_count": null,
   "metadata": {
    "collapsed": true
   },
   "outputs": [],
   "source": [
    "def grader(row):\n",
    "    grade = row['GRADE']\n",
    "    if grade=='A':\n",
    "        return 0\n",
    "    elif grade=='B':\n",
    "        return 5\n",
    "    elif grade=='C':\n",
    "        return 10\n",
    "    \n",
    "df_stats['GRADE_NUM'] = df_stats.apply(grader, axis=1)"
   ]
  },
  {
   "cell_type": "code",
   "execution_count": null,
   "metadata": {
    "collapsed": true
   },
   "outputs": [],
   "source": [
    "def criticalflag(row):\n",
    "    flag = row['CRITICAL_FLAG']\n",
    "    if flag == 'Critical':\n",
    "        return 1\n",
    "    elif flag == 'Not Critical':\n",
    "        return 0\n",
    "\n",
    "df_stats['CRIT_FLAG_NUM'] = df_stats.apply(criticalflag, axis=1)"
   ]
  },
  {
   "cell_type": "markdown",
   "metadata": {},
   "source": [
    "Drop remaining unneeded columns"
   ]
  },
  {
   "cell_type": "code",
   "execution_count": null,
   "metadata": {
    "collapsed": true
   },
   "outputs": [],
   "source": [
    "df_stats1=df_stats.drop(['DBA',\n",
    "                        'CUISINE_DESC',\n",
    "                        'INSPECTION_DATE',\n",
    "                        'CRITICAL_FLAG',\n",
    "                        'GRADE',\n",
    "                        'GRADE_DATE',\n",
    "                        'RECORD_DATE',\n",
    "                        'ADDRESS',\n",
    "                       ], 1)"
   ]
  },
  {
   "cell_type": "code",
   "execution_count": null,
   "metadata": {
    "collapsed": true
   },
   "outputs": [],
   "source": [
    "sns.pairplot(df_stats1[['SCORE', 'GRADE_NUM', 'CRIT_FLAG_NUM']], \n",
    "                       kind=\"scatter\",\n",
    "                       diag_kind=\"hist\"\n",
    "                       )\n"
   ]
  },
  {
   "cell_type": "code",
   "execution_count": null,
   "metadata": {},
   "outputs": [],
   "source": [
    "score = df_stats['SCORE']\n",
    "plt.hist(score)"
   ]
  },
  {
   "cell_type": "code",
   "execution_count": null,
   "metadata": {
    "collapsed": true
   },
   "outputs": [],
   "source": [
    "grade_num = df_stats1['GRADE_NUM']\n",
    "plt.hist(grade_num)"
   ]
  },
  {
   "cell_type": "code",
   "execution_count": null,
   "metadata": {},
   "outputs": [],
   "source": [
    "crit_flag_num = df_stats1['CRIT_FLAG_NUM']\n",
    "plt.hist(crit_flag_num)"
   ]
  },
  {
   "cell_type": "code",
   "execution_count": null,
   "metadata": {
    "collapsed": true
   },
   "outputs": [],
   "source": []
  },
  {
   "cell_type": "code",
   "execution_count": null,
   "metadata": {
    "collapsed": true
   },
   "outputs": [],
   "source": []
  },
  {
   "cell_type": "markdown",
   "metadata": {},
   "source": [
    "# Start Data Observation w/ Yelp data"
   ]
  },
  {
   "cell_type": "markdown",
   "metadata": {},
   "source": [
    "df_yelp = Read in Yelp data as a DataFrame, and add a 'RATINGS' column that just has the rating number"
   ]
  },
  {
   "cell_type": "code",
   "execution_count": 4,
   "metadata": {
    "collapsed": true
   },
   "outputs": [],
   "source": [
    "yelp = '/Users/allandong/ds/metis/metisgh/Project-two-Luther/yelp.csv'\n",
    "\n",
    "df_yelp= pd.read_csv(yelp)\n",
    "\n",
    "yelp_cols = ['URL', 'YELP_RATINGS']\n",
    "df_yelp.columns = yelp_cols\n",
    "\n",
    "df_yelp = df_yelp[df_yelp['YELP_RATINGS'] != 'yelp_ratings']\n",
    "\n",
    "def get_num(row):\n",
    "    return float(row['YELP_RATINGS'].split()[0])\n",
    "\n",
    "df_yelp['RATINGS'] = df_yelp.apply(get_num, axis=1)\n"
   ]
  },
  {
   "cell_type": "code",
   "execution_count": 5,
   "metadata": {
    "collapsed": true
   },
   "outputs": [],
   "source": [
    "def grader(row):\n",
    "    grade = row['GRADE']\n",
    "    if grade=='A':\n",
    "        return 0\n",
    "    elif grade=='B':\n",
    "        return 5\n",
    "    elif grade=='C':\n",
    "        return 10\n",
    "\n",
    "def criticalflag(row):\n",
    "    flag = row['CRITICAL_FLAG']\n",
    "    if flag == 'Critical':\n",
    "        return 1\n",
    "    elif flag == 'Not Critical':\n",
    "        return 0"
   ]
  },
  {
   "cell_type": "markdown",
   "metadata": {},
   "source": [
    "df_short = Remove extraneous columns from df_clean before concat"
   ]
  },
  {
   "cell_type": "code",
   "execution_count": 18,
   "metadata": {
    "collapsed": true
   },
   "outputs": [],
   "source": [
    "df_short = df_clean.drop(['CAMIS', \n",
    "                          'DBA',\n",
    "                          'BORO', \n",
    "                          'BUILDING', \n",
    "                          'STREET', \n",
    "                          'PHONE',\n",
    "                          'INSPECTION_DATE',\n",
    "                          'ACTION',\n",
    "                          'VIOLATION_DESC',\n",
    "                          'GRADE_DATE',\n",
    "                          'RECORD_DATE',\n",
    "                          'INSPECTION_TYPE',\n",
    "                          'ADDRESS',\n",
    "                         ], 1)\n"
   ]
  },
  {
   "cell_type": "markdown",
   "metadata": {},
   "source": [
    "df_ex = Concating df_short and df_yelp and with NaN's dropped"
   ]
  },
  {
   "cell_type": "code",
   "execution_count": 19,
   "metadata": {
    "collapsed": true
   },
   "outputs": [],
   "source": [
    "df_ex_pre= pd.merge(df_short, df_yelp, how='left',on='URL')\n",
    "\n",
    "df_ex_pre = df_ex_pre.drop_duplicates().dropna(axis=0, how='any')"
   ]
  },
  {
   "cell_type": "markdown",
   "metadata": {},
   "source": [
    "Create 'GRADE_NUM' and 'CRIT_FLAG_NUM' dummy variables from 'GRADE' and 'CRITICAL_FLAG' \n",
    "\n",
    "\n",
    "  'GRADE_NUM' = {'A':0, 'B':5, 'C':10}\n",
    "  \n",
    "  'CRIT_FLAG_NUM = {'Critical':1, 'Not Critical':0}\n",
    "\n",
    "Remove extraneous columns and reindex columns"
   ]
  },
  {
   "cell_type": "code",
   "execution_count": null,
   "metadata": {},
   "outputs": [],
   "source": []
  },
  {
   "cell_type": "markdown",
   "metadata": {},
   "source": [
    "Create dummy variables from 'GRADE' and 'CRITICAL_FLAG' \n",
    "\n",
    "Remove extraneous columns and reindex columns"
   ]
  },
  {
   "cell_type": "code",
   "execution_count": 20,
   "metadata": {},
   "outputs": [
    {
     "data": {
      "text/html": [
       "<div>\n",
       "<style>\n",
       "    .dataframe thead tr:only-child th {\n",
       "        text-align: right;\n",
       "    }\n",
       "\n",
       "    .dataframe thead th {\n",
       "        text-align: left;\n",
       "    }\n",
       "\n",
       "    .dataframe tbody tr th {\n",
       "        vertical-align: top;\n",
       "    }\n",
       "</style>\n",
       "<table border=\"1\" class=\"dataframe\">\n",
       "  <thead>\n",
       "    <tr style=\"text-align: right;\">\n",
       "      <th></th>\n",
       "      <th>ZIPCODE</th>\n",
       "      <th>CUISINE_DESC</th>\n",
       "      <th>VIOLATION_CODE</th>\n",
       "      <th>CRITICAL_FLAG</th>\n",
       "      <th>SCORE</th>\n",
       "      <th>GRADE</th>\n",
       "      <th>URL</th>\n",
       "      <th>YELP_RATINGS</th>\n",
       "      <th>RATINGS</th>\n",
       "    </tr>\n",
       "  </thead>\n",
       "  <tbody>\n",
       "    <tr>\n",
       "      <th>0</th>\n",
       "      <td>11101.0</td>\n",
       "      <td>Italian</td>\n",
       "      <td>02B</td>\n",
       "      <td>Critical</td>\n",
       "      <td>27.0</td>\n",
       "      <td>B</td>\n",
       "      <td>https://www.yelp.com/search?find_desc=BROOKS+1...</td>\n",
       "      <td>2.5 star rating</td>\n",
       "      <td>2.5</td>\n",
       "    </tr>\n",
       "    <tr>\n",
       "      <th>41</th>\n",
       "      <td>10022.0</td>\n",
       "      <td>Bakery</td>\n",
       "      <td>02B</td>\n",
       "      <td>Critical</td>\n",
       "      <td>9.0</td>\n",
       "      <td>A</td>\n",
       "      <td>https://www.yelp.com/search?find_desc=PARIS+BA...</td>\n",
       "      <td>3.5 star rating</td>\n",
       "      <td>3.5</td>\n",
       "    </tr>\n",
       "    <tr>\n",
       "      <th>67</th>\n",
       "      <td>11201.0</td>\n",
       "      <td>American</td>\n",
       "      <td>06D</td>\n",
       "      <td>Critical</td>\n",
       "      <td>12.0</td>\n",
       "      <td>A</td>\n",
       "      <td>https://www.yelp.com/search?find_desc=STERLING...</td>\n",
       "      <td>4.0 star rating</td>\n",
       "      <td>4.0</td>\n",
       "    </tr>\n",
       "    <tr>\n",
       "      <th>84</th>\n",
       "      <td>10019.0</td>\n",
       "      <td>French</td>\n",
       "      <td>10F</td>\n",
       "      <td>Not Critical</td>\n",
       "      <td>7.0</td>\n",
       "      <td>A</td>\n",
       "      <td>https://www.yelp.com/search?find_desc=PETROSSI...</td>\n",
       "      <td>4.0 star rating</td>\n",
       "      <td>4.0</td>\n",
       "    </tr>\n",
       "    <tr>\n",
       "      <th>106</th>\n",
       "      <td>11211.0</td>\n",
       "      <td>Peruvian</td>\n",
       "      <td>06F</td>\n",
       "      <td>Critical</td>\n",
       "      <td>7.0</td>\n",
       "      <td>A</td>\n",
       "      <td>https://www.yelp.com/search?find_desc=DESNUDA+...</td>\n",
       "      <td>4.0 star rating</td>\n",
       "      <td>4.0</td>\n",
       "    </tr>\n",
       "  </tbody>\n",
       "</table>\n",
       "</div>"
      ],
      "text/plain": [
       "     ZIPCODE CUISINE_DESC VIOLATION_CODE CRITICAL_FLAG  SCORE GRADE  \\\n",
       "0    11101.0      Italian            02B      Critical   27.0     B   \n",
       "41   10022.0       Bakery            02B      Critical    9.0     A   \n",
       "67   11201.0     American            06D      Critical   12.0     A   \n",
       "84   10019.0       French            10F  Not Critical    7.0     A   \n",
       "106  11211.0     Peruvian            06F      Critical    7.0     A   \n",
       "\n",
       "                                                   URL     YELP_RATINGS  \\\n",
       "0    https://www.yelp.com/search?find_desc=BROOKS+1...  2.5 star rating   \n",
       "41   https://www.yelp.com/search?find_desc=PARIS+BA...  3.5 star rating   \n",
       "67   https://www.yelp.com/search?find_desc=STERLING...  4.0 star rating   \n",
       "84   https://www.yelp.com/search?find_desc=PETROSSI...  4.0 star rating   \n",
       "106  https://www.yelp.com/search?find_desc=DESNUDA+...  4.0 star rating   \n",
       "\n",
       "     RATINGS  \n",
       "0        2.5  \n",
       "41       3.5  \n",
       "67       4.0  \n",
       "84       4.0  \n",
       "106      4.0  "
      ]
     },
     "execution_count": 20,
     "metadata": {},
     "output_type": "execute_result"
    }
   ],
   "source": [
    "df_ex_pre.head()"
   ]
  },
  {
   "cell_type": "code",
   "execution_count": 21,
   "metadata": {},
   "outputs": [
    {
     "data": {
      "text/html": [
       "<div>\n",
       "<style>\n",
       "    .dataframe thead tr:only-child th {\n",
       "        text-align: right;\n",
       "    }\n",
       "\n",
       "    .dataframe thead th {\n",
       "        text-align: left;\n",
       "    }\n",
       "\n",
       "    .dataframe tbody tr th {\n",
       "        vertical-align: top;\n",
       "    }\n",
       "</style>\n",
       "<table border=\"1\" class=\"dataframe\">\n",
       "  <thead>\n",
       "    <tr style=\"text-align: right;\">\n",
       "      <th></th>\n",
       "      <th>RATINGS</th>\n",
       "      <th>SCORE</th>\n",
       "      <th>CRITICAL_FLAG</th>\n",
       "      <th>GRADE</th>\n",
       "      <th>VIOLATION_CODE</th>\n",
       "    </tr>\n",
       "  </thead>\n",
       "  <tbody>\n",
       "    <tr>\n",
       "      <th>0</th>\n",
       "      <td>2.5</td>\n",
       "      <td>27.0</td>\n",
       "      <td>Critical</td>\n",
       "      <td>B</td>\n",
       "      <td>02B</td>\n",
       "    </tr>\n",
       "    <tr>\n",
       "      <th>41</th>\n",
       "      <td>3.5</td>\n",
       "      <td>9.0</td>\n",
       "      <td>Critical</td>\n",
       "      <td>A</td>\n",
       "      <td>02B</td>\n",
       "    </tr>\n",
       "    <tr>\n",
       "      <th>67</th>\n",
       "      <td>4.0</td>\n",
       "      <td>12.0</td>\n",
       "      <td>Critical</td>\n",
       "      <td>A</td>\n",
       "      <td>06D</td>\n",
       "    </tr>\n",
       "    <tr>\n",
       "      <th>84</th>\n",
       "      <td>4.0</td>\n",
       "      <td>7.0</td>\n",
       "      <td>Not Critical</td>\n",
       "      <td>A</td>\n",
       "      <td>10F</td>\n",
       "    </tr>\n",
       "    <tr>\n",
       "      <th>106</th>\n",
       "      <td>4.0</td>\n",
       "      <td>7.0</td>\n",
       "      <td>Critical</td>\n",
       "      <td>A</td>\n",
       "      <td>06F</td>\n",
       "    </tr>\n",
       "  </tbody>\n",
       "</table>\n",
       "</div>"
      ],
      "text/plain": [
       "     RATINGS  SCORE CRITICAL_FLAG GRADE VIOLATION_CODE\n",
       "0        2.5   27.0      Critical     B            02B\n",
       "41       3.5    9.0      Critical     A            02B\n",
       "67       4.0   12.0      Critical     A            06D\n",
       "84       4.0    7.0  Not Critical     A            10F\n",
       "106      4.0    7.0      Critical     A            06F"
      ]
     },
     "execution_count": 21,
     "metadata": {},
     "output_type": "execute_result"
    }
   ],
   "source": [
    "\n",
    "df_ex = df_ex_pre[df_ex_pre['GRADE'] != 'Z']\n",
    "df_ex = df_ex[df_ex['GRADE'] != 'P']\n",
    "df_ex = df_ex[df_ex['GRADE'] != 'Not Yet Graded']\n",
    "\n",
    "\n",
    "\n",
    "dfex_cols = ['RATINGS', 'SCORE', 'CRITICAL_FLAG', 'GRADE', 'VIOLATION_CODE']\n",
    "dfex = df_ex[dfex_cols]\n",
    "\n",
    "dfex.head()"
   ]
  },
  {
   "cell_type": "code",
   "execution_count": 31,
   "metadata": {},
   "outputs": [],
   "source": [
    "dfex_cols_viol = ['RATINGS', 'SCORE', 'CRITICAL_FLAG', 'GRADE', 'VIOLATION_CODE']\n",
    "dfex_viol_pre = df_ex[dfex_cols_viol]\n",
    "\n",
    "\n",
    "df_ex_prex = df_ex.drop(['ZIPCODE', 'CUISINE_DESC', 'URL', 'YELP_RATINGS'],\n",
    "           axis = 1)\n",
    "\n"
   ]
  },
  {
   "cell_type": "code",
   "execution_count": 23,
   "metadata": {
    "collapsed": true
   },
   "outputs": [],
   "source": [
    "critical_flag_patsy = patsy.dmatrix('CRITICAL_FLAG', data=dfex, return_type='dataframe').drop('Intercept', 1)\n",
    "grade_num_patsy = patsy.dmatrix('GRADE', data=dfex, return_type='dataframe').drop('Intercept', 1)\n",
    "violation_code_patsy = patsy.dmatrix('VIOLATION_CODE', data=dfex, return_type=\"dataframe\").drop('Intercept', 1)\n",
    "\n"
   ]
  },
  {
   "cell_type": "code",
   "execution_count": 24,
   "metadata": {
    "collapsed": true
   },
   "outputs": [],
   "source": [
    "dfex_patsy = pd.concat([dfex, grade_num_patsy, critical_flag_patsy, violation_code_patsy], \n",
    "                      axis = 1, join_axes = [dfex.index])\n",
    "\n",
    "\n",
    "\n",
    "\n",
    "dfex = dfex_viol_pre.drop(['GRADE', 'CRITICAL_FLAG', 'VIOLATION_CODE'], 1)\n",
    "dfex_viol = dfex_viol_pre.drop(['GRADE', 'CRITICAL_FLAG'], 1)\n"
   ]
  },
  {
   "cell_type": "code",
   "execution_count": null,
   "metadata": {},
   "outputs": [],
   "source": []
  },
  {
   "cell_type": "code",
   "execution_count": 32,
   "metadata": {},
   "outputs": [
    {
     "data": {
      "text/html": [
       "<div>\n",
       "<style>\n",
       "    .dataframe thead tr:only-child th {\n",
       "        text-align: right;\n",
       "    }\n",
       "\n",
       "    .dataframe thead th {\n",
       "        text-align: left;\n",
       "    }\n",
       "\n",
       "    .dataframe tbody tr th {\n",
       "        vertical-align: top;\n",
       "    }\n",
       "</style>\n",
       "<table border=\"1\" class=\"dataframe\">\n",
       "  <thead>\n",
       "    <tr style=\"text-align: right;\">\n",
       "      <th></th>\n",
       "      <th>VIOLATION_CODE</th>\n",
       "      <th>CRITICAL_FLAG</th>\n",
       "      <th>SCORE</th>\n",
       "      <th>GRADE</th>\n",
       "      <th>RATINGS</th>\n",
       "    </tr>\n",
       "  </thead>\n",
       "  <tbody>\n",
       "    <tr>\n",
       "      <th>0</th>\n",
       "      <td>02B</td>\n",
       "      <td>Critical</td>\n",
       "      <td>27.0</td>\n",
       "      <td>B</td>\n",
       "      <td>2.5</td>\n",
       "    </tr>\n",
       "    <tr>\n",
       "      <th>41</th>\n",
       "      <td>02B</td>\n",
       "      <td>Critical</td>\n",
       "      <td>9.0</td>\n",
       "      <td>A</td>\n",
       "      <td>3.5</td>\n",
       "    </tr>\n",
       "    <tr>\n",
       "      <th>67</th>\n",
       "      <td>06D</td>\n",
       "      <td>Critical</td>\n",
       "      <td>12.0</td>\n",
       "      <td>A</td>\n",
       "      <td>4.0</td>\n",
       "    </tr>\n",
       "    <tr>\n",
       "      <th>84</th>\n",
       "      <td>10F</td>\n",
       "      <td>Not Critical</td>\n",
       "      <td>7.0</td>\n",
       "      <td>A</td>\n",
       "      <td>4.0</td>\n",
       "    </tr>\n",
       "    <tr>\n",
       "      <th>106</th>\n",
       "      <td>06F</td>\n",
       "      <td>Critical</td>\n",
       "      <td>7.0</td>\n",
       "      <td>A</td>\n",
       "      <td>4.0</td>\n",
       "    </tr>\n",
       "  </tbody>\n",
       "</table>\n",
       "</div>"
      ],
      "text/plain": [
       "    VIOLATION_CODE CRITICAL_FLAG  SCORE GRADE  RATINGS\n",
       "0              02B      Critical   27.0     B      2.5\n",
       "41             02B      Critical    9.0     A      3.5\n",
       "67             06D      Critical   12.0     A      4.0\n",
       "84             10F  Not Critical    7.0     A      4.0\n",
       "106            06F      Critical    7.0     A      4.0"
      ]
     },
     "execution_count": 32,
     "metadata": {},
     "output_type": "execute_result"
    }
   ],
   "source": [
    "df_exx = df_ex_prex\n",
    "\n",
    "\n",
    "#cuisine_desc = pd.get_dummies(df_exx['CUISINE_DESC'])\n",
    "#critical_flag = pd.get_dummies(df_exx['CRITICAL_FLAG'])\n",
    "#grade_num = pd.get_dummies(df_exx['GRADE'])\n",
    "\n",
    "\n",
    "df_exx.head()"
   ]
  },
  {
   "cell_type": "code",
   "execution_count": 34,
   "metadata": {},
   "outputs": [],
   "source": [
    "critical_flag_patsy = patsy.dmatrix('CRITICAL_FLAG', data=df_exx, return_type='dataframe').drop('Intercept', 1)\n",
    "grade_num_patsy = patsy.dmatrix('GRADE', data=df_exx, return_type='dataframe').drop('Intercept', 1)\n",
    "violation_code_patsy = patsy.dmatrix('VIOLATION_CODE', data=df_exx, return_type=\"dataframe\").drop('Intercept', 1)\n",
    "\n",
    "#df_exx = pd.concat([df_exx, grade_num, critical_flag], axis = 1, join_axes = [df_exx.index])\n",
    "df_exx = pd.concat([df_exx, \n",
    "                    grade_num_patsy, \n",
    "                    critical_flag_patsy, \n",
    "                    violation_code_patsy\n",
    "                   ], axis = 1, join_axes = [df_exx.index])\n",
    "\n",
    "df_exx = df_exx.drop(['VIOLATION_CODE', 'CRITICAL_FLAG', 'GRADE'],\n",
    "           axis = 1)\n",
    "\n",
    "\n"
   ]
  },
  {
   "cell_type": "code",
   "execution_count": null,
   "metadata": {
    "collapsed": true
   },
   "outputs": [],
   "source": []
  },
  {
   "cell_type": "code",
   "execution_count": null,
   "metadata": {
    "collapsed": true
   },
   "outputs": [],
   "source": []
  },
  {
   "cell_type": "markdown",
   "metadata": {},
   "source": [
    "Check each column for non numeric values"
   ]
  },
  {
   "cell_type": "code",
   "execution_count": null,
   "metadata": {
    "collapsed": true
   },
   "outputs": [],
   "source": [
    "print(dfex['RATINGS'].describe())\n",
    "print(dfex['SCORE'].describe())\n",
    "print(dfex['GRADE_NUM'].describe())\n",
    "print(dfex['CRIT_FLAG_NUM'].describe())"
   ]
  },
  {
   "cell_type": "markdown",
   "metadata": {},
   "source": [
    "Examine data and preliminary analysis of R2"
   ]
  },
  {
   "cell_type": "code",
   "execution_count": null,
   "metadata": {
    "scrolled": false
   },
   "outputs": [],
   "source": [
    "\n",
    "sns.pairplot(dfex_viol[['SCORE','RATINGS', 'GRADE[T.B]', 'GRADE[T.C]',\n",
    "       'CRITICAL_FLAG[T.Not Critical]']], kind=\"scatter\", diag_kind=\"hist\")\n"
   ]
  },
  {
   "cell_type": "code",
   "execution_count": null,
   "metadata": {},
   "outputs": [],
   "source": []
  },
  {
   "cell_type": "code",
   "execution_count": null,
   "metadata": {},
   "outputs": [],
   "source": []
  },
  {
   "cell_type": "code",
   "execution_count": null,
   "metadata": {},
   "outputs": [],
   "source": [
    "dfex.corr()"
   ]
  },
  {
   "cell_type": "code",
   "execution_count": null,
   "metadata": {},
   "outputs": [],
   "source": []
  },
  {
   "cell_type": "code",
   "execution_count": null,
   "metadata": {
    "collapsed": true
   },
   "outputs": [],
   "source": []
  },
  {
   "cell_type": "code",
   "execution_count": null,
   "metadata": {},
   "outputs": [],
   "source": [
    "y, X = patsy.dmatrices('RATINGS ~ SCORE + RATINGS + GRADE[T.B] + GRADE[T.C] + CRITICAL_FLAG[T.Not Critical]', data=dfex, return_type=\"dataframe\")\n",
    "model = sm.OLS(y, X)\n",
    "fit = model.fit()\n",
    "fit.summary()\n",
    "\n",
    "\n",
    "#lml = smf.ols('Y ')"
   ]
  },
  {
   "cell_type": "markdown",
   "metadata": {},
   "source": [
    "Check R2 with LinearRegression\n",
    "\n",
    "\n",
    "Legend:\n",
    "\n",
    "dfex : [y = 'RATINGS', x = 'SCORE', 'GRADE_NUM', 'CRIT_FLAG_NUM']\n",
    "\n",
    "dfex1 : [y = 'SCORE', x ='RATINGS', 'GRADE_NUM', 'CRIT_FLAG_NUM']\n",
    "\n",
    "dfex2 : [y = 'SCORE', x ='RATINGS', 'CRIT_FLAG_NUM']\n",
    "\n",
    "dfex1_viol : [y = 'SCORE', x = 'RATINGS', 'GRADE_NUM', 'CRIT_FLAG_NUM', VIOLATION_CODE-dummies]\n",
    "\n",
    "dfex2_viol : [y = 'SCORE', x = 'RATINGS', 'CRIT_FLAG_NUM', VIOLATION_CODE-dummies]"
   ]
  },
  {
   "cell_type": "code",
   "execution_count": null,
   "metadata": {},
   "outputs": [],
   "source": []
  },
  {
   "cell_type": "code",
   "execution_count": null,
   "metadata": {},
   "outputs": [],
   "source": []
  },
  {
   "cell_type": "code",
   "execution_count": null,
   "metadata": {},
   "outputs": [],
   "source": [
    "\n",
    "dfex1_cols = ['SCORE', 'RATINGS', 'GRADE[T.B]', 'GRADE[T.C]', 'CRITICAL_FLAG[T.Not Critical]']\n",
    "dfex1= dfex_patsy[dfex1_cols]\n",
    "\n",
    "\n",
    "dfex1_viol = dfex_patsy"
   ]
  },
  {
   "cell_type": "code",
   "execution_count": null,
   "metadata": {},
   "outputs": [],
   "source": [
    "dfex2 = dfex1.drop(['GRADE[T.B]', 'GRADE[T.C]'], 1)\n",
    "dfex2_viol = dfex1_viol.drop(['GRADE[T.B]', 'GRADE[T.C]'], 1)\n"
   ]
  },
  {
   "cell_type": "code",
   "execution_count": null,
   "metadata": {},
   "outputs": [],
   "source": []
  },
  {
   "cell_type": "code",
   "execution_count": null,
   "metadata": {},
   "outputs": [],
   "source": [
    "X = dfex1.iloc[:, 1:]\n",
    "y = dfex1.iloc[:, 0]\n",
    "\n",
    "lr.fit(X, y)\n",
    "lr.score(X,y)"
   ]
  },
  {
   "cell_type": "code",
   "execution_count": null,
   "metadata": {},
   "outputs": [],
   "source": [
    "X = dfex2.iloc[:, 1:]\n",
    "y = dfex2.iloc[:, 0]\n",
    "\n",
    "lr.fit(X,y)\n",
    "lr.score(X,y)"
   ]
  },
  {
   "cell_type": "code",
   "execution_count": null,
   "metadata": {},
   "outputs": [],
   "source": [
    "\n",
    "X = dfex1_viol.iloc[:, 1:]\n",
    "y = dfex1_viol.iloc[:, 0]\n",
    "\n",
    "lr.fit(X, y)\n",
    "lr.score(X,y)"
   ]
  },
  {
   "cell_type": "code",
   "execution_count": null,
   "metadata": {},
   "outputs": [],
   "source": [
    "X = dfex2_viol.iloc[:, 1:]\n",
    "y = dfex2_viol.iloc[:, 0]\n",
    "\n",
    "lr.fit(X,y)\n",
    "lr.score(X,y)"
   ]
  },
  {
   "cell_type": "code",
   "execution_count": null,
   "metadata": {
    "collapsed": true
   },
   "outputs": [],
   "source": [
    "dfex2_viol_cols = ''\n",
    "for i in dfex2_viol.columns:\n",
    "    dfex2_viol_cols += i + \"+\"\n",
    "dfex2_viol_patsy_str = 'SCORE ~ '+ dfex2_viol_cols[6:-1]\n",
    "dfex2_viol_patsy_str"
   ]
  },
  {
   "cell_type": "code",
   "execution_count": null,
   "metadata": {},
   "outputs": [],
   "source": [
    "y_dfex2, X_dfex2 = patsy.dmatrices(dfex2_viol_patsy_str,\n",
    "                       data=dfex2_viol, return_type=\"dataframe\")\n",
    "model_dfex2 = sm.OLS(y_dfex2, X_dfex2)\n",
    "fit_dfex2 = model_dfex2.fit()\n",
    "fit_dfex2.summary()\n"
   ]
  },
  {
   "cell_type": "code",
   "execution_count": null,
   "metadata": {},
   "outputs": [],
   "source": [
    "lr = LinearRegression()\n",
    "X = df_exx.iloc[:, 1:]\n",
    "y = df_exx.iloc[:, 0]\n",
    "\n",
    "lr.fit(X, y)\n",
    "lr.score(X, y)"
   ]
  },
  {
   "cell_type": "code",
   "execution_count": null,
   "metadata": {},
   "outputs": [],
   "source": []
  },
  {
   "cell_type": "code",
   "execution_count": null,
   "metadata": {},
   "outputs": [],
   "source": [
    "reg = LinearRegression()\n",
    "X = df_exx.iloc[:, 1:]\n",
    "y = df_exx.iloc[:, 0]\n",
    "scores = cross_val_score(reg, X, y, cv=10, scoring='neg_mean_squared_error')\n",
    "\n",
    "# scores output is negative, a sklearn quirk bc mse is used to min. optimization func.\n",
    "print(-scores)"
   ]
  },
  {
   "cell_type": "code",
   "execution_count": null,
   "metadata": {},
   "outputs": [],
   "source": [
    "sns.pairplot(df_exx[['SCORE', 'RATINGS','GRADE[T.B]','GRADE[T.C]','CRITICAL_FLAG[T.Not Critical]']], \n",
    "                       kind=\"scatter\",\n",
    "                       diag_kind=\"hist\"\n",
    "                       )\n"
   ]
  },
  {
   "cell_type": "code",
   "execution_count": null,
   "metadata": {},
   "outputs": [],
   "source": []
  },
  {
   "cell_type": "code",
   "execution_count": null,
   "metadata": {
    "collapsed": true
   },
   "outputs": [],
   "source": [
    "df"
   ]
  },
  {
   "cell_type": "code",
   "execution_count": null,
   "metadata": {
    "collapsed": true
   },
   "outputs": [],
   "source": []
  },
  {
   "cell_type": "code",
   "execution_count": null,
   "metadata": {
    "scrolled": false
   },
   "outputs": [],
   "source": [
    "dfex2_viol_cols = ''\n",
    "for i in dfex2_viol.columns:\n",
    "    dfex2_viol_cols += i + \"+\"\n",
    "dfex2_viol_patsy_str = 'SCORE ~ '+ dfex2_viol_cols[6:-1]\n",
    "dfex2_viol_patsy_str"
   ]
  },
  {
   "cell_type": "code",
   "execution_count": null,
   "metadata": {
    "scrolled": false
   },
   "outputs": [],
   "source": [
    "'''y, X = patsy.dmatrices(dfex2_viol_patsy_str,\n",
    "                       data=dfex2_viol, return_type=\"dataframe\")\n",
    "model = sm.OLS(y, X)\n",
    "fit = model.fit()\n",
    "fit.summary()\n",
    "'''"
   ]
  },
  {
   "cell_type": "code",
   "execution_count": null,
   "metadata": {
    "collapsed": true
   },
   "outputs": [],
   "source": []
  },
  {
   "cell_type": "code",
   "execution_count": null,
   "metadata": {
    "collapsed": true
   },
   "outputs": [],
   "source": [
    "'''df_exx_cols = ''\n",
    "for i in df_exx.columns:\n",
    "    df_exx_cols += i + \" + \"\n",
    "df_exx_cols = \"SCORE ~ \" + df_exx_cols[8:-3] \n",
    "df_exx_cols'''"
   ]
  },
  {
   "cell_type": "code",
   "execution_count": null,
   "metadata": {
    "collapsed": true
   },
   "outputs": [],
   "source": [
    "'''y_df_exx, X_df_exxx = patsy.dmatrices(df_exx_cols, data=df_exx, return_type=\"dataframe\")\n",
    "model_df_exx = sm.OLS(y_df_exx, X_df_exx)\n",
    "fit_df_exx = model_df_exx.fit()\n",
    "fit_df_exx.summary()'''"
   ]
  },
  {
   "cell_type": "markdown",
   "metadata": {
    "collapsed": true
   },
   "source": [
    "# Violation Code"
   ]
  },
  {
   "cell_type": "code",
   "execution_count": null,
   "metadata": {},
   "outputs": [],
   "source": [
    "df_viol = df_clean.drop(['CAMIS', \n",
    "                          'DBA',\n",
    "                          'BORO', \n",
    "                          'BUILDING', \n",
    "                          'STREET', \n",
    "                          'ZIPCODE',\n",
    "                          'PHONE',\n",
    "                          'CUISINE_DESC',\n",
    "                          'INSPECTION_DATE',\n",
    "                          'ACTION',\n",
    "                          'SCORE',\n",
    "                          'GRADE',\n",
    "                          'GRADE_DATE',\n",
    "                          'RECORD_DATE',\n",
    "                          'INSPECTION_TYPE',\n",
    "                          'ADDRESS',\n",
    "                          'URL'\n",
    "                         ], 1)\n",
    "df_viol = df_viol.drop_duplicates(subset='VIOLATION_CODE')\n",
    "df_viol =df_viol.sort_values(['VIOLATION_CODE'])\n",
    "df_viol.head(60)"
   ]
  },
  {
   "cell_type": "code",
   "execution_count": null,
   "metadata": {},
   "outputs": [],
   "source": [
    "df_clean.columns"
   ]
  },
  {
   "cell_type": "code",
   "execution_count": null,
   "metadata": {
    "collapsed": true
   },
   "outputs": [],
   "source": []
  }
 ],
 "metadata": {
  "kernelspec": {
   "display_name": "Python 3",
   "language": "python",
   "name": "python3"
  },
  "language_info": {
   "codemirror_mode": {
    "name": "ipython",
    "version": 3
   },
   "file_extension": ".py",
   "mimetype": "text/x-python",
   "name": "python",
   "nbconvert_exporter": "python",
   "pygments_lexer": "ipython3",
   "version": "3.6.1"
  }
 },
 "nbformat": 4,
 "nbformat_minor": 2
}
