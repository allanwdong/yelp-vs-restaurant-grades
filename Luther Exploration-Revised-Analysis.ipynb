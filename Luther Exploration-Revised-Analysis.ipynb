{
 "cells": [
  {
   "cell_type": "markdown",
   "metadata": {},
   "source": [
    "# Hypothesis: I can figure out how clean a restaurant is by its yelp ratings. Possibly by also including type of food and location of restaurant. \n",
    "# Null hypothesis: A restaurants inspection grade and yelp ratings are not correlated at all"
   ]
  },
  {
   "cell_type": "code",
   "execution_count": 1,
   "metadata": {},
   "outputs": [
    {
     "name": "stderr",
     "output_type": "stream",
     "text": [
      "/Users/allandong/anaconda/lib/python3.6/site-packages/statsmodels/compat/pandas.py:56: FutureWarning: The pandas.core.datetools module is deprecated and will be removed in a future version. Please use the pandas.tseries module instead.\n",
      "  from pandas.core import datetools\n",
      "/Users/allandong/anaconda/lib/python3.6/site-packages/sklearn/cross_validation.py:41: DeprecationWarning: This module was deprecated in version 0.18 in favor of the model_selection module into which all the refactored classes and functions are moved. Also note that the interface of the new CV iterators are different from that of this module. This module will be removed in 0.20.\n",
      "  \"This module will be removed in 0.20.\", DeprecationWarning)\n"
     ]
    }
   ],
   "source": [
    "import numpy as np\n",
    "import pandas as pd\n",
    "import os.path\n",
    "import json\n",
    "\n",
    "import matplotlib.pyplot as plt\n",
    "import seaborn as sns\n",
    "import patsy\n",
    "import statsmodels.api as sm\n",
    "import statsmodels.formula.api as smf\n",
    "\n",
    "from sklearn.linear_model import LinearRegression, RidgeCV, LogisticRegression\n",
    "from sklearn.model_selection import train_test_split, KFold, cross_val_score\n",
    "from sklearn.preprocessing import PolynomialFeatures\n",
    "from sklearn.pipeline import make_pipeline\n",
    "from sklearn.feature_extraction import DictVectorizer\n",
    "from sklearn.cross_validation import cross_val_score\n",
    "\n",
    "import sklearn.metrics as skmetrics\n",
    "\n",
    "%matplotlib inline\n",
    "\n"
   ]
  },
  {
   "cell_type": "markdown",
   "metadata": {},
   "source": [
    "# Data Gathering\n",
    "\n",
    "Reading NYC Restaurant Inspection data into DataFrame to grab restaurant title/address to generate appropriate yelp urls for futures scraping"
   ]
  },
  {
   "cell_type": "code",
   "execution_count": 2,
   "metadata": {
    "scrolled": true
   },
   "outputs": [],
   "source": [
    "nyccsv = '/Users/allandong/ds/metis/metisgh/Metis_Work/02-project-two-Luther/DOHMH_New_York_City_Restaurant_Inspection_Results.csv'\n",
    "\n",
    "df = pd.read_csv(nyccsv)\n",
    "\n",
    "cols = ['CAMIS', 'DBA', 'BORO', 'BUILDING', 'STREET', 'ZIPCODE', 'PHONE', 'CUISINE_DESC',\n",
    "           'INSPECTION_DATE', 'ACTION', 'VIOLATION_CODE', 'VIOLATION_DESC', 'CRITICAL_FLAG',\n",
    "           'SCORE', 'GRADE', 'GRADE_DATE', 'RECORD_DATE', 'INSPECTION_TYPE']\n",
    "df.columns = cols\n",
    "\n",
    "\n"
   ]
  },
  {
   "cell_type": "markdown",
   "metadata": {},
   "source": [
    "Yelp URLs are formulaic, by title and address. Generate Yelp URLs for scraping with scrapy."
   ]
  },
  {
   "cell_type": "code",
   "execution_count": 3,
   "metadata": {},
   "outputs": [
    {
     "name": "stderr",
     "output_type": "stream",
     "text": [
      "/Users/allandong/anaconda/lib/python3.6/site-packages/ipykernel_launcher.py:14: SettingWithCopyWarning: \n",
      "A value is trying to be set on a copy of a slice from a DataFrame.\n",
      "Try using .loc[row_indexer,col_indexer] = value instead\n",
      "\n",
      "See the caveats in the documentation: http://pandas.pydata.org/pandas-docs/stable/indexing.html#indexing-view-versus-copy\n",
      "  \n"
     ]
    }
   ],
   "source": [
    "df['ADDRESS'] = df.BUILDING + \" \" + df.STREET + \" \" + df.BORO\n",
    "\n",
    "def yelp_url_gen(row):\n",
    "    # yelp_url_gen:\n",
    "    #     Yelp search urls are formulatic based upon \"Find\" and \"Location\" inserted values -\n",
    "    #   so, I can generate what the urls would be if I serached by restaurant title and\n",
    "    #   restaurant address\n",
    "\n",
    "    title1 = row['DBA'].replace(\" \", \"+\")\n",
    "    address1 = row['ADDRESS'].replace(\" \", \"+\")\n",
    "    return \"https://www.yelp.com/search?find_desc={title1}&find_loc={address1}\".format(title1=title1, address1=address1)\n",
    "\n",
    "df_clean = df.dropna(axis=0, how='any')\n",
    "df_clean['URL'] = df_clean.apply(yelp_url_gen, axis = 1)"
   ]
  },
  {
   "cell_type": "code",
   "execution_count": 4,
   "metadata": {},
   "outputs": [
    {
     "name": "stderr",
     "output_type": "stream",
     "text": [
      "/Users/allandong/anaconda/lib/python3.6/site-packages/pandas/core/generic.py:3643: SettingWithCopyWarning: \n",
      "A value is trying to be set on a copy of a slice from a DataFrame.\n",
      "Try using .loc[row_indexer,col_indexer] = value instead\n",
      "\n",
      "See the caveats in the documentation: http://pandas.pydata.org/pandas-docs/stable/indexing.html#indexing-view-versus-copy\n",
      "  self[name] = value\n"
     ]
    }
   ],
   "source": [
    "df_clean.ZIPCODE = df_clean.loc[:, 'ZIPCODE'].astype(int)\n",
    "df_clean.ZIPCODE = df_clean.loc[:, 'ZIPCODE'].astype(str)"
   ]
  },
  {
   "cell_type": "code",
   "execution_count": 5,
   "metadata": {},
   "outputs": [
    {
     "data": {
      "text/plain": [
       "Index(['CAMIS', 'DBA', 'BORO', 'BUILDING', 'STREET', 'ZIPCODE', 'PHONE',\n",
       "       'CUISINE_DESC', 'INSPECTION_DATE', 'ACTION', 'VIOLATION_CODE',\n",
       "       'VIOLATION_DESC', 'CRITICAL_FLAG', 'SCORE', 'GRADE', 'GRADE_DATE',\n",
       "       'RECORD_DATE', 'INSPECTION_TYPE', 'ADDRESS', 'URL'],\n",
       "      dtype='object')"
      ]
     },
     "execution_count": 5,
     "metadata": {},
     "output_type": "execute_result"
    }
   ],
   "source": [
    "df_clean.columns"
   ]
  },
  {
   "cell_type": "markdown",
   "metadata": {},
   "source": [
    "# Add Yelp Data, Data Cleaning"
   ]
  },
  {
   "cell_type": "markdown",
   "metadata": {},
   "source": [
    "df_yelp = Read in Yelp data as a DataFrame, and add a 'RATINGS' column that just has the rating number"
   ]
  },
  {
   "cell_type": "code",
   "execution_count": 6,
   "metadata": {},
   "outputs": [],
   "source": [
    "yelp = '/Users/allandong/ds/metis/metisgh/Metis_Work/02-project-two-Luther/yelp.csv'\n",
    "\n",
    "df_yelp= pd.read_csv(yelp)\n",
    "\n",
    "yelp_cols = ['URL', 'YELP_RATINGS']\n",
    "df_yelp.columns = yelp_cols\n",
    "\n",
    "df_yelp = df_yelp[df_yelp['YELP_RATINGS'] != 'yelp_ratings']\n",
    "\n",
    "def get_num(row):\n",
    "    return float(row['YELP_RATINGS'].split()[0])\n",
    "\n",
    "df_yelp['RATINGS'] = df_yelp.apply(get_num, axis=1)\n"
   ]
  },
  {
   "cell_type": "markdown",
   "metadata": {},
   "source": [
    "df_ex_pre_raw = Concating df_short and df_yelp and with NaN's dropped"
   ]
  },
  {
   "cell_type": "code",
   "execution_count": 7,
   "metadata": {},
   "outputs": [],
   "source": [
    "df_ex_pre_raw= pd.merge(df_clean, df_yelp, how='left',on='URL')\n",
    "\n",
    "df_ex_pre_raw = df_ex_pre_raw.drop_duplicates().dropna(axis=0, how='any')"
   ]
  },
  {
   "cell_type": "code",
   "execution_count": 8,
   "metadata": {},
   "outputs": [
    {
     "data": {
      "text/plain": [
       "Index(['CAMIS', 'DBA', 'BORO', 'BUILDING', 'STREET', 'ZIPCODE', 'PHONE',\n",
       "       'CUISINE_DESC', 'INSPECTION_DATE', 'ACTION', 'VIOLATION_CODE',\n",
       "       'VIOLATION_DESC', 'CRITICAL_FLAG', 'SCORE', 'GRADE', 'GRADE_DATE',\n",
       "       'RECORD_DATE', 'INSPECTION_TYPE', 'ADDRESS', 'URL', 'YELP_RATINGS',\n",
       "       'RATINGS'],\n",
       "      dtype='object')"
      ]
     },
     "execution_count": 8,
     "metadata": {},
     "output_type": "execute_result"
    }
   ],
   "source": [
    "df_ex_pre_raw.columns"
   ]
  },
  {
   "cell_type": "code",
   "execution_count": 9,
   "metadata": {},
   "outputs": [],
   "source": [
    "df_ex_pre = df_ex_pre_raw.drop(['BUILDING', \n",
    "                              'STREET', \n",
    "                              'PHONE',\n",
    "                              'ADDRESS',\n",
    "                              'URL',\n",
    "                              'YELP_RATINGS'\n",
    "                                 ], 1)"
   ]
  },
  {
   "cell_type": "code",
   "execution_count": 10,
   "metadata": {
    "scrolled": true
   },
   "outputs": [],
   "source": [
    "df_ex_pre.INSPECTION_DATE = pd.to_datetime(df_ex_pre.INSPECTION_DATE)"
   ]
  },
  {
   "cell_type": "code",
   "execution_count": 11,
   "metadata": {},
   "outputs": [
    {
     "data": {
      "text/plain": [
       "Index(['CAMIS', 'DBA', 'BORO', 'ZIPCODE', 'CUISINE_DESC', 'INSPECTION_DATE',\n",
       "       'ACTION', 'VIOLATION_CODE', 'VIOLATION_DESC', 'CRITICAL_FLAG', 'SCORE',\n",
       "       'GRADE', 'GRADE_DATE', 'RECORD_DATE', 'INSPECTION_TYPE', 'RATINGS'],\n",
       "      dtype='object')"
      ]
     },
     "execution_count": 11,
     "metadata": {},
     "output_type": "execute_result"
    }
   ],
   "source": [
    "df_ex_pre.columns"
   ]
  },
  {
   "cell_type": "markdown",
   "metadata": {},
   "source": [
    "### df_ex is now my base dataframe "
   ]
  },
  {
   "cell_type": "code",
   "execution_count": 12,
   "metadata": {},
   "outputs": [],
   "source": [
    "df_ex = df_ex_pre.drop(['INSPECTION_DATE'], 1)\n",
    "\n",
    "df_ex = df_ex[df_ex['GRADE'] != 'Not Yet Graded']\n"
   ]
  },
  {
   "cell_type": "code",
   "execution_count": 13,
   "metadata": {},
   "outputs": [
    {
     "data": {
      "text/plain": [
       "Index(['CAMIS', 'DBA', 'BORO', 'ZIPCODE', 'CUISINE_DESC', 'ACTION',\n",
       "       'VIOLATION_CODE', 'VIOLATION_DESC', 'CRITICAL_FLAG', 'SCORE', 'GRADE',\n",
       "       'GRADE_DATE', 'RECORD_DATE', 'INSPECTION_TYPE', 'RATINGS'],\n",
       "      dtype='object')"
      ]
     },
     "execution_count": 13,
     "metadata": {},
     "output_type": "execute_result"
    }
   ],
   "source": [
    "df_ex.columns"
   ]
  },
  {
   "cell_type": "markdown",
   "metadata": {},
   "source": [
    "### 1. Linear Regression - Log_Score, Ratings, Critical_Flag\n",
    "### Create df for linear regression"
   ]
  },
  {
   "cell_type": "code",
   "execution_count": 14,
   "metadata": {},
   "outputs": [],
   "source": [
    "df_linear1 = df_ex.drop(['CAMIS',\n",
    "                         'GRADE',\n",
    "                         'DBA',\n",
    "                         'VIOLATION_CODE',\n",
    "                         'ZIPCODE',\n",
    "                         'BORO',\n",
    "                         'CUISINE_DESC',\n",
    "                         'VIOLATION_DESC',\n",
    "                         'ACTION',\n",
    "                         'INSPECTION_TYPE',\n",
    "                         'GRADE_DATE',\n",
    "                         'RECORD_DATE'\n",
    "                         ], 1)"
   ]
  },
  {
   "cell_type": "code",
   "execution_count": 15,
   "metadata": {
    "scrolled": true
   },
   "outputs": [
    {
     "name": "stderr",
     "output_type": "stream",
     "text": [
      "/Users/allandong/anaconda/lib/python3.6/site-packages/ipykernel_launcher.py:3: SettingWithCopyWarning: \n",
      "A value is trying to be set on a copy of a slice from a DataFrame.\n",
      "Try using .loc[row_indexer,col_indexer] = value instead\n",
      "\n",
      "See the caveats in the documentation: http://pandas.pydata.org/pandas-docs/stable/indexing.html#indexing-view-versus-copy\n",
      "  This is separate from the ipykernel package so we can avoid doing imports until\n"
     ]
    }
   ],
   "source": [
    "df_linear2 = df_linear1[df_linear1.SCORE >0]\n",
    "\n",
    "df_linear2['Log_Score'] = df_linear2.loc[:,'SCORE'].apply(np.log)\n",
    "\n",
    "df_linear2 = df_linear2.drop(['SCORE'], 1)\n"
   ]
  },
  {
   "cell_type": "code",
   "execution_count": 16,
   "metadata": {},
   "outputs": [
    {
     "data": {
      "text/plain": [
       "Index(['RATINGS', 'Log_Score', 'CRITICAL_FLAG_Not Critical'], dtype='object')"
      ]
     },
     "execution_count": 16,
     "metadata": {},
     "output_type": "execute_result"
    }
   ],
   "source": [
    "df_lin2 = pd.get_dummies(df_linear2, drop_first = True, columns = [#'ZIPCODE', \n",
    "                                                    #'BORO', \n",
    "                                                    #'CUISINE_DESC', \n",
    "                                                    'CRITICAL_FLAG'])\n",
    "df_lin2.columns"
   ]
  },
  {
   "cell_type": "code",
   "execution_count": 17,
   "metadata": {},
   "outputs": [],
   "source": [
    "df_lin2 = df_lin2[['Log_Score', 'RATINGS', 'CRITICAL_FLAG_Not Critical']]"
   ]
  },
  {
   "cell_type": "code",
   "execution_count": 18,
   "metadata": {
    "scrolled": true
   },
   "outputs": [
    {
     "data": {
      "text/html": [
       "<div>\n",
       "<style scoped>\n",
       "    .dataframe tbody tr th:only-of-type {\n",
       "        vertical-align: middle;\n",
       "    }\n",
       "\n",
       "    .dataframe tbody tr th {\n",
       "        vertical-align: top;\n",
       "    }\n",
       "\n",
       "    .dataframe thead th {\n",
       "        text-align: right;\n",
       "    }\n",
       "</style>\n",
       "<table border=\"1\" class=\"dataframe\">\n",
       "  <thead>\n",
       "    <tr style=\"text-align: right;\">\n",
       "      <th></th>\n",
       "      <th>Log_Score</th>\n",
       "      <th>RATINGS</th>\n",
       "      <th>CRITICAL_FLAG_Not Critical</th>\n",
       "    </tr>\n",
       "  </thead>\n",
       "  <tbody>\n",
       "    <tr>\n",
       "      <th>0</th>\n",
       "      <td>3.295837</td>\n",
       "      <td>2.5</td>\n",
       "      <td>0</td>\n",
       "    </tr>\n",
       "    <tr>\n",
       "      <th>41</th>\n",
       "      <td>2.197225</td>\n",
       "      <td>3.5</td>\n",
       "      <td>0</td>\n",
       "    </tr>\n",
       "  </tbody>\n",
       "</table>\n",
       "</div>"
      ],
      "text/plain": [
       "    Log_Score  RATINGS  CRITICAL_FLAG_Not Critical\n",
       "0    3.295837      2.5                           0\n",
       "41   2.197225      3.5                           0"
      ]
     },
     "execution_count": 18,
     "metadata": {},
     "output_type": "execute_result"
    }
   ],
   "source": [
    "df_lin2.head(2)"
   ]
  },
  {
   "cell_type": "markdown",
   "metadata": {},
   "source": [
    "### Train Test Split/Linear Regression"
   ]
  },
  {
   "cell_type": "code",
   "execution_count": 19,
   "metadata": {},
   "outputs": [],
   "source": [
    "# Dependendent Variable = 'Log_Score' - Log of Health Inspection Scores\n",
    "# Independent Variables = 'RATINGS', 'CRITICAL_FLAG' dummy\n",
    "df_lin2_y = df_lin2['Log_Score']\n",
    "df_lin2_x = df_lin2.drop(['Log_Score'], 1)\n",
    "\n",
    "x_train, x_finaltest, y_train, y_finaltest = train_test_split(df_lin2_x, df_lin2_y, test_size=0.2)"
   ]
  },
  {
   "cell_type": "code",
   "execution_count": 20,
   "metadata": {},
   "outputs": [],
   "source": [
    "lr  = LinearRegression()\n",
    "logit = LogisticRegression()\n",
    "\n",
    "\n",
    "lr.fit(x_train, y_train)\n",
    "lr_predict = lr.predict(x_finaltest)"
   ]
  },
  {
   "cell_type": "code",
   "execution_count": 21,
   "metadata": {},
   "outputs": [
    {
     "data": {
      "text/plain": [
       "Index(['RATINGS', 'CRITICAL_FLAG_Not Critical'], dtype='object')"
      ]
     },
     "execution_count": 21,
     "metadata": {},
     "output_type": "execute_result"
    }
   ],
   "source": [
    "df_lin2_x.columns #lr.coef_"
   ]
  },
  {
   "cell_type": "code",
   "execution_count": 22,
   "metadata": {},
   "outputs": [
    {
     "data": {
      "text/plain": [
       "array([-0.01376267, -0.26902417])"
      ]
     },
     "execution_count": 22,
     "metadata": {},
     "output_type": "execute_result"
    }
   ],
   "source": [
    "lr.coef_"
   ]
  },
  {
   "cell_type": "code",
   "execution_count": 23,
   "metadata": {},
   "outputs": [
    {
     "data": {
      "text/plain": [
       "0.061239010211752265"
      ]
     },
     "execution_count": 23,
     "metadata": {},
     "output_type": "execute_result"
    }
   ],
   "source": [
    "lr.score(x_finaltest, y_finaltest)"
   ]
  },
  {
   "cell_type": "code",
   "execution_count": 24,
   "metadata": {},
   "outputs": [
    {
     "name": "stdout",
     "output_type": "stream",
     "text": [
      "Explained variance score: 0.06128863807841678\n",
      "Mean squared error: 0.2678642026655106\n",
      "R2 score: 0.061239010211752265\n"
     ]
    }
   ],
   "source": [
    "print(\"Explained variance score: %s\" % skmetrics.explained_variance_score(y_finaltest, lr_predict))\n",
    "\n",
    "print(\"Mean squared error: %s\" % skmetrics.mean_squared_error(y_finaltest, lr_predict))\n",
    "\n",
    "print(\"R2 score: %s\" % skmetrics.r2_score(y_finaltest, lr_predict))"
   ]
  },
  {
   "cell_type": "markdown",
   "metadata": {},
   "source": [
    "#### Explained variance score: 0.06139256012362426\n",
    "#### Mean squared error: 0.26688125801607593\n",
    "#### R2 score: 0.06132219546924733"
   ]
  },
  {
   "cell_type": "markdown",
   "metadata": {},
   "source": [
    "#### Wow, that R2 value is almost 0. This basically implies Log Score and Critical Flag has zero linear relations with Ratings. Lets run a correlation Coefficient"
   ]
  },
  {
   "cell_type": "code",
   "execution_count": 25,
   "metadata": {},
   "outputs": [
    {
     "data": {
      "text/html": [
       "<div>\n",
       "<style scoped>\n",
       "    .dataframe tbody tr th:only-of-type {\n",
       "        vertical-align: middle;\n",
       "    }\n",
       "\n",
       "    .dataframe tbody tr th {\n",
       "        vertical-align: top;\n",
       "    }\n",
       "\n",
       "    .dataframe thead th {\n",
       "        text-align: right;\n",
       "    }\n",
       "</style>\n",
       "<table border=\"1\" class=\"dataframe\">\n",
       "  <thead>\n",
       "    <tr style=\"text-align: right;\">\n",
       "      <th></th>\n",
       "      <th>Log_Score</th>\n",
       "      <th>RATINGS</th>\n",
       "      <th>CRITICAL_FLAG_Not Critical</th>\n",
       "    </tr>\n",
       "  </thead>\n",
       "  <tbody>\n",
       "    <tr>\n",
       "      <th>Log_Score</th>\n",
       "      <td>1.000000</td>\n",
       "      <td>-0.013244</td>\n",
       "      <td>-0.249923</td>\n",
       "    </tr>\n",
       "    <tr>\n",
       "      <th>RATINGS</th>\n",
       "      <td>-0.013244</td>\n",
       "      <td>1.000000</td>\n",
       "      <td>-0.013828</td>\n",
       "    </tr>\n",
       "    <tr>\n",
       "      <th>CRITICAL_FLAG_Not Critical</th>\n",
       "      <td>-0.249923</td>\n",
       "      <td>-0.013828</td>\n",
       "      <td>1.000000</td>\n",
       "    </tr>\n",
       "  </tbody>\n",
       "</table>\n",
       "</div>"
      ],
      "text/plain": [
       "                            Log_Score   RATINGS  CRITICAL_FLAG_Not Critical\n",
       "Log_Score                    1.000000 -0.013244                   -0.249923\n",
       "RATINGS                     -0.013244  1.000000                   -0.013828\n",
       "CRITICAL_FLAG_Not Critical  -0.249923 -0.013828                    1.000000"
      ]
     },
     "execution_count": 25,
     "metadata": {},
     "output_type": "execute_result"
    }
   ],
   "source": [
    "df_lin2.corr()"
   ]
  },
  {
   "cell_type": "code",
   "execution_count": 26,
   "metadata": {},
   "outputs": [
    {
     "data": {
      "text/plain": [
       "array([[<matplotlib.axes._subplots.AxesSubplot object at 0x10c1123c8>,\n",
       "        <matplotlib.axes._subplots.AxesSubplot object at 0x10d4ef208>,\n",
       "        <matplotlib.axes._subplots.AxesSubplot object at 0x10f01b208>],\n",
       "       [<matplotlib.axes._subplots.AxesSubplot object at 0x10f2e65f8>,\n",
       "        <matplotlib.axes._subplots.AxesSubplot object at 0x1c137bde48>,\n",
       "        <matplotlib.axes._subplots.AxesSubplot object at 0x1c137bde80>],\n",
       "       [<matplotlib.axes._subplots.AxesSubplot object at 0x1c1382feb8>,\n",
       "        <matplotlib.axes._subplots.AxesSubplot object at 0x1c13aaceb8>,\n",
       "        <matplotlib.axes._subplots.AxesSubplot object at 0x1c13ae4eb8>]],\n",
       "      dtype=object)"
      ]
     },
     "execution_count": 26,
     "metadata": {},
     "output_type": "execute_result"
    },
    {
     "data": {
      "image/png": "[encoded data removed]",
      "text/plain": [
       "<matplotlib.figure.Figure at 0x10d059e80>"
      ]
     },
     "metadata": {},
     "output_type": "display_data"
    }
   ],
   "source": [
    "pd.plotting.scatter_matrix(df_lin2, alpha = 0.5, figsize = (10, 10))"
   ]
  },
  {
   "cell_type": "markdown",
   "metadata": {},
   "source": [
    "### 2. Linear Regression - Log Score, Critical Flag, Zipcode, Cuisine_desc, Violation_code\n",
    "### New df for linear regression"
   ]
  },
  {
   "cell_type": "code",
   "execution_count": 39,
   "metadata": {},
   "outputs": [],
   "source": [
    "df_linear3_ex = df_ex.drop(['CAMIS',\n",
    "                            'BORO',\n",
    "                            'GRADE',\n",
    "                            'DBA',\n",
    "                            'VIOLATION_DESC',\n",
    "                            'ACTION',\n",
    "                            'INSPECTION_TYPE',\n",
    "                            'GRADE_DATE',\n",
    "                            'RECORD_DATE',\n",
    "                            'RATINGS'\n",
    "                         ], 1)\n",
    "\n",
    "df_linear3 = df_linear3_ex[df_linear3_ex.SCORE > 0]"
   ]
  },
  {
   "cell_type": "code",
   "execution_count": 40,
   "metadata": {},
   "outputs": [
    {
     "data": {
      "text/plain": [
       "Index(['ZIPCODE', 'CUISINE_DESC', 'VIOLATION_CODE', 'CRITICAL_FLAG', 'SCORE'], dtype='object')"
      ]
     },
     "execution_count": 40,
     "metadata": {},
     "output_type": "execute_result"
    }
   ],
   "source": [
    "df_linear3.columns"
   ]
  },
  {
   "cell_type": "code",
   "execution_count": 41,
   "metadata": {
    "scrolled": true
   },
   "outputs": [
    {
     "name": "stderr",
     "output_type": "stream",
     "text": [
      "/Users/allandong/anaconda/lib/python3.6/site-packages/ipykernel_launcher.py:1: SettingWithCopyWarning: \n",
      "A value is trying to be set on a copy of a slice from a DataFrame.\n",
      "Try using .loc[row_indexer,col_indexer] = value instead\n",
      "\n",
      "See the caveats in the documentation: http://pandas.pydata.org/pandas-docs/stable/indexing.html#indexing-view-versus-copy\n",
      "  \"\"\"Entry point for launching an IPython kernel.\n"
     ]
    }
   ],
   "source": [
    "df_linear3['Log_Score'] = df_linear3.loc[:,'SCORE'].apply(np.log)\n",
    "df_linear3_1hot = pd.get_dummies(df_linear3, drop_first = True, columns = ['ZIPCODE', \n",
    "                                                                           'CUISINE_DESC', \n",
    "                                                                           'VIOLATION_CODE',\n",
    "                                                                           'CRITICAL_FLAG'],)\n"
   ]
  },
  {
   "cell_type": "code",
   "execution_count": 42,
   "metadata": {},
   "outputs": [],
   "source": [
    "# print(list(df_linear3_1hot.columns))"
   ]
  },
  {
   "cell_type": "code",
   "execution_count": 43,
   "metadata": {},
   "outputs": [],
   "source": [
    "df_lin3 = df_linear3_1hot.drop(['SCORE'], 1)"
   ]
  },
  {
   "cell_type": "code",
   "execution_count": 44,
   "metadata": {},
   "outputs": [],
   "source": [
    "df_lin3_y = df_lin3['Log_Score']\n",
    "df_lin3_x = df_lin3.drop(['Log_Score'], 1)\n",
    "\n",
    "\n",
    "x_train3, x_test3, y_train3, y_test3 = train_test_split(df_lin3_x, df_lin3_y, test_size=0.2)"
   ]
  },
  {
   "cell_type": "code",
   "execution_count": 45,
   "metadata": {},
   "outputs": [],
   "source": [
    "lr = LinearRegression()\n",
    "\n",
    "lr.fit(x_train3, y_train3)\n",
    "lr_predict3 = lr.predict(x_test3)"
   ]
  },
  {
   "cell_type": "code",
   "execution_count": 46,
   "metadata": {},
   "outputs": [
    {
     "data": {
      "text/plain": [
       "0.19012094187013617"
      ]
     },
     "execution_count": 46,
     "metadata": {},
     "output_type": "execute_result"
    }
   ],
   "source": [
    "lr.score(x_test3, y_test3)"
   ]
  },
  {
   "cell_type": "code",
   "execution_count": 47,
   "metadata": {
    "scrolled": true
   },
   "outputs": [
    {
     "name": "stdout",
     "output_type": "stream",
     "text": [
      "Explained variance score/R2: 0.19023508649938536\n",
      "Mean squared error: 0.23497510053132822\n",
      "R2 score: 0.19012094187013617\n"
     ]
    }
   ],
   "source": [
    "print(\"Explained variance score/R2: %s\" % skmetrics.explained_variance_score(y_test3, lr_predict3))\n",
    "\n",
    "print(\"Mean squared error: %s\" % skmetrics.mean_squared_error(y_test3, lr_predict3))\n",
    "\n",
    "print(\"R2 score: %s\" % skmetrics.r2_score(y_test3, lr_predict3))"
   ]
  },
  {
   "cell_type": "markdown",
   "metadata": {},
   "source": [
    "#### Explained variance score/R2: 0.19372447507258217\n",
    "#### Mean squared error: 0.2310286830766006\n",
    "#### R2 score: 0.1937222246447956"
   ]
  },
  {
   "cell_type": "markdown",
   "metadata": {},
   "source": [
    "### R2 score higher this time, but still produces a poor model to predict Log_Score.\n",
    "### Significantly increased number of features from one-hotting also likely to have caused higher R2 score"
   ]
  },
  {
   "cell_type": "markdown",
   "metadata": {},
   "source": [
    "#### Log_score is still effectively a numerical dependent variable and all of my indpendent variables are effectively categorical. "
   ]
  },
  {
   "cell_type": "code",
   "execution_count": null,
   "metadata": {},
   "outputs": [],
   "source": []
  },
  {
   "cell_type": "code",
   "execution_count": null,
   "metadata": {},
   "outputs": [],
   "source": []
  },
  {
   "cell_type": "code",
   "execution_count": null,
   "metadata": {},
   "outputs": [],
   "source": []
  },
  {
   "cell_type": "code",
   "execution_count": 36,
   "metadata": {},
   "outputs": [
    {
     "data": {
      "text/plain": [
       "array([ 1.78662644e-01,  1.87879365e-01,  1.92745473e-01, -1.03861083e+20,\n",
       "       -4.69925857e+16])"
      ]
     },
     "execution_count": 36,
     "metadata": {},
     "output_type": "execute_result"
    }
   ],
   "source": [
    "cross_val_score(lr, df_lin3_x, df_lin3_y, cv=5)"
   ]
  },
  {
   "cell_type": "code",
   "execution_count": null,
   "metadata": {},
   "outputs": [],
   "source": [
    "# Huh, is there really no correlation betwen score and any of these categories? Plot Predicted vs Actual values"
   ]
  },
  {
   "cell_type": "code",
   "execution_count": null,
   "metadata": {},
   "outputs": [],
   "source": [
    "real_predict = pd.Series(np.exp(lr_predict3), name = 'real_predict')\n",
    "real_y_test3 = pd.Series(np.exp(y_test3),name = 'real_test')\n",
    "\n",
    "\n",
    "#real_y_test3['Real_Predict'] = real_predict\n",
    "\n",
    "df_real_predict = pd.DataFrame(real_y_test3).join(real_predict)\n",
    "\n"
   ]
  },
  {
   "cell_type": "code",
   "execution_count": null,
   "metadata": {},
   "outputs": [],
   "source": []
  },
  {
   "cell_type": "code",
   "execution_count": null,
   "metadata": {},
   "outputs": [],
   "source": []
  },
  {
   "cell_type": "code",
   "execution_count": null,
   "metadata": {},
   "outputs": [],
   "source": [
    "# Plot log_predicted vs log_actual values\n",
    "x = lr_predict3\n",
    "y = y_test3\n",
    "\n",
    "plt.scatter(x, y)"
   ]
  },
  {
   "cell_type": "code",
   "execution_count": null,
   "metadata": {},
   "outputs": [],
   "source": [
    "# Plot predicted vs actual values\n",
    "x = real_predict\n",
    "y = real_y_test3\n",
    "\n",
    "plt.scatter(x, y)"
   ]
  },
  {
   "cell_type": "code",
   "execution_count": null,
   "metadata": {},
   "outputs": [],
   "source": [
    "# Plot residuals of log_predicted\n",
    "\n",
    "lr_residuals = lr_predict3 - y_test3\n",
    "\n",
    "x = lr_predict3\n",
    "y = lr_residuals\n",
    "\n",
    "plt.scatter(x, y)"
   ]
  },
  {
   "cell_type": "code",
   "execution_count": null,
   "metadata": {},
   "outputs": [],
   "source": [
    "# Plot residuals of actual_predicted\n",
    "\n",
    "real_residuals = real_predict - real_y_test3\n",
    "\n",
    "x = real_predict\n",
    "y = real_residuals\n",
    "\n"
   ]
  },
  {
   "cell_type": "code",
   "execution_count": null,
   "metadata": {},
   "outputs": [],
   "source": []
  },
  {
   "cell_type": "code",
   "execution_count": null,
   "metadata": {},
   "outputs": [],
   "source": []
  },
  {
   "cell_type": "code",
   "execution_count": null,
   "metadata": {},
   "outputs": [],
   "source": [
    "lr_residuals.head()"
   ]
  },
  {
   "cell_type": "code",
   "execution_count": null,
   "metadata": {},
   "outputs": [],
   "source": []
  },
  {
   "cell_type": "code",
   "execution_count": 52,
   "metadata": {},
   "outputs": [],
   "source": [
    "def kfolds_cv(x, y, n):\n",
    "    kf = KFold(n_splits=n, shuffle=True, random_state=42)\n",
    "    trainsets = []\n",
    "    testsets = []\n",
    "    for train, test in kf.split(x, y):\n",
    "        trainsets.append(train)\n",
    "        testsets.append(test)\n",
    "    return trainsets, testsets\n",
    "\n",
    "trainsets, testsets = kfolds_cv(x_train, y_train, 5)"
   ]
  },
  {
   "cell_type": "code",
   "execution_count": null,
   "metadata": {},
   "outputs": [],
   "source": []
  },
  {
   "cell_type": "code",
   "execution_count": null,
   "metadata": {},
   "outputs": [],
   "source": []
  },
  {
   "cell_type": "code",
   "execution_count": null,
   "metadata": {},
   "outputs": [],
   "source": []
  },
  {
   "cell_type": "code",
   "execution_count": null,
   "metadata": {},
   "outputs": [],
   "source": []
  },
  {
   "cell_type": "code",
   "execution_count": 53,
   "metadata": {},
   "outputs": [],
   "source": [
    "\n",
    "\n",
    "#for i in range(0, len(trainsets)):\n",
    "#    print(lr.fit(trainsets[i], testsets[i]).score)"
   ]
  },
  {
   "cell_type": "code",
   "execution_count": null,
   "metadata": {},
   "outputs": [],
   "source": [
    "def modelprints(algo, X, y, trainfold, testfold):\n",
    "    algs = algo()\n",
    "    fitted_model = algs.fit(X.iloc[trainfold], y[trainfold])\n",
    "    yhat = algs.predict_proba(X.iloc[testfold])\n",
    "    accuracy = algs.score(X.iloc[testfold], y[testfold])\n",
    "    auscore = roc_auc_score(y[testfold],yhat[:,1])\n",
    "    print('for fold '+ str(i+1) + ' accuracy = ' + str(accuracy) + ' and auc score = ' + str(auscore))\n",
    "    \n",
    "def modelfits(algo, X, y, trainfold, testfold):\n",
    "    algs = algo()\n",
    "    fitted_model = algs.fit(X.iloc[trainfold], y[trainfold])\n",
    "    yhat = algs.predict_proba(X.iloc[testfold])\n",
    "    return yhat[:,1]"
   ]
  },
  {
   "cell_type": "code",
   "execution_count": null,
   "metadata": {},
   "outputs": [],
   "source": [
    "for i in range(0, len(trainsets)):\n",
    "    print('\\nFor fold '+ str(i+1) + ':')\n",
    "    print('Log Reg  : ', end='')\n",
    "    modelprints(LogisticRegression(), df_lin2_x, logscore, trainsets[i], testsets[i])\n"
   ]
  },
  {
   "cell_type": "code",
   "execution_count": null,
   "metadata": {},
   "outputs": [],
   "source": []
  },
  {
   "cell_type": "code",
   "execution_count": null,
   "metadata": {},
   "outputs": [],
   "source": []
  },
  {
   "cell_type": "markdown",
   "metadata": {
    "collapsed": true
   },
   "source": [
    "Remove all grades with that are not A, B or C"
   ]
  },
  {
   "cell_type": "code",
   "execution_count": null,
   "metadata": {},
   "outputs": [],
   "source": []
  },
  {
   "cell_type": "code",
   "execution_count": null,
   "metadata": {},
   "outputs": [],
   "source": [
    "dfex_cols_viol = ['RATINGS', 'SCORE', 'CRITICAL_FLAG', 'GRADE', 'VIOLATION_CODE']\n",
    "dfex_viol_pre = df_ex[dfex_cols_viol]\n",
    "\n",
    "\n",
    "df_ex_prex = df_ex.drop(['ZIPCODE', 'CUISINE_DESC', 'URL', 'YELP_RATINGS'],\n",
    "           axis = 1)\n",
    "\n"
   ]
  },
  {
   "cell_type": "code",
   "execution_count": null,
   "metadata": {},
   "outputs": [],
   "source": [
    "critical_flag_patsy = patsy.dmatrix('CRITICAL_FLAG', data=dfex, return_type='dataframe').drop('Intercept', 1)\n",
    "grade_num_patsy = patsy.dmatrix('GRADE', data=dfex, return_type='dataframe').drop('Intercept', 1)\n",
    "violation_code_patsy = patsy.dmatrix('VIOLATION_CODE', data=dfex, return_type=\"dataframe\").drop('Intercept', 1)\n",
    "\n"
   ]
  },
  {
   "cell_type": "code",
   "execution_count": null,
   "metadata": {},
   "outputs": [],
   "source": [
    "dfex_patsy = pd.concat([dfex, grade_num_patsy, critical_flag_patsy, violation_code_patsy], \n",
    "                      axis = 1, join_axes = [dfex.index])\n",
    "\n",
    "\n",
    "\n",
    "\n",
    "dfex = dfex_viol_pre.drop(['GRADE', 'CRITICAL_FLAG', 'VIOLATION_CODE'], 1)\n",
    "dfex_viol = dfex_viol_pre.drop(['GRADE', 'CRITICAL_FLAG'], 1)\n"
   ]
  },
  {
   "cell_type": "code",
   "execution_count": null,
   "metadata": {},
   "outputs": [],
   "source": []
  },
  {
   "cell_type": "code",
   "execution_count": null,
   "metadata": {},
   "outputs": [],
   "source": [
    "\n",
    "\n",
    "#cuisine_desc = pd.get_dummies(df_exx['CUISINE_DESC'])\n",
    "#critical_flag = pd.get_dummies(df_exx['CRITICAL_FLAG'])\n",
    "#grade_num = pd.get_dummies(df_exx['GRADE'])\n",
    "\n",
    "\n"
   ]
  },
  {
   "cell_type": "code",
   "execution_count": null,
   "metadata": {},
   "outputs": [],
   "source": [
    "df_exx = df_ex_prex\n",
    "\n",
    "\n",
    "critical_flag_patsy = patsy.dmatrix('CRITICAL_FLAG', data=df_exx, return_type='dataframe').drop('Intercept', 1)\n",
    "grade_num_patsy = patsy.dmatrix('GRADE', data=df_exx, return_type='dataframe').drop('Intercept', 1)\n",
    "violation_code_patsy = patsy.dmatrix('VIOLATION_CODE', data=df_exx, return_type=\"dataframe\").drop('Intercept', 1)\n",
    "\n",
    "\n",
    "#df_exx = pd.concat([df_exx, grade_num, critical_flag], axis = 1, join_axes = [df_exx.index])\n",
    "df_exx = pd.concat([df_exx, \n",
    "                    grade_num_patsy, \n",
    "                    critical_flag_patsy, \n",
    "                    violation_code_patsy\n",
    "                   ], axis = 1, join_axes = [df_exx.index])\n",
    "\n",
    "df_exx = df_exx.drop(['VIOLATION_CODE', 'CRITICAL_FLAG', 'GRADE'],\n",
    "           axis = 1)\n",
    "\n",
    "\n"
   ]
  },
  {
   "cell_type": "code",
   "execution_count": null,
   "metadata": {},
   "outputs": [],
   "source": []
  },
  {
   "cell_type": "code",
   "execution_count": null,
   "metadata": {},
   "outputs": [],
   "source": [
    "dfex_patsy.head()"
   ]
  },
  {
   "cell_type": "markdown",
   "metadata": {},
   "source": [
    "Check each column for non numeric values"
   ]
  },
  {
   "cell_type": "markdown",
   "metadata": {},
   "source": [
    "Examine data and preliminary analysis of R2"
   ]
  },
  {
   "cell_type": "code",
   "execution_count": null,
   "metadata": {
    "scrolled": false
   },
   "outputs": [],
   "source": [
    "sns.set_context(\"paper\")\n",
    "sns.pairplot(dfex_patsy[['SCORE','RATINGS', 'GRADE[T.B]', 'GRADE[T.C]',\n",
    "       'CRITICAL_FLAG[T.Not Critical]']], kind=\"scatter\", diag_kind=\"hist\")\n"
   ]
  },
  {
   "cell_type": "code",
   "execution_count": null,
   "metadata": {},
   "outputs": [],
   "source": [
    "dfex_patsy.rename(columns={'CRITICAL_FLAG[T.Not Critical]':'CRITICAL_FLAG[T.NotCritical]'}, inplace=True)"
   ]
  },
  {
   "cell_type": "code",
   "execution_count": null,
   "metadata": {},
   "outputs": [],
   "source": []
  },
  {
   "cell_type": "code",
   "execution_count": null,
   "metadata": {},
   "outputs": [],
   "source": [
    "dfex.corr()"
   ]
  },
  {
   "cell_type": "code",
   "execution_count": null,
   "metadata": {},
   "outputs": [],
   "source": [
    "dfex_patsy"
   ]
  },
  {
   "cell_type": "code",
   "execution_count": null,
   "metadata": {},
   "outputs": [],
   "source": []
  },
  {
   "cell_type": "code",
   "execution_count": null,
   "metadata": {
    "scrolled": true
   },
   "outputs": [],
   "source": [
    "y, X = patsy.dmatrices('RATINGS ~ SCORE + RATINGS + GRADE[T.B] + GRADE[T.C] + CRITICAL_FLAG[T.NotCritical]', \n",
    "                       data=dfex_patsy, return_type=\"dataframe\")\n",
    "model = sm.OLS(y, X)\n",
    "fit = model.fit()\n",
    "fit.summary()\n",
    "\n",
    "\n",
    "#lml = smf.ols('Y ')"
   ]
  },
  {
   "cell_type": "markdown",
   "metadata": {},
   "source": [
    "Check R2 with LinearRegression\n",
    "\n",
    "\n",
    "Legend:\n",
    "\n",
    "dfex : [y = 'RATINGS', x = 'SCORE', 'GRADE_NUM', 'CRIT_FLAG_NUM']\n",
    "\n",
    "dfex1 : [y = 'SCORE', x ='RATINGS', 'GRADE_NUM', 'CRIT_FLAG_NUM']\n",
    "\n",
    "dfex2 : [y = 'SCORE', x ='RATINGS', 'CRIT_FLAG_NUM']\n",
    "\n",
    "dfex1_viol : [y = 'SCORE', x = 'RATINGS', 'GRADE_NUM', 'CRIT_FLAG_NUM', VIOLATION_CODE-dummies]\n",
    "\n",
    "dfex2_viol : [y = 'SCORE', x = 'RATINGS', 'CRIT_FLAG_NUM', VIOLATION_CODE-dummies]"
   ]
  },
  {
   "cell_type": "code",
   "execution_count": null,
   "metadata": {},
   "outputs": [],
   "source": []
  },
  {
   "cell_type": "code",
   "execution_count": null,
   "metadata": {},
   "outputs": [],
   "source": []
  },
  {
   "cell_type": "code",
   "execution_count": null,
   "metadata": {},
   "outputs": [],
   "source": [
    "\n",
    "dfex1_cols = ['SCORE', 'RATINGS', 'GRADE[T.B]', 'GRADE[T.C]', 'CRITICAL_FLAG[T.Not Critical]']\n",
    "dfex1= dfex_patsy[dfex1_cols]\n",
    "\n",
    "\n",
    "dfex1_viol = dfex_patsy"
   ]
  },
  {
   "cell_type": "code",
   "execution_count": null,
   "metadata": {},
   "outputs": [],
   "source": [
    "dfex2 = dfex1.drop(['GRADE[T.B]', 'GRADE[T.C]'], 1)\n",
    "dfex2_viol = dfex1_viol.drop(['GRADE[T.B]', 'GRADE[T.C]'], 1)\n"
   ]
  },
  {
   "cell_type": "code",
   "execution_count": null,
   "metadata": {},
   "outputs": [],
   "source": []
  },
  {
   "cell_type": "code",
   "execution_count": null,
   "metadata": {},
   "outputs": [],
   "source": [
    "lr = LinearRegression()\n",
    "X = dfex1.iloc[:, 1:]\n",
    "y = dfex1.iloc[:, 0]\n",
    "\n",
    "lr.fit(X, y)\n",
    "lr.score(X,y)"
   ]
  },
  {
   "cell_type": "code",
   "execution_count": null,
   "metadata": {},
   "outputs": [],
   "source": [
    "lr = LinearRegression(fit_intercept = True)\n",
    "\n",
    "\n",
    "\n",
    "\n",
    "\n",
    "X = dfex2.iloc[:, 1:]\n",
    "y = dfex2.SCORE\n",
    "lr.fit(X,y)\n",
    "lr.score(X,y)\n",
    "#print('X: ', list(X))\n",
    "#print(dfex2.columns)"
   ]
  },
  {
   "cell_type": "code",
   "execution_count": null,
   "metadata": {},
   "outputs": [],
   "source": [
    "dfex2.columns"
   ]
  },
  {
   "cell_type": "code",
   "execution_count": null,
   "metadata": {},
   "outputs": [],
   "source": [
    "\n",
    "X = dfex1_viol.iloc[:, 1:]\n",
    "y = dfex1_viol.iloc[:, 0]\n",
    "\n",
    "lr.fit(X, y)\n",
    "lr.score(X,y)"
   ]
  },
  {
   "cell_type": "code",
   "execution_count": null,
   "metadata": {},
   "outputs": [],
   "source": [
    "X = dfex2_viol.iloc[:, 1:]\n",
    "y = dfex2_viol.iloc[:, 0]\n",
    "\n",
    "lr.fit(X,y)\n",
    "lr.score(X,y)"
   ]
  },
  {
   "cell_type": "code",
   "execution_count": null,
   "metadata": {},
   "outputs": [],
   "source": [
    "dfex2_viol_cols = ''\n",
    "for i in dfex2_viol.columns:\n",
    "    dfex2_viol_cols += i + \"+\"\n",
    "dfex2_viol_patsy_str = 'SCORE ~ '+ dfex2_viol_cols[6:-1]\n",
    "dfex2_viol_patsy_str\n"
   ]
  },
  {
   "cell_type": "code",
   "execution_count": null,
   "metadata": {
    "scrolled": true
   },
   "outputs": [],
   "source": [
    "dfex_patsy.columns"
   ]
  },
  {
   "cell_type": "code",
   "execution_count": null,
   "metadata": {
    "scrolled": true
   },
   "outputs": [],
   "source": [
    "dfex_patsy1 = dfex_patsy.drop(['GRADE', 'VIOLATION_CODE', 'CRITICAL_FLAG'],1 )\n",
    "\n",
    "y_dfex2 = dfex_patsy1.SCORE\n",
    "X_dfex2 = dfex_patsy1.drop(['SCORE'], 1)\n",
    "\n",
    "model_dfex2 = sm.OLS(y_dfex2, X_dfex2)\n",
    "fit_dfex2 =model_dfex2.fit()\n",
    "fit_dfex2.summary()\n"
   ]
  },
  {
   "cell_type": "code",
   "execution_count": null,
   "metadata": {},
   "outputs": [],
   "source": [
    "critical_flag_patsy = patsy.dmatrix('CRITICAL_FLAG', data=df_ex, return_type='dataframe').drop('Intercept', 1)\n",
    "grade_num_patsy = patsy.dmatrix('GRADE', data=df_ex, return_type='dataframe').drop('Intercept', 1)\n",
    "violation_code_patsy = patsy.dmatrix('VIOLATION_CODE', data=df_ex, return_type=\"dataframe\").drop('Intercept', 1)\n",
    "zipcode_patsy = patsy.dmatrix('ZIPCODE', data=df_ex, return_type=\"dataframe\").drop('Intercept', 1)\n",
    "\n",
    "df_dummy_cgvz = pd.concat([df_ex, \n",
    "#                      grade_num_patsy, \n",
    "#                      critical_flag_patsy, \n",
    "#                      violation_code_patsy,\n",
    "                      zipcode_patsy\n",
    "                   ], axis = 1, join_axes = [df_exx.index])\n",
    "\n",
    "df_dummy_cgvz = df_dummy_cgvz.drop(['VIOLATION_CODE', \n",
    "                                    'CRITICAL_FLAG', \n",
    "                                    'GRADE', \n",
    "                                    'ZIPCODE', \n",
    "                                    'CUISINE_DESC',\n",
    "                                    'URL',\n",
    "                                    'YELP_RATINGS'\n",
    "                                   ],axis = 1)\n",
    "\n",
    "df_dummy_cgvz.columns\n"
   ]
  },
  {
   "cell_type": "code",
   "execution_count": null,
   "metadata": {},
   "outputs": [],
   "source": [
    "master = dfex2\n",
    "#df_dummy_cgvz\n",
    "y = master.SCORE\n",
    "X= master.drop(['SCORE'], 1)\n",
    "\n",
    "print(X.columns)\n",
    "\n",
    "model_dfex2 = sm.OLS(y, X)\n",
    "fit_dfex2 =model_dfex2.fit()\n",
    "fit_dfex2.summary()\n"
   ]
  },
  {
   "cell_type": "code",
   "execution_count": null,
   "metadata": {},
   "outputs": [],
   "source": [
    "df_ex.columns"
   ]
  },
  {
   "cell_type": "code",
   "execution_count": null,
   "metadata": {},
   "outputs": [],
   "source": [
    "lr = LinearRegression()\n",
    "\n",
    "df_exx_lr= df_exx.drop(['GRADE[T.B]', 'GRADE[T.C]'], 1)\n",
    "X = df_exx_lr.drop(['RATINGS'], 1)\n",
    "y = df_exx_lr.RATINGS\n",
    "\n",
    "lr.fit(X, y)\n",
    "lr.score(X, y)"
   ]
  },
  {
   "cell_type": "code",
   "execution_count": null,
   "metadata": {},
   "outputs": [],
   "source": [
    "df_exx_lr.columns"
   ]
  },
  {
   "cell_type": "code",
   "execution_count": null,
   "metadata": {},
   "outputs": [],
   "source": [
    "reg = LinearRegression()\n",
    "X = df_exx.iloc[:, 1:]\n",
    "y = df_exx.iloc[:, 0]\n",
    "scores = cross_val_score(reg, X, y, cv=10, scoring='neg_mean_squared_error')\n",
    "\n",
    "# scores output is negative, a sklearn quirk bc mse is used to min. optimization func.\n",
    "print(-scores)"
   ]
  },
  {
   "cell_type": "code",
   "execution_count": null,
   "metadata": {},
   "outputs": [],
   "source": [
    "sns.pairplot(dfex_patsy[['SCORE', 'RATINGS','GRADE[T.B]','GRADE[T.C]','CRITICAL_FLAG[T.Not Critical]']], \n",
    "                       kind=\"scatter\",\n",
    "                       diag_kind=\"hist\"\n",
    "                       )\n"
   ]
  },
  {
   "cell_type": "code",
   "execution_count": null,
   "metadata": {},
   "outputs": [],
   "source": []
  },
  {
   "cell_type": "code",
   "execution_count": null,
   "metadata": {},
   "outputs": [],
   "source": []
  },
  {
   "cell_type": "code",
   "execution_count": null,
   "metadata": {},
   "outputs": [],
   "source": []
  },
  {
   "cell_type": "code",
   "execution_count": null,
   "metadata": {
    "scrolled": false
   },
   "outputs": [],
   "source": [
    "dfex2_viol_cols = ''\n",
    "for i in dfex2_viol.columns:\n",
    "    dfex2_viol_cols += i + \"+\"\n",
    "dfex2_viol_patsy_str = 'SCORE ~ '+ dfex2_viol_cols[6:-1]\n",
    "dfex2_viol_patsy_str"
   ]
  },
  {
   "cell_type": "code",
   "execution_count": null,
   "metadata": {
    "scrolled": false
   },
   "outputs": [],
   "source": [
    "'''y, X = patsy.dmatrices(dfex2_viol_patsy_str,\n",
    "                       data=dfex2_viol, return_type=\"dataframe\")\n",
    "model = sm.OLS(y, X)\n",
    "fit = model.fit()\n",
    "fit.summary()\n",
    "'''"
   ]
  },
  {
   "cell_type": "code",
   "execution_count": null,
   "metadata": {},
   "outputs": [],
   "source": []
  },
  {
   "cell_type": "code",
   "execution_count": null,
   "metadata": {},
   "outputs": [],
   "source": [
    "'''df_exx_cols = ''\n",
    "for i in df_exx.columns:\n",
    "    df_exx_cols += i + \" + \"\n",
    "df_exx_cols = \"SCORE ~ \" + df_exx_cols[8:-3] \n",
    "df_exx_cols'''"
   ]
  },
  {
   "cell_type": "code",
   "execution_count": null,
   "metadata": {},
   "outputs": [],
   "source": [
    "'''y_df_exx, X_df_exxx = patsy.dmatrices(df_exx_cols, data=df_exx, return_type=\"dataframe\")\n",
    "model_df_exx = sm.OLS(y_df_exx, X_df_exx)\n",
    "fit_df_exx = model_df_exx.fit()\n",
    "fit_df_exx.summary()'''"
   ]
  },
  {
   "cell_type": "markdown",
   "metadata": {
    "collapsed": true
   },
   "source": [
    "# Violation Code"
   ]
  },
  {
   "cell_type": "code",
   "execution_count": null,
   "metadata": {
    "scrolled": true
   },
   "outputs": [],
   "source": [
    "df_viol = df_clean.drop(['CAMIS', \n",
    "                          'DBA',\n",
    "                          'BORO', \n",
    "                          'BUILDING', \n",
    "                          'STREET', \n",
    "                          'ZIPCODE',\n",
    "                          'PHONE',\n",
    "                          'CUISINE_DESC',\n",
    "                          'INSPECTION_DATE',\n",
    "                          'ACTION',\n",
    "                          'SCORE',\n",
    "                          'GRADE',\n",
    "                          'GRADE_DATE',\n",
    "                          'RECORD_DATE',\n",
    "                          'INSPECTION_TYPE',\n",
    "                          'ADDRESS',\n",
    "                          'URL'\n",
    "                         ], 1)\n",
    "df_viol = df_viol.drop_duplicates(subset='VIOLATION_CODE')\n",
    "df_viol =df_viol.sort_values(['VIOLATION_CODE'])\n",
    "df_viol.head(60)"
   ]
  },
  {
   "cell_type": "markdown",
   "metadata": {},
   "source": [
    "\n",
    "# Data Exploration 2/2"
   ]
  },
  {
   "cell_type": "code",
   "execution_count": null,
   "metadata": {},
   "outputs": [],
   "source": [
    "df_ex.head()"
   ]
  },
  {
   "cell_type": "code",
   "execution_count": null,
   "metadata": {},
   "outputs": [],
   "source": [
    "sns.set_context(\"talk\")\n",
    "score = dfex_viol['SCORE']\n",
    "sns.distplot(score, kde = False)"
   ]
  },
  {
   "cell_type": "code",
   "execution_count": null,
   "metadata": {},
   "outputs": [],
   "source": [
    "sns.set_context(\"poster\")\n",
    "\n",
    "data1=dfex_viol.sort_values(['VIOLATION_CODE'][-1])\n",
    "\n",
    "yaxes = dfex_viol.sort_values(['VIOLATION_CODE'][-1])['VIOLATION_CODE']\n",
    "xaxes = dfex_viol.sort_values(['VIOLATION_CODE'][-1])['SCORE']\n",
    "sns.boxplot(x=xaxes, y=yaxes, data=data1)"
   ]
  },
  {
   "cell_type": "code",
   "execution_count": null,
   "metadata": {
    "scrolled": true
   },
   "outputs": [],
   "source": [
    "sns.set_context(\"poster\")\n",
    "\n",
    "data1=dfex_viol.sort_values(['VIOLATION_CODE'][-1])\n",
    "\n",
    "yaxes = dfex_viol.sort_values(['VIOLATION_CODE'][-1])['VIOLATION_CODE']\n",
    "xaxes = dfex_viol.sort_values(['VIOLATION_CODE'][-1])['SCORE']\n",
    "sns.boxplot(x=xaxes, y=yaxes, data=data1, ax = (16, 30))"
   ]
  },
  {
   "cell_type": "code",
   "execution_count": null,
   "metadata": {
    "scrolled": true
   },
   "outputs": [],
   "source": [
    "\n",
    "score = dfex_viol['SCORE']\n",
    "sns.distplot(score)"
   ]
  },
  {
   "cell_type": "code",
   "execution_count": null,
   "metadata": {},
   "outputs": [],
   "source": [
    "data1=dfex_viol.sort_values(['VIOLATION_CODE'][-1])\n",
    "y = dfex_viol.sort_values(['VIOLATION_CODE'][-1])['VIOLATION_CODE']\n",
    "\n"
   ]
  },
  {
   "cell_type": "code",
   "execution_count": null,
   "metadata": {},
   "outputs": [],
   "source": []
  },
  {
   "cell_type": "markdown",
   "metadata": {},
   "source": [
    "# Plot"
   ]
  },
  {
   "cell_type": "code",
   "execution_count": null,
   "metadata": {},
   "outputs": [],
   "source": [
    "x =df_ex.SCORE\n",
    "y = df_ex.RATINGS\n",
    "\n",
    "sns.regplot(x, y)"
   ]
  },
  {
   "cell_type": "code",
   "execution_count": null,
   "metadata": {},
   "outputs": [],
   "source": [
    "sns.regplot(y, x)"
   ]
  },
  {
   "cell_type": "code",
   "execution_count": null,
   "metadata": {},
   "outputs": [],
   "source": [
    "x =df_ex.SCORE\n",
    "y = df_ex.RATINGS.apply(,1)\n",
    "\n",
    "sns.regplot(x, y)"
   ]
  },
  {
   "cell_type": "code",
   "execution_count": null,
   "metadata": {},
   "outputs": [],
   "source": []
  },
  {
   "cell_type": "code",
   "execution_count": null,
   "metadata": {},
   "outputs": [],
   "source": []
  },
  {
   "cell_type": "code",
   "execution_count": null,
   "metadata": {},
   "outputs": [],
   "source": []
  },
  {
   "cell_type": "code",
   "execution_count": null,
   "metadata": {},
   "outputs": [],
   "source": []
  }
 ],
 "metadata": {
  "kernelspec": {
   "display_name": "Python 3",
   "language": "python",
   "name": "python3"
  },
  "language_info": {
   "codemirror_mode": {
    "name": "ipython",
    "version": 3
   },
   "file_extension": ".py",
   "mimetype": "text/x-python",
   "name": "python",
   "nbconvert_exporter": "python",
   "pygments_lexer": "ipython3",
   "version": "3.6.4"
  }
 },
 "nbformat": 4,
 "nbformat_minor": 2
}
